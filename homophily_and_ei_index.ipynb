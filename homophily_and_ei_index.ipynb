{
 "cells": [
  {
   "cell_type": "markdown",
   "source": [
    "## Read the graphml file and filter it accordingly"
   ],
   "metadata": {
    "collapsed": false
   },
   "id": "7f494ec3620728eb"
  },
  {
   "cell_type": "code",
   "outputs": [],
   "source": [
    "import networkx as nx\n",
    "import pandas as pd\n",
    "# Load the graphml file again\n",
    "file_path = 'bioneer2.graphml'\n",
    "G = nx.read_graphml(file_path)\n",
    "\n",
    "# Filter the graph to only include channels with subscriberCount between 50000 and 8318210\n",
    "G = G.subgraph([node for node in G.nodes() if 50000 <= G.nodes[node]['subscribercount'] <= 8318210])"
   ],
   "metadata": {
    "collapsed": true,
    "ExecuteTime": {
     "end_time": "2024-01-24T11:36:29.361976500Z",
     "start_time": "2024-01-24T11:36:28.531934500Z"
    }
   },
   "id": "initial_id",
   "execution_count": 1
  },
  {
   "cell_type": "markdown",
   "source": [
    "## Find homophily for different attributes of the channels using various ways\n",
    "\n",
    "- 2pq\n",
    "- Assortativity\n",
    "- E-I Index"
   ],
   "metadata": {
    "collapsed": false
   },
   "id": "7e6d2ce4d5f66a51"
  },
  {
   "cell_type": "code",
   "outputs": [
    {
     "name": "stdout",
     "output_type": "stream",
     "text": [
      "Number of cross-category edges: 404\n",
      "Number of edges: 604\n",
      "Homophily: 0.33112582781456956\n",
      "535000.0\n",
      "1520000.0\n"
     ]
    }
   ],
   "source": [
    "# Create a dataframe with the subscriber count of each node\n",
    "video_df = pd.DataFrame({'subscribercount': [G.nodes[node]['subscribercount'] for node in G.nodes()]})\n",
    "\n",
    "# Define thresholds for low, mid, and high subscriber counts\n",
    "# For example, using quantiles\n",
    "low_threshold = video_df['subscribercount'].quantile(0.4)\n",
    "high_threshold = video_df['subscribercount'].quantile(0.7)\n",
    "\n",
    "# Categorize subscriber counts\n",
    "def categorize_subscriber_count(count):\n",
    "    if count <= low_threshold:\n",
    "        return 'low'\n",
    "    elif count <= high_threshold:\n",
    "        return 'mid'\n",
    "    else:\n",
    "        return 'high'\n",
    "\n",
    "# Add the category to each node in the graph\n",
    "for node in G.nodes():\n",
    "    G.nodes[node]['category'] = categorize_subscriber_count(G.nodes[node]['subscribercount'])\n",
    "\n",
    "# Calculate the number of cross-category edges\n",
    "cross_category_edges = len([edge for edge in G.edges() if G.nodes[edge[0]]['category'] != G.nodes[edge[1]]['category']])\n",
    "\n",
    "# Calculate the total number of edges\n",
    "total_edges = G.number_of_edges()\n",
    "\n",
    "# Calculate the homophily\n",
    "homophily = 1 - (cross_category_edges / total_edges)\n",
    "\n",
    "# Output the results\n",
    "print(\"Number of cross-category edges:\", cross_category_edges)\n",
    "print(\"Number of edges:\", total_edges)\n",
    "print(\"Homophily:\", homophily)\n",
    "print(low_threshold)\n",
    "print(high_threshold)"
   ],
   "metadata": {
    "collapsed": false,
    "ExecuteTime": {
     "end_time": "2024-01-24T11:36:29.381387700Z",
     "start_time": "2024-01-24T11:36:29.362980500Z"
    }
   },
   "id": "d0ff1e5a36139fef",
   "execution_count": 2
  },
  {
   "cell_type": "code",
   "outputs": [
    {
     "name": "stdout",
     "output_type": "stream",
     "text": [
      "Expected number of cross-edges: 290.5670236072153\n",
      "Actual number of cross-edges: 404\n",
      "Evidence of homophily: 0.33112582781456956\n"
     ]
    }
   ],
   "source": [
    "p = sum(1 for node, attr in G.nodes(data=True) if attr.get('category') == 'low') / G.number_of_nodes()\n",
    "q = 1 - p\n",
    "expected_cross_edges = 2 * p * q * total_edges\n",
    "\n",
    "# Calculate the actual number of cross-edges\n",
    "actual_cross_edges = sum(1 for u, v in G.edges() if G.nodes[u]['category'] != G.nodes[v]['category'])\n",
    "\n",
    "# Calculate the homophily\n",
    "homophily = 1 - (cross_category_edges / total_edges)\n",
    "\n",
    "print(f'Expected number of cross-edges: {expected_cross_edges}')\n",
    "print(f'Actual number of cross-edges: {actual_cross_edges}')\n",
    "print(f'Evidence of homophily: {homophily}')"
   ],
   "metadata": {
    "collapsed": false,
    "ExecuteTime": {
     "end_time": "2024-01-24T11:36:29.382393100Z",
     "start_time": "2024-01-24T11:36:29.377801200Z"
    }
   },
   "id": "cf5c3e052611c1c5",
   "execution_count": 3
  },
  {
   "cell_type": "code",
   "outputs": [
    {
     "name": "stdout",
     "output_type": "stream",
     "text": [
      "Country Assortativity Coefficient: 0.039\n",
      "Subscriber count Assortativity Coefficient: -0.005\n",
      "Video count Assortativity Coefficient: -0.005\n",
      "View count Assortativity Coefficient: -0.005\n"
     ]
    }
   ],
   "source": [
    "# Calculate assortativity for all the attributes\n",
    "country_assortativity_coefficient = nx.attribute_assortativity_coefficient(G, 'country')\n",
    "subscriber_count_assortativity_coefficient = nx.attribute_assortativity_coefficient(G,'subscribercount')\n",
    "video_count_assortativity_coefficient = nx.attribute_assortativity_coefficient(G,'videocount')\n",
    "view_count_assortativity_coefficient = nx.attribute_assortativity_coefficient(G, 'viewcount(100s)')\n",
    "\n",
    "print(f\"Country Assortativity Coefficient: {country_assortativity_coefficient:.3f}\")\n",
    "print(f\"Subscriber count Assortativity Coefficient: {subscriber_count_assortativity_coefficient:.3f}\")\n",
    "print(f\"Video count Assortativity Coefficient: {video_count_assortativity_coefficient:.3f}\")\n",
    "print(f\"View count Assortativity Coefficient: {view_count_assortativity_coefficient:.3f}\")"
   ],
   "metadata": {
    "collapsed": false,
    "ExecuteTime": {
     "end_time": "2024-01-24T11:36:57.345593300Z",
     "start_time": "2024-01-24T11:36:57.299693900Z"
    }
   },
   "id": "de1924f575c13d",
   "execution_count": 11
  },
  {
   "cell_type": "markdown",
   "source": [
    "### E-I Index Calculations"
   ],
   "metadata": {
    "collapsed": false
   },
   "id": "e45617a8f2042678"
  },
  {
   "cell_type": "code",
   "outputs": [
    {
     "data": {
      "text/plain": "-0.7880794701986755"
     },
     "execution_count": 5,
     "metadata": {},
     "output_type": "execute_result"
    }
   ],
   "source": [
    "# Function to calculate the E-I Index for video count with a threshold\n",
    "def calculate_ei_index(graph, threshold):\n",
    "    internal_connections = 0\n",
    "    external_connections = 0\n",
    "\n",
    "    for edge in graph.edges():\n",
    "        if graph.nodes[edge[0]]['videocount'] <= threshold and graph.nodes[edge[1]]['videocount'] <= threshold:\n",
    "            internal_connections += 1\n",
    "        elif graph.nodes[edge[0]]['videocount'] > threshold and graph.nodes[edge[1]]['videocount'] > threshold:\n",
    "            internal_connections += 1\n",
    "        else:\n",
    "            external_connections += 1\n",
    "\n",
    "    if internal_connections + external_connections == 0:\n",
    "        return 0  # Prevent division by zero\n",
    "\n",
    "    ei_index = (external_connections - internal_connections) / (external_connections + internal_connections)\n",
    "    return ei_index\n",
    "\n",
    "# Calculate the E-I Index for video count with a threshold of 100 videos\n",
    "ei_index_video_count = calculate_ei_index(G, 100)\n",
    "\n",
    "ei_index_video_count"
   ],
   "metadata": {
    "collapsed": false,
    "ExecuteTime": {
     "end_time": "2024-01-24T11:36:29.440411800Z",
     "start_time": "2024-01-24T11:36:29.429762200Z"
    }
   },
   "id": "5777e2af3b316092",
   "execution_count": 5
  },
  {
   "cell_type": "code",
   "outputs": [
    {
     "data": {
      "text/plain": "-0.8675496688741722"
     },
     "execution_count": 6,
     "metadata": {},
     "output_type": "execute_result"
    }
   ],
   "source": [
    "def calculate_ei_index_view_count(graph, threshold):\n",
    "    internal_connections = 0\n",
    "    external_connections = 0\n",
    "\n",
    "    for edge in graph.edges():\n",
    "        if graph.nodes[edge[0]]['viewcount(100s)'] <= threshold and graph.nodes[edge[1]]['viewcount(100s)'] <= threshold:\n",
    "            internal_connections += 1\n",
    "        elif graph.nodes[edge[0]]['viewcount(100s)'] > threshold and graph.nodes[edge[1]]['viewcount(100s)'] > threshold:\n",
    "            internal_connections += 1\n",
    "        else:\n",
    "            external_connections += 1\n",
    "\n",
    "    if internal_connections + external_connections == 0:\n",
    "        return 0  # Prevent division by zero\n",
    "\n",
    "    ei_index = (external_connections - internal_connections) / (external_connections + internal_connections)\n",
    "    return ei_index\n",
    "\n",
    "# Calculate the E-I Index for view count with a specified threshold\n",
    "threshold_view_count = 10000000  # Example threshold for view count\n",
    "ei_index_view_count = calculate_ei_index_view_count(G, threshold_view_count)\n",
    "\n",
    "ei_index_view_count"
   ],
   "metadata": {
    "collapsed": false,
    "ExecuteTime": {
     "end_time": "2024-01-24T11:36:29.441420300Z",
     "start_time": "2024-01-24T11:36:29.436121200Z"
    }
   },
   "id": "9ed648820a50609f",
   "execution_count": 6
  },
  {
   "cell_type": "code",
   "outputs": [
    {
     "name": "stdout",
     "output_type": "stream",
     "text": [
      "E-I Index: -0.38741721854304634\n"
     ]
    }
   ],
   "source": [
    "def calculate_e_i_index_by_subscriber_count(G, threshold):\n",
    "    internal_edges = 0\n",
    "    external_edges = 0\n",
    "\n",
    "    for u, v in G.edges():\n",
    "        # Check if 'subscribercount' attribute exists for both nodes\n",
    "        if 'subscribercount' in G.nodes[u] and 'subscribercount' in G.nodes[v]:\n",
    "            # Determine if both nodes are above or below the threshold\n",
    "            u_above_threshold = G.nodes[u]['subscribercount'] >= threshold\n",
    "            v_above_threshold = G.nodes[v]['subscribercount'] >= threshold\n",
    "\n",
    "            if u_above_threshold == v_above_threshold:\n",
    "                internal_edges += 1  # Both nodes are either above or below the threshold\n",
    "            else:\n",
    "                external_edges += 1  # One node is above the threshold and the other is below\n",
    "\n",
    "    total_edges = internal_edges + external_edges\n",
    "    if total_edges > 0:\n",
    "        e_i_index = (external_edges - internal_edges) / total_edges\n",
    "    else:\n",
    "        e_i_index = None  # E-I Index is not defined for graphs without edges\n",
    "\n",
    "    return e_i_index\n",
    "\n",
    "\n",
    "# Define a subscriber count threshold\n",
    "subscriber_threshold = 3000000  # example threshold\n",
    "\n",
    "# Calculate the E-I Index\n",
    "e_i_index = calculate_e_i_index_by_subscriber_count(G, subscriber_threshold)\n",
    "print(\"E-I Index:\", e_i_index)"
   ],
   "metadata": {
    "collapsed": false,
    "ExecuteTime": {
     "end_time": "2024-01-24T11:36:29.449912Z",
     "start_time": "2024-01-24T11:36:29.442419900Z"
    }
   },
   "id": "24dbd47aeb4b4523",
   "execution_count": 7
  },
  {
   "cell_type": "code",
   "outputs": [
    {
     "name": "stdout",
     "output_type": "stream",
     "text": [
      "Homophily based on country: 0.28642384105960267\n"
     ]
    }
   ],
   "source": [
    "def calculate_homophily_by_country(G):\n",
    "    internal_edges = 0\n",
    "    total_edges = 0\n",
    "\n",
    "    for u, v in G.edges():\n",
    "        # Check if the 'country' attribute exists for both nodes\n",
    "        if 'country' in G.nodes[u] and 'country' in G.nodes[v]:\n",
    "            total_edges += 1  # Count every edge\n",
    "            if G.nodes[u]['country'] == G.nodes[v]['country']:\n",
    "                internal_edges += 1  # Count internal edge\n",
    "\n",
    "    # Calculating the proportion of internal connections\n",
    "    if total_edges > 0:\n",
    "        homophily_index = internal_edges / total_edges\n",
    "    else:\n",
    "        homophily_index = None  # Homophily is not defined for graphs without edges\n",
    "\n",
    "    return homophily_index\n",
    "# Calculate the homophily for the country attribute\n",
    "country_homophily = calculate_homophily_by_country(G)\n",
    "print(\"Homophily based on country:\", country_homophily)"
   ],
   "metadata": {
    "collapsed": false,
    "ExecuteTime": {
     "end_time": "2024-01-24T11:36:29.477043100Z",
     "start_time": "2024-01-24T11:36:29.447913500Z"
    }
   },
   "id": "71ffb96b6d66a1f2",
   "execution_count": 8
  },
  {
   "cell_type": "markdown",
   "source": [
    "## Degree Assortativity and Assortativity"
   ],
   "metadata": {
    "collapsed": false
   },
   "id": "917455addfeaa17b"
  },
  {
   "cell_type": "code",
   "outputs": [],
   "source": [
    "# Calculate the assortativity coefficient\n",
    "assortativity_coefficient = nx.degree_assortativity_coefficient(G.to_directed())\n",
    "assortativity_coefficient"
   ],
   "metadata": {
    "collapsed": false
   },
   "id": "b1120644ef6e99a9"
  },
  {
   "cell_type": "code",
   "outputs": [
    {
     "data": {
      "text/plain": "-0.4460479336387566"
     },
     "execution_count": 9,
     "metadata": {},
     "output_type": "execute_result"
    }
   ],
   "source": [
    "# Calculate the degree assortativity coefficient\n",
    "degree_assortativity = nx.degree_assortativity_coefficient(G.to_directed())\n",
    "degree_assortativity"
   ],
   "metadata": {
    "collapsed": false,
    "ExecuteTime": {
     "end_time": "2024-01-24T11:36:29.477043100Z",
     "start_time": "2024-01-24T11:36:29.453687500Z"
    }
   },
   "id": "250119990ede64f",
   "execution_count": 9
  },
  {
   "cell_type": "code",
   "outputs": [
    {
     "name": "stdout",
     "output_type": "stream",
     "text": [
      "Degree assortativity coefficient (in-in): 0.02756598604581837\n",
      "Degree assortativity coefficient (out-out): -0.05595792039193227\n",
      "Degree assortativity coefficient (in-out): -0.02576913534472027\n",
      "Degree assortativity coefficient (out-in): -0.4460479336387566\n"
     ]
    }
   ],
   "source": [
    "# Calculate degree assortativity coefficients\n",
    "degree_assortativity_in = nx.degree_assortativity_coefficient(G, x='in', y='in')\n",
    "degree_assortativity_out = nx.degree_assortativity_coefficient(G, x='out', y='out')\n",
    "degree_assortativity_in_out = nx.degree_assortativity_coefficient(G, x='in', y='out')\n",
    "degree_assortativity_out_in = nx.degree_assortativity_coefficient(G, x='out', y='in')\n",
    "\n",
    "print(f\"Degree assortativity coefficient (in-in): {degree_assortativity_in}\")\n",
    "print(f\"Degree assortativity coefficient (out-out): {degree_assortativity_out}\")\n",
    "print(f\"Degree assortativity coefficient (in-out): {degree_assortativity_in_out}\")\n",
    "print(f\"Degree assortativity coefficient (out-in): {degree_assortativity_out_in}\")"
   ],
   "metadata": {
    "collapsed": false,
    "ExecuteTime": {
     "end_time": "2024-01-24T11:36:29.499969600Z",
     "start_time": "2024-01-24T11:36:29.467043800Z"
    }
   },
   "id": "aab99ce3c523f6c6",
   "execution_count": 10
  }
 ],
 "metadata": {
  "kernelspec": {
   "display_name": "Python 3",
   "language": "python",
   "name": "python3"
  },
  "language_info": {
   "codemirror_mode": {
    "name": "ipython",
    "version": 2
   },
   "file_extension": ".py",
   "mimetype": "text/x-python",
   "name": "python",
   "nbconvert_exporter": "python",
   "pygments_lexer": "ipython2",
   "version": "2.7.6"
  }
 },
 "nbformat": 4,
 "nbformat_minor": 5
}
