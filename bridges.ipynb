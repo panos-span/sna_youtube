{
 "cells": [
  {
   "cell_type": "code",
   "execution_count": 4,
   "id": "397d1ef5a29cf725",
   "metadata": {
    "collapsed": false,
    "ExecuteTime": {
     "end_time": "2024-01-15T20:54:31.795806700Z",
     "start_time": "2024-01-15T20:54:31.463785900Z"
    }
   },
   "outputs": [],
   "source": [
    "import networkx as nx"
   ]
  },
  {
   "cell_type": "code",
   "execution_count": 5,
   "id": "3b1b70ecd90c5283",
   "metadata": {
    "collapsed": false,
    "ExecuteTime": {
     "end_time": "2024-01-15T20:54:31.943771900Z",
     "start_time": "2024-01-15T20:54:31.796806300Z"
    }
   },
   "outputs": [],
   "source": [
    "# Load the network from the GraphML file\n",
    "G = nx.read_graphml('bioneer2.graphml')\n",
    "# Filter the graph to only include channels with subscriberCount between 50000 and 8318210\n",
    "G = G.subgraph([node for node in G.nodes() if 50000 <= G.nodes[node]['subscribercount'] <= 8318210])"
   ]
  },
  {
   "cell_type": "code",
   "execution_count": 6,
   "id": "22c353ecb4c56853",
   "metadata": {
    "collapsed": false,
    "ExecuteTime": {
     "end_time": "2024-01-15T20:54:31.954139300Z",
     "start_time": "2024-01-15T20:54:31.942770100Z"
    }
   },
   "outputs": [],
   "source": [
    "# Convert to an undirected graph for bridge finding\n",
    "G_directed = G.to_directed()"
   ]
  },
  {
   "cell_type": "code",
   "execution_count": 10,
   "id": "823fd81d4adbf2b3",
   "metadata": {
    "collapsed": false,
    "ExecuteTime": {
     "end_time": "2024-01-15T20:54:32.398749600Z",
     "start_time": "2024-01-15T20:54:32.387359800Z"
    }
   },
   "outputs": [],
   "source": [
    "# Function to get the label of a node\n",
    "def get_label(G, node_id):\n",
    "    return G.nodes[node_id]['label']\n",
    "\n",
    "# Finding bridges and replacing node IDs with labels\n",
    "bridges = [(get_label(G, u), get_label(G, v)) for u, v in nx.bridges(G.to_undirected())]"
   ]
  },
  {
   "cell_type": "code",
   "execution_count": 11,
   "id": "a0a4f59742673757",
   "metadata": {
    "collapsed": false,
    "ExecuteTime": {
     "end_time": "2024-01-15T20:54:32.541093200Z",
     "start_time": "2024-01-15T20:54:32.536080Z"
    }
   },
   "outputs": [
    {
     "data": {
      "text/plain": "[('The Bioneer', 'Aim To Head Official'),\n ('The Bioneer', 'Quinn s Ideas'),\n ('The Bioneer', 'Tee Lopes'),\n ('The Bioneer', 'MuscleTV'),\n ('The Bioneer', 'The  80s Guy'),\n ('The Bioneer', 'SwitchForce'),\n ('The Bioneer', 'RGT 85'),\n ('The Bioneer', 'Original Strength'),\n ('The Bioneer', 'Sonic the Hedgehog'),\n ('The Bioneer', 'CGRundertow'),\n ('The Bioneer', 'Matty Fusaro'),\n ('The Bioneer', 'The Closer Look'),\n ('The Bioneer', 'Tao Physique'),\n ('The Bioneer', 'Pocket Gamer'),\n ('The Bioneer', 'khanacademymedicine'),\n ('The Bioneer', 'GameTrailers'),\n ('The Bioneer', 'Explore Gadgets'),\n ('The Bioneer', 'vsauceLEANBACK'),\n ('The Bioneer', 'ParryGripp'),\n ('The Bioneer', 'Yuriofwind'),\n ('The Bioneer', 'The Movement System'),\n ('The Bioneer', 'Mastar'),\n ('The Bioneer', 'Eric Jacobus'),\n ('The Bioneer', 'AppSumo'),\n ('The Bioneer', 'World Science Festival'),\n ('The Bioneer', 'JimTV'),\n ('The Bioneer', 'Dave Bennett'),\n ('The Bioneer', 'Krista King'),\n ('The Bioneer', 'MegaGWolf'),\n ('The Bioneer', 'SPARTAN BODYBUILDING'),\n ('The Bioneer', 'The Thought Emporium'),\n ('The Bioneer', 'Android Developers'),\n ('The Bioneer', 'SearingWolfe'),\n ('The Bioneer', 'Skill Up'),\n ('The Bioneer', 'Derren Brown'),\n ('The Bioneer', 'Gokuflex'),\n ('The Bioneer', 'Hybrid Calisthenics'),\n ('The Bioneer', 'Implicitly Pretentious'),\n ('The Bioneer', 'Sonic Central'),\n ('The Bioneer', 'Physionic'),\n ('The Bioneer', 'Max Derrat'),\n ('The Bioneer', 'Sorelle Amore'),\n ('The Bioneer', 'Nintendo Life'),\n ('The Bioneer', 'SCHILLER official'),\n ('The Bioneer', 'ANLLELA SAGRA'),\n ('The Bioneer', 'Mover s Odyssey'),\n ('The Bioneer', 'Beerdy - Bruce Lee Central'),\n ('The Bioneer', 'Deus Ex'),\n ('The Bioneer', 'New Scientist'),\n ('The Bioneer', 'Quirkology'),\n ('The Bioneer', 'RSA'),\n ('The Bioneer', 'Philip Hartshorn'),\n ('The Bioneer', 'Prozis'),\n ('The Bioneer', 'Greg and Mitch')]"
     },
     "execution_count": 11,
     "metadata": {},
     "output_type": "execute_result"
    }
   ],
   "source": [
    "bridges"
   ]
  },
  {
   "cell_type": "code",
   "execution_count": 13,
   "id": "fdfe1b7cb5e959a8",
   "metadata": {
    "collapsed": false,
    "ExecuteTime": {
     "end_time": "2024-01-15T20:54:32.860834600Z",
     "start_time": "2024-01-15T20:54:32.857873600Z"
    }
   },
   "outputs": [
    {
     "data": {
      "text/plain": "54"
     },
     "execution_count": 13,
     "metadata": {},
     "output_type": "execute_result"
    }
   ],
   "source": [
    "len(bridges)"
   ]
  },
  {
   "cell_type": "code",
   "execution_count": 15,
   "id": "fc0611f19f705ef2",
   "metadata": {
    "collapsed": false,
    "ExecuteTime": {
     "end_time": "2024-01-15T20:54:33.205478800Z",
     "start_time": "2024-01-15T20:54:33.175615200Z"
    }
   },
   "outputs": [
    {
     "name": "stdout",
     "output_type": "stream",
     "text": [
      "(The Bioneer, Aim To Head Official) , span=inf\n",
      "(The Bioneer, Quinn s Ideas) , span=inf\n",
      "(The Bioneer, Tee Lopes) , span=inf\n",
      "(The Bioneer, MuscleTV) , span=inf\n",
      "(The Bioneer, The  80s Guy) , span=inf\n",
      "(The Bioneer, SwitchForce) , span=inf\n",
      "(The Bioneer, RGT 85) , span=inf\n",
      "(The Bioneer, Original Strength) , span=inf\n",
      "(The Bioneer, Sonic the Hedgehog) , span=inf\n",
      "(The Bioneer, CGRundertow) , span=inf\n",
      "(The Bioneer, Matty Fusaro) , span=inf\n",
      "(The Bioneer, The Closer Look) , span=inf\n",
      "(The Bioneer, Tao Physique) , span=inf\n",
      "(The Bioneer, Pocket Gamer) , span=inf\n",
      "(The Bioneer, khanacademymedicine) , span=inf\n",
      "(The Bioneer, GameTrailers) , span=inf\n",
      "(The Bioneer, Explore Gadgets) , span=inf\n",
      "(The Bioneer, vsauceLEANBACK) , span=inf\n",
      "(The Bioneer, ParryGripp) , span=inf\n",
      "(The Bioneer, Yuriofwind) , span=inf\n",
      "(The Bioneer, The Movement System) , span=inf\n",
      "(The Bioneer, Mastar) , span=inf\n",
      "(The Bioneer, Eric Jacobus) , span=inf\n",
      "(The Bioneer, AppSumo) , span=inf\n",
      "(The Bioneer, World Science Festival) , span=inf\n",
      "(The Bioneer, JimTV) , span=inf\n",
      "(The Bioneer, Dave Bennett) , span=inf\n",
      "(The Bioneer, Krista King) , span=inf\n",
      "(The Bioneer, MegaGWolf) , span=inf\n",
      "(The Bioneer, SPARTAN BODYBUILDING) , span=inf\n",
      "(The Bioneer, The Thought Emporium) , span=inf\n",
      "(The Bioneer, Android Developers) , span=inf\n",
      "(The Bioneer, SearingWolfe) , span=inf\n",
      "(The Bioneer, Skill Up) , span=inf\n",
      "(The Bioneer, Derren Brown) , span=inf\n",
      "(The Bioneer, Gokuflex) , span=inf\n",
      "(The Bioneer, Hybrid Calisthenics) , span=inf\n",
      "(The Bioneer, Implicitly Pretentious) , span=inf\n",
      "(The Bioneer, Sonic Central) , span=inf\n",
      "(The Bioneer, Physionic) , span=inf\n",
      "(The Bioneer, Max Derrat) , span=inf\n",
      "(The Bioneer, Sorelle Amore) , span=inf\n",
      "(The Bioneer, Nintendo Life) , span=inf\n",
      "(The Bioneer, SCHILLER official) , span=inf\n",
      "(The Bioneer, ANLLELA SAGRA) , span=inf\n",
      "(The Bioneer, Mover s Odyssey) , span=inf\n",
      "(The Bioneer, Beerdy - Bruce Lee Central) , span=inf\n",
      "(The Bioneer, Deus Ex) , span=inf\n",
      "(The Bioneer, New Scientist) , span=inf\n",
      "(The Bioneer, Quirkology) , span=inf\n",
      "(The Bioneer, RSA) , span=inf\n",
      "(The Bioneer, Philip Hartshorn) , span=inf\n",
      "(The Bioneer, Prozis) , span=inf\n",
      "(The Bioneer, Greg and Mitch) , span=inf\n"
     ]
    }
   ],
   "source": [
    "for local1,local2,span in nx.local_bridges(G.to_undirected()):\n",
    "    print(f\"({get_label(G,local1)}, {get_label(G,local2)}) , span={span}\")"
   ]
  },
  {
   "cell_type": "code",
   "execution_count": 16,
   "id": "af79b9f91fadaf36",
   "metadata": {
    "collapsed": false,
    "ExecuteTime": {
     "end_time": "2024-01-15T20:54:33.366881900Z",
     "start_time": "2024-01-15T20:54:33.339154500Z"
    }
   },
   "outputs": [
    {
     "data": {
      "text/plain": "54"
     },
     "execution_count": 16,
     "metadata": {},
     "output_type": "execute_result"
    }
   ],
   "source": [
    "len(list(nx.local_bridges(G.to_undirected())))"
   ]
  }
 ],
 "metadata": {
  "kernelspec": {
   "display_name": "Python 3 (ipykernel)",
   "language": "python",
   "name": "python3"
  },
  "language_info": {
   "codemirror_mode": {
    "name": "ipython",
    "version": 3
   },
   "file_extension": ".py",
   "mimetype": "text/x-python",
   "name": "python",
   "nbconvert_exporter": "python",
   "pygments_lexer": "ipython3",
   "version": "3.11.5"
  }
 },
 "nbformat": 4,
 "nbformat_minor": 5
}
