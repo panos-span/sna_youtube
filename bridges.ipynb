{
 "cells": [
  {
   "cell_type": "code",
   "execution_count": 4,
   "id": "397d1ef5a29cf725",
   "metadata": {
    "collapsed": false,
    "ExecuteTime": {
     "end_time": "2024-01-15T20:54:31.795806700Z",
     "start_time": "2024-01-15T20:54:31.463785900Z"
    }
   },
   "outputs": [],
   "source": [
    "import networkx as nx"
   ]
  },
  {
   "cell_type": "code",
   "execution_count": 5,
   "id": "3b1b70ecd90c5283",
   "metadata": {
    "collapsed": false,
    "ExecuteTime": {
     "end_time": "2024-01-15T20:54:31.943771900Z",
     "start_time": "2024-01-15T20:54:31.796806300Z"
    }
   },
   "outputs": [],
   "source": [
    "# Load the network from the GraphML file\n",
    "G = nx.read_graphml('bioneer2.graphml')\n",
    "# Filter the graph to only include channels with subscriberCount between 50000 and 8318210\n",
    "G = G.subgraph([node for node in G.nodes() if 50000 <= G.nodes[node]['subscribercount'] <= 8318210])"
   ]
  },
  {
   "cell_type": "code",
   "execution_count": 6,
   "id": "22c353ecb4c56853",
   "metadata": {
    "collapsed": false,
    "ExecuteTime": {
     "end_time": "2024-01-15T20:54:31.954139300Z",
     "start_time": "2024-01-15T20:54:31.942770100Z"
    }
   },
   "outputs": [],
   "source": [
    "# Convert to an undirected graph for bridge finding\n",
    "G_directed = G.to_directed()"
   ]
  },
  {
   "cell_type": "code",
   "execution_count": 7,
   "id": "c743a9ecb45d6baa",
   "metadata": {
    "collapsed": false,
    "ExecuteTime": {
     "end_time": "2024-01-15T20:54:31.989659100Z",
     "start_time": "2024-01-15T20:54:31.955139200Z"
    }
   },
   "outputs": [
    {
     "name": "stdout",
     "output_type": "stream",
     "text": [
      "Bridges: [('The Bioneer', 'Aim To Head Official'), ('The Bioneer', 'Quinn s Ideas'), ('The Bioneer', 'Tee Lopes'), ('The Bioneer', 'MuscleTV'), ('The Bioneer', 'The  80s Guy'), ('The Bioneer', 'SwitchForce'), ('The Bioneer', 'RGT 85'), ('The Bioneer', 'Original Strength'), ('The Bioneer', 'Sonic the Hedgehog'), ('The Bioneer', 'CGRundertow'), ('The Bioneer', 'Matty Fusaro'), ('The Bioneer', 'The Closer Look'), ('The Bioneer', 'Tao Physique'), ('The Bioneer', 'Pocket Gamer'), ('The Bioneer', 'khanacademymedicine'), ('The Bioneer', 'GameTrailers'), ('The Bioneer', 'Explore Gadgets'), ('The Bioneer', 'vsauceLEANBACK'), ('The Bioneer', 'ParryGripp'), ('The Bioneer', 'Yuriofwind'), ('The Bioneer', 'The Movement System'), ('The Bioneer', 'Mastar'), ('The Bioneer', 'Eric Jacobus'), ('The Bioneer', 'AppSumo'), ('The Bioneer', 'World Science Festival'), ('The Bioneer', 'JimTV'), ('The Bioneer', 'Dave Bennett'), ('The Bioneer', 'Krista King'), ('The Bioneer', 'MegaGWolf'), ('The Bioneer', 'SPARTAN BODYBUILDING'), ('The Bioneer', 'The Thought Emporium'), ('The Bioneer', 'Android Developers'), ('The Bioneer', 'SearingWolfe'), ('The Bioneer', 'Skill Up'), ('The Bioneer', 'Derren Brown'), ('The Bioneer', 'Gokuflex'), ('The Bioneer', 'Hybrid Calisthenics'), ('The Bioneer', 'Implicitly Pretentious'), ('The Bioneer', 'Sonic Central'), ('The Bioneer', 'Physionic'), ('The Bioneer', 'Max Derrat'), ('The Bioneer', 'Sorelle Amore'), ('The Bioneer', 'Nintendo Life'), ('The Bioneer', 'SCHILLER official'), ('The Bioneer', 'ANLLELA SAGRA'), ('The Bioneer', 'Mover s Odyssey'), ('The Bioneer', 'Beerdy - Bruce Lee Central'), ('The Bioneer', 'Deus Ex'), ('The Bioneer', 'New Scientist'), ('The Bioneer', 'Quirkology'), ('The Bioneer', 'RSA'), ('The Bioneer', 'Philip Hartshorn'), ('The Bioneer', 'Prozis'), ('The Bioneer', 'Greg and Mitch')]\n",
      "Local Bridges: []\n"
     ]
    }
   ],
   "source": [
    "# Creating a dictionary to map node IDs to their labels\n",
    "id_to_label = {node: G_directed.nodes[node]['label'] for node in G_directed.nodes}\n",
    "\n",
    "# Function to find bridges in the directed graph\n",
    "def find_directed_bridges(G):\n",
    "    G_undirected = G.to_undirected()\n",
    "    bridges = []\n",
    "    for u, v in G.edges():\n",
    "        G_undirected.remove_edge(u, v)\n",
    "        if nx.number_connected_components(G_undirected) > 1:\n",
    "            bridges.append((id_to_label[u], id_to_label[v]))\n",
    "        G_undirected.add_edge(u, v)\n",
    "    return bridges\n",
    "\n",
    "# Function to find local bridges in the directed graph\n",
    "def find_directed_local_bridges(G):\n",
    "    local_bridges = []\n",
    "    for u, v in G.edges():\n",
    "        if v not in G.successors(u) and all(v not in G.successors(w) for w in G.predecessors(u)):\n",
    "            local_bridges.append((id_to_label[u], id_to_label[v]))\n",
    "    return local_bridges\n",
    "\n",
    "# Find bridges\n",
    "bridges = find_directed_bridges(G_directed)\n",
    "print(\"Bridges:\", bridges)\n",
    "\n",
    "# Find local bridges\n",
    "local_bridges = find_directed_local_bridges(G_directed)\n",
    "print(\"Local Bridges:\", local_bridges)"
   ]
  },
  {
   "cell_type": "code",
   "execution_count": 8,
   "id": "39d1c423c6f00a8",
   "metadata": {
    "collapsed": false,
    "ExecuteTime": {
     "end_time": "2024-01-15T20:54:32.189765700Z",
     "start_time": "2024-01-15T20:54:32.171403600Z"
    }
   },
   "outputs": [
    {
     "data": {
      "text/plain": "([('UCIh_TPYPqjJuS_-nOfAIlfg', 'UC1KJEk-EZMmDF9DJKMK5OCQ'),\n  ('UCIh_TPYPqjJuS_-nOfAIlfg', 'UC1rFmaGLYr0Ve_Y_soxZNWQ'),\n  ('UCIh_TPYPqjJuS_-nOfAIlfg', 'UC3Va-8NnzTuV-Yv-JlyuQsQ'),\n  ('UCIh_TPYPqjJuS_-nOfAIlfg', 'UC51T6qSRDmVsENyV57Mjkgg'),\n  ('UCIh_TPYPqjJuS_-nOfAIlfg', 'UC6ghlxmJNMd8BE_u1HR-bTg'),\n  ('UCIh_TPYPqjJuS_-nOfAIlfg', 'UC8wucBti_VxVFhUAzOLyMHw'),\n  ('UCIh_TPYPqjJuS_-nOfAIlfg', 'UCA5RGaQc-a8tIX_AqTTmWdw'),\n  ('UCIh_TPYPqjJuS_-nOfAIlfg', 'UCC6g6yv0bSnA6nO3glRKL_Q'),\n  ('UCIh_TPYPqjJuS_-nOfAIlfg', 'UCCOSYITWQHRSUxvlQ4_PSCg'),\n  ('UCIh_TPYPqjJuS_-nOfAIlfg', 'UCG11aiovma65vUiQdeZOh6A'),\n  ('UCIh_TPYPqjJuS_-nOfAIlfg', 'UCHZ8lkKBNf3lKxpSIVUcmsg'),\n  ('UCIh_TPYPqjJuS_-nOfAIlfg', 'UCI9DUIgtRGHNH_HmSTcfUbA'),\n  ('UCIh_TPYPqjJuS_-nOfAIlfg', 'UCITn9pm8w4HqxHfqZJmce4Q'),\n  ('UCIh_TPYPqjJuS_-nOfAIlfg', 'UCJKOvdk-nVzDAFR_9MF64sw'),\n  ('UCIh_TPYPqjJuS_-nOfAIlfg', 'UCJayvjGvKEblkA3KYK1BQQw'),\n  ('UCIh_TPYPqjJuS_-nOfAIlfg', 'UCJx5KP-pCUmL9eZUv-mIcNw'),\n  ('UCIh_TPYPqjJuS_-nOfAIlfg', 'UCK-H1e0S8jg-8qoqQ5N8jvw'),\n  ('UCIh_TPYPqjJuS_-nOfAIlfg', 'UCKXbq6IGFelzryn7fH6A-aw'),\n  ('UCIh_TPYPqjJuS_-nOfAIlfg', 'UCLNfsUeQm6zU2eBlQbEy4tw'),\n  ('UCIh_TPYPqjJuS_-nOfAIlfg', 'UCN_wvdNEDPK_wHuhu8Ey_5A'),\n  ('UCIh_TPYPqjJuS_-nOfAIlfg', 'UCNtTZc6bcWyzkn-eXGqYjlg'),\n  ('UCIh_TPYPqjJuS_-nOfAIlfg', 'UCObfIFcPxDOsyNXTG3ISyBg'),\n  ('UCIh_TPYPqjJuS_-nOfAIlfg', 'UCQINCBT70eomwMIPR1BnjLg'),\n  ('UCIh_TPYPqjJuS_-nOfAIlfg', 'UCRrAZbOmqB3pX7dWHC_-wEQ'),\n  ('UCIh_TPYPqjJuS_-nOfAIlfg', 'UCShHFwKyhcDo3g7hr4f1R8A'),\n  ('UCIh_TPYPqjJuS_-nOfAIlfg', 'UCT5RMcRGa32Th0AZ0Dxxviw'),\n  ('UCIh_TPYPqjJuS_-nOfAIlfg', 'UCThrs0qvb_MrW9UGSes4uIA'),\n  ('UCIh_TPYPqjJuS_-nOfAIlfg', 'UCUDlvPp1MlnegYXOXzj7DEQ'),\n  ('UCIh_TPYPqjJuS_-nOfAIlfg', 'UCULXdCe-q6klSFLCGKMdM3w'),\n  ('UCIh_TPYPqjJuS_-nOfAIlfg', 'UCUfjQIPW43E5KpAHrfWlDWg'),\n  ('UCIh_TPYPqjJuS_-nOfAIlfg', 'UCV5vCi3jPJdURZwAOO_FNfQ'),\n  ('UCIh_TPYPqjJuS_-nOfAIlfg', 'UCVHFbqXqoYvEWM1Ddxl0QDg'),\n  ('UCIh_TPYPqjJuS_-nOfAIlfg', 'UCZ0YER4Ixnbywy3xeGVAZSg'),\n  ('UCIh_TPYPqjJuS_-nOfAIlfg', 'UCZ7AeeVbyslLM_8-nVy2B8Q'),\n  ('UCIh_TPYPqjJuS_-nOfAIlfg', 'UCZFjYOyCdMxbt59vZNuqBpw'),\n  ('UCIh_TPYPqjJuS_-nOfAIlfg', 'UCaxRBnOai9tYxScTf2JjaoA'),\n  ('UCIh_TPYPqjJuS_-nOfAIlfg', 'UCeJFgNahi--FKs0oJyeRDEw'),\n  ('UCIh_TPYPqjJuS_-nOfAIlfg', 'UCfNcetb0dXVk53jZ9I0uKnA'),\n  ('UCIh_TPYPqjJuS_-nOfAIlfg', 'UChWTjJDu743PSfbUebQPBeg'),\n  ('UCIh_TPYPqjJuS_-nOfAIlfg', 'UCj3p_1jOCJXB_L_we-DjLbA'),\n  ('UCIh_TPYPqjJuS_-nOfAIlfg', 'UCj8orMezFWVcoN-4S545Wtw'),\n  ('UCIh_TPYPqjJuS_-nOfAIlfg', 'UCkbTTGoBpjX8ogXHCt-aegw'),\n  ('UCIh_TPYPqjJuS_-nOfAIlfg', 'UCl7ZXbZUCWI2Hz--OrO4bsA'),\n  ('UCIh_TPYPqjJuS_-nOfAIlfg', 'UCmM5xlAZDZ-h3bi6AXzDNKQ'),\n  ('UCIh_TPYPqjJuS_-nOfAIlfg', 'UCniHNF3GZEKWr_FRdGmKmdw'),\n  ('UCIh_TPYPqjJuS_-nOfAIlfg', 'UCqNzk3-sva7UmoJ_AhijYrw'),\n  ('UCIh_TPYPqjJuS_-nOfAIlfg', 'UCrgxUOBnk5vH8hB9c-s-riQ'),\n  ('UCIh_TPYPqjJuS_-nOfAIlfg', 'UCs0ifCMCm1icqRbqhUINa0w'),\n  ('UCIh_TPYPqjJuS_-nOfAIlfg', 'UCt5OA3LingpZBeEyPYmputQ'),\n  ('UCIh_TPYPqjJuS_-nOfAIlfg', 'UCvGMGQC8gNkd4gwxSbABIlw'),\n  ('UCIh_TPYPqjJuS_-nOfAIlfg', 'UCvhsiQGy_zcNCiSbeXEjhLg'),\n  ('UCIh_TPYPqjJuS_-nOfAIlfg', 'UCxvwSBdFZ6xq8hHz_R3Inug'),\n  ('UCIh_TPYPqjJuS_-nOfAIlfg', 'UCyfuHhhSnKqOBII6YdTEJWQ'),\n  ('UCIh_TPYPqjJuS_-nOfAIlfg', 'UCznHh6gk3ewFhaTZtdQFWWw')],\n [])"
     },
     "execution_count": 8,
     "metadata": {},
     "output_type": "execute_result"
    }
   ],
   "source": [
    "bridges = list(nx.bridges(G.to_undirected()))\n",
    "# Finding local bridges in the network\n",
    "# A local bridge is an edge whose endpoints have no neighbors in common\n",
    "local_bridges = []\n",
    "def find_local_bridges(G):\n",
    "    local_bridges = []\n",
    "    for u, v in G.edges():\n",
    "        # Check if u and v have no common neighbors\n",
    "        if len(set(G.neighbors(u)).intersection(set(G.neighbors(v)))) == 0:\n",
    "            local_bridges.append((u, v))\n",
    "    return local_bridges\n",
    "\n",
    "bridges, local_bridges"
   ]
  },
  {
   "cell_type": "code",
   "execution_count": 9,
   "id": "14645037262e55ec",
   "metadata": {
    "collapsed": false,
    "ExecuteTime": {
     "end_time": "2024-01-15T20:54:32.255514Z",
     "start_time": "2024-01-15T20:54:32.231704600Z"
    }
   },
   "outputs": [
    {
     "name": "stdout",
     "output_type": "stream",
     "text": [
      "Local Bridges: [('UCIh_TPYPqjJuS_-nOfAIlfg', 'UC-6OW5aJYBFM33zXQlBKPNA'), ('UCIh_TPYPqjJuS_-nOfAIlfg', 'UC-nPM1_kSZf91ZGkcgy_95Q'), ('UCIh_TPYPqjJuS_-nOfAIlfg', 'UC0ASolYU_Yh3yShLFQC0stg'), ('UCIh_TPYPqjJuS_-nOfAIlfg', 'UC1Aq3T1GmKcObLqo1YIU_Ww'), ('UCIh_TPYPqjJuS_-nOfAIlfg', 'UC1KJEk-EZMmDF9DJKMK5OCQ'), ('UCIh_TPYPqjJuS_-nOfAIlfg', 'UC1KbedtKa3d5dleFR6OjQMg'), ('UCIh_TPYPqjJuS_-nOfAIlfg', 'UC1rFmaGLYr0Ve_Y_soxZNWQ'), ('UCIh_TPYPqjJuS_-nOfAIlfg', 'UC2D2CMWXMOVWx7giW1n3LIg'), ('UCIh_TPYPqjJuS_-nOfAIlfg', 'UC3DkFux8Iv-aYnTRWzwaiBA'), ('UCIh_TPYPqjJuS_-nOfAIlfg', 'UC3Va-8NnzTuV-Yv-JlyuQsQ'), ('UCIh_TPYPqjJuS_-nOfAIlfg', 'UC4FhvdvgZU5CVbXi2uWgiZg'), ('UCIh_TPYPqjJuS_-nOfAIlfg', 'UC4QZ_LsYcvcq7qOsOhpAX4A'), ('UCIh_TPYPqjJuS_-nOfAIlfg', 'UC4kjDjhexSVuC8JWk4ZanFw'), ('UCIh_TPYPqjJuS_-nOfAIlfg', 'UC51T6qSRDmVsENyV57Mjkgg'), ('UCIh_TPYPqjJuS_-nOfAIlfg', 'UC6-ymYjG0SU0jUWnWh9ZzEQ'), ('UCIh_TPYPqjJuS_-nOfAIlfg', 'UC67f2Qf7FYhtoUIF4Sf29cA'), ('UCIh_TPYPqjJuS_-nOfAIlfg', 'UC68TLK0mAEzUyHx5x5k-S1Q'), ('UCIh_TPYPqjJuS_-nOfAIlfg', 'UC6TRaqsCQQBI0QF6aSBz4nw'), ('UCIh_TPYPqjJuS_-nOfAIlfg', 'UC6ghlxmJNMd8BE_u1HR-bTg'), ('UCIh_TPYPqjJuS_-nOfAIlfg', 'UC8XKyvQ5Ne_bvYbgv8LaIeg'), ('UCIh_TPYPqjJuS_-nOfAIlfg', 'UC8wucBti_VxVFhUAzOLyMHw'), ('UCIh_TPYPqjJuS_-nOfAIlfg', 'UC9BNGVGr_lvbn3d23ckuVOA'), ('UCIh_TPYPqjJuS_-nOfAIlfg', 'UCA5RGaQc-a8tIX_AqTTmWdw'), ('UCIh_TPYPqjJuS_-nOfAIlfg', 'UCAcQW_4qZ12wNt3T0M9b-Vw'), ('UCIh_TPYPqjJuS_-nOfAIlfg', 'UCAohrrjG-3gEp5QF1WlM9_w'), ('UCIh_TPYPqjJuS_-nOfAIlfg', 'UCB9_VH_CNbbH4GfKu8qh63w'), ('UCIh_TPYPqjJuS_-nOfAIlfg', 'UCC6g6yv0bSnA6nO3glRKL_Q'), ('UCIh_TPYPqjJuS_-nOfAIlfg', 'UCCOSYITWQHRSUxvlQ4_PSCg'), ('UCIh_TPYPqjJuS_-nOfAIlfg', 'UCCqEeDAUf4Mg0GgEN658tkA'), ('UCIh_TPYPqjJuS_-nOfAIlfg', 'UCD-4g5w1h8xQpLaNS_ghU4g'), ('UCIh_TPYPqjJuS_-nOfAIlfg', 'UCDetdM5XDZD1xrQHDPgEg5w'), ('UCIh_TPYPqjJuS_-nOfAIlfg', 'UCDlQwv99CovKafGvxyaiNDA'), ('UCIh_TPYPqjJuS_-nOfAIlfg', 'UCF1fG3gT44nGTPU2sVLoFWg'), ('UCIh_TPYPqjJuS_-nOfAIlfg', 'UCG11aiovma65vUiQdeZOh6A'), ('UCIh_TPYPqjJuS_-nOfAIlfg', 'UCGS474QoP8SCnSo6hOCaayA'), ('UCIh_TPYPqjJuS_-nOfAIlfg', 'UCGybO-bWZ3W6URh42sdMQiw'), ('UCIh_TPYPqjJuS_-nOfAIlfg', 'UCHZ8lkKBNf3lKxpSIVUcmsg'), ('UCIh_TPYPqjJuS_-nOfAIlfg', 'UCI9DUIgtRGHNH_HmSTcfUbA'), ('UCIh_TPYPqjJuS_-nOfAIlfg', 'UCITn9pm8w4HqxHfqZJmce4Q'), ('UCIh_TPYPqjJuS_-nOfAIlfg', 'UCJKOvdk-nVzDAFR_9MF64sw'), ('UCIh_TPYPqjJuS_-nOfAIlfg', 'UCJayvjGvKEblkA3KYK1BQQw'), ('UCIh_TPYPqjJuS_-nOfAIlfg', 'UCJx5KP-pCUmL9eZUv-mIcNw'), ('UCIh_TPYPqjJuS_-nOfAIlfg', 'UCK-H1e0S8jg-8qoqQ5N8jvw'), ('UCIh_TPYPqjJuS_-nOfAIlfg', 'UCK9_x1DImhU-eolIay5rb2Q'), ('UCIh_TPYPqjJuS_-nOfAIlfg', 'UCKX7OdeQ16O2KVor5rtEujA'), ('UCIh_TPYPqjJuS_-nOfAIlfg', 'UCKXbq6IGFelzryn7fH6A-aw'), ('UCIh_TPYPqjJuS_-nOfAIlfg', 'UCKf0UqBiCQI4Ol0To9V0pKQ'), ('UCIh_TPYPqjJuS_-nOfAIlfg', 'UCKhvrZFbsNN_1tFN-X3iENg'), ('UCIh_TPYPqjJuS_-nOfAIlfg', 'UCLNfsUeQm6zU2eBlQbEy4tw'), ('UCIh_TPYPqjJuS_-nOfAIlfg', 'UCN_wvdNEDPK_wHuhu8Ey_5A'), ('UCIh_TPYPqjJuS_-nOfAIlfg', 'UCNtTZc6bcWyzkn-eXGqYjlg'), ('UCIh_TPYPqjJuS_-nOfAIlfg', 'UCNvzD7Z-g64bPXxGzaQaa4g'), ('UCIh_TPYPqjJuS_-nOfAIlfg', 'UCObfIFcPxDOsyNXTG3ISyBg'), ('UCIh_TPYPqjJuS_-nOfAIlfg', 'UCPCiBMarvDiTx-lknzt934g'), ('UCIh_TPYPqjJuS_-nOfAIlfg', 'UCPOrN8u0yH-gIEb7SkMwkTw'), ('UCIh_TPYPqjJuS_-nOfAIlfg', 'UCPx2nKfFk4p6IkQsMW9O0xQ'), ('UCIh_TPYPqjJuS_-nOfAIlfg', 'UCQINCBT70eomwMIPR1BnjLg'), ('UCIh_TPYPqjJuS_-nOfAIlfg', 'UCQMbqH7xJu5aTAPQ9y_U7WQ'), ('UCIh_TPYPqjJuS_-nOfAIlfg', 'UCR9sFzaG9Ia_kXJhfxtFMBA'), ('UCIh_TPYPqjJuS_-nOfAIlfg', 'UCRlICXvO4XR4HMeEB9JjDlA'), ('UCIh_TPYPqjJuS_-nOfAIlfg', 'UCRrAZbOmqB3pX7dWHC_-wEQ'), ('UCIh_TPYPqjJuS_-nOfAIlfg', 'UCRx0HAyAfmcqtrQYK3IITBA'), ('UCIh_TPYPqjJuS_-nOfAIlfg', 'UCSOpcUkE-is7u7c4AkLgqTw'), ('UCIh_TPYPqjJuS_-nOfAIlfg', 'UCShHFwKyhcDo3g7hr4f1R8A'), ('UCIh_TPYPqjJuS_-nOfAIlfg', 'UCSy9Nf-NSaQbP4PyA5jnd2A'), ('UCIh_TPYPqjJuS_-nOfAIlfg', 'UCT5RMcRGa32Th0AZ0Dxxviw'), ('UCIh_TPYPqjJuS_-nOfAIlfg', 'UCThrs0qvb_MrW9UGSes4uIA'), ('UCIh_TPYPqjJuS_-nOfAIlfg', 'UCUDlvPp1MlnegYXOXzj7DEQ'), ('UCIh_TPYPqjJuS_-nOfAIlfg', 'UCULXdCe-q6klSFLCGKMdM3w'), ('UCIh_TPYPqjJuS_-nOfAIlfg', 'UCU_W0oE_ock8bWKjALiGs8Q'), ('UCIh_TPYPqjJuS_-nOfAIlfg', 'UCUfjQIPW43E5KpAHrfWlDWg'), ('UCIh_TPYPqjJuS_-nOfAIlfg', 'UCUweLR_ygcqbcxTJGLGhW2A'), ('UCIh_TPYPqjJuS_-nOfAIlfg', 'UCV5vCi3jPJdURZwAOO_FNfQ'), ('UCIh_TPYPqjJuS_-nOfAIlfg', 'UCVHFbqXqoYvEWM1Ddxl0QDg'), ('UCIh_TPYPqjJuS_-nOfAIlfg', 'UCVYbUVLrZ6pEBfYV_UyvItA'), ('UCIh_TPYPqjJuS_-nOfAIlfg', 'UCW6J17hZ_Vgr6cQgd_kHt5A'), ('UCIh_TPYPqjJuS_-nOfAIlfg', 'UCWYRT-NhEqkZ_afrqEgxYOQ'), ('UCIh_TPYPqjJuS_-nOfAIlfg', 'UCZ0YER4Ixnbywy3xeGVAZSg'), ('UCIh_TPYPqjJuS_-nOfAIlfg', 'UCZ7AeeVbyslLM_8-nVy2B8Q'), ('UCIh_TPYPqjJuS_-nOfAIlfg', 'UCZFjYOyCdMxbt59vZNuqBpw'), ('UCIh_TPYPqjJuS_-nOfAIlfg', 'UCZIIRX8rkNjVpP-oLMHpeDw'), ('UCIh_TPYPqjJuS_-nOfAIlfg', 'UCajFsJ74oE4zt3sPkOP_81g'), ('UCIh_TPYPqjJuS_-nOfAIlfg', 'UCaxRBnOai9tYxScTf2JjaoA'), ('UCIh_TPYPqjJuS_-nOfAIlfg', 'UCdn4zi8Tta1FSt0w87vCZwA'), ('UCIh_TPYPqjJuS_-nOfAIlfg', 'UCduKuJToxWPizJ7I2E6n1kA'), ('UCIh_TPYPqjJuS_-nOfAIlfg', 'UCe072WU1CTmEZhkPS4bM6cQ'), ('UCIh_TPYPqjJuS_-nOfAIlfg', 'UCeJFgNahi--FKs0oJyeRDEw'), ('UCIh_TPYPqjJuS_-nOfAIlfg', 'UCfNcetb0dXVk53jZ9I0uKnA'), ('UCIh_TPYPqjJuS_-nOfAIlfg', 'UCgIqhB8oD5SZ0yUSp71VCOQ'), ('UCIh_TPYPqjJuS_-nOfAIlfg', 'UCh0wrs-8ywjgZO7flfSmlqg'), ('UCIh_TPYPqjJuS_-nOfAIlfg', 'UChWTjJDu743PSfbUebQPBeg'), ('UCIh_TPYPqjJuS_-nOfAIlfg', 'UCh_S_EgAc6bAdu8C9aaqz1w'), ('UCIh_TPYPqjJuS_-nOfAIlfg', 'UChgSKQAuBPZIBAfokctA33g'), ('UCIh_TPYPqjJuS_-nOfAIlfg', 'UCht8qITGkBvXKsR1Byln-wA'), ('UCIh_TPYPqjJuS_-nOfAIlfg', 'UCir93b_ftqInEaDpsWYbo_g'), ('UCIh_TPYPqjJuS_-nOfAIlfg', 'UCj3p_1jOCJXB_L_we-DjLbA'), ('UCIh_TPYPqjJuS_-nOfAIlfg', 'UCj8orMezFWVcoN-4S545Wtw'), ('UCIh_TPYPqjJuS_-nOfAIlfg', 'UCkDSAQ_5-yx5hmuvUcsJL7A'), ('UCIh_TPYPqjJuS_-nOfAIlfg', 'UCkbTTGoBpjX8ogXHCt-aegw'), ('UCIh_TPYPqjJuS_-nOfAIlfg', 'UCl7ZXbZUCWI2Hz--OrO4bsA'), ('UCIh_TPYPqjJuS_-nOfAIlfg', 'UCmA-0j6DRVQWo4skl8Otkiw'), ('UCIh_TPYPqjJuS_-nOfAIlfg', 'UCmM5xlAZDZ-h3bi6AXzDNKQ'), ('UCIh_TPYPqjJuS_-nOfAIlfg', 'UCmRfQHc3U4fV1-i8Ry1HmtA'), ('UCIh_TPYPqjJuS_-nOfAIlfg', 'UCniHNF3GZEKWr_FRdGmKmdw'), ('UCIh_TPYPqjJuS_-nOfAIlfg', 'UCoguzybAI8Fgdj4Aze5tE8w'), ('UCIh_TPYPqjJuS_-nOfAIlfg', 'UCoxcjq-8xIDTYp3uz647V5A'), ('UCIh_TPYPqjJuS_-nOfAIlfg', 'UCpJmBQ8iNHXeQ7jQWDyGe3A'), ('UCIh_TPYPqjJuS_-nOfAIlfg', 'UCqJ-Xo29CKyLTjn6z2XwYAw'), ('UCIh_TPYPqjJuS_-nOfAIlfg', 'UCqNzk3-sva7UmoJ_AhijYrw'), ('UCIh_TPYPqjJuS_-nOfAIlfg', 'UCqYPhGiB9tkShZorfgcL2lA'), ('UCIh_TPYPqjJuS_-nOfAIlfg', 'UCqg5FCR7NrpvlBWMXdt-5Vg'), ('UCIh_TPYPqjJuS_-nOfAIlfg', 'UCrgxUOBnk5vH8hB9c-s-riQ'), ('UCIh_TPYPqjJuS_-nOfAIlfg', 'UCs0ifCMCm1icqRbqhUINa0w'), ('UCIh_TPYPqjJuS_-nOfAIlfg', 'UCs7nPQIEba0T3tGOWWsZpJQ'), ('UCIh_TPYPqjJuS_-nOfAIlfg', 'UCsUbFOUqtrU4oRSDfjb78ig'), ('UCIh_TPYPqjJuS_-nOfAIlfg', 'UCs_6DXZROU29pLvgQdCx4Ww'), ('UCIh_TPYPqjJuS_-nOfAIlfg', 'UCt5OA3LingpZBeEyPYmputQ'), ('UCIh_TPYPqjJuS_-nOfAIlfg', 'UCtUId5WFnN82GdDy7DgaQ7w'), ('UCIh_TPYPqjJuS_-nOfAIlfg', 'UCuHeVY3bLH1OdhhQ_KyJnUA'), ('UCIh_TPYPqjJuS_-nOfAIlfg', 'UCvGMGQC8gNkd4gwxSbABIlw'), ('UCIh_TPYPqjJuS_-nOfAIlfg', 'UCvhsiQGy_zcNCiSbeXEjhLg'), ('UCIh_TPYPqjJuS_-nOfAIlfg', 'UCvyyU4AdijSZFEO7qqXP6kQ'), ('UCIh_TPYPqjJuS_-nOfAIlfg', 'UCweDKPSF65wRw5VHFUJYiow'), ('UCIh_TPYPqjJuS_-nOfAIlfg', 'UCx0L2ZdYfiq-tsAXb8IXpQg'), ('UCIh_TPYPqjJuS_-nOfAIlfg', 'UCxvwSBdFZ6xq8hHz_R3Inug'), ('UCIh_TPYPqjJuS_-nOfAIlfg', 'UCyfuHhhSnKqOBII6YdTEJWQ'), ('UCIh_TPYPqjJuS_-nOfAIlfg', 'UCznHh6gk3ewFhaTZtdQFWWw'), ('UC-2YHgc363EdcusLIBbgxzg', 'UC4QZ_LsYcvcq7qOsOhpAX4A'), ('UC-2YHgc363EdcusLIBbgxzg', 'UCDetdM5XDZD1xrQHDPgEg5w'), ('UC-2YHgc363EdcusLIBbgxzg', 'UCF1fG3gT44nGTPU2sVLoFWg'), ('UC-2YHgc363EdcusLIBbgxzg', 'UCGk1LitxAZVnqQn0_nt5qxw'), ('UC-2YHgc363EdcusLIBbgxzg', 'UCJkMlOu7faDgqh4PfzbpLdg'), ('UC-2YHgc363EdcusLIBbgxzg', 'UCRlICXvO4XR4HMeEB9JjDlA'), ('UC-2YHgc363EdcusLIBbgxzg', 'UCUHW94eEFW7hkUMVaZz4eDg'), ('UC-2YHgc363EdcusLIBbgxzg', 'UCU_W0oE_ock8bWKjALiGs8Q'), ('UC-2YHgc363EdcusLIBbgxzg', 'UCir93b_ftqInEaDpsWYbo_g'), ('UC-2YHgc363EdcusLIBbgxzg', 'UCkRMqL3hLrIYhxNCac4vR3w'), ('UC-2YHgc363EdcusLIBbgxzg', 'UCqYPhGiB9tkShZorfgcL2lA'), ('UC06b5TQFFMFZvMakw1QLpQg', 'UCeTfBygNb1TahcNpZyELO8g'), ('UC0ahC64OhIAS11TJX9Ig86A', 'UC1CVzH-XVr3E-kTT6D8hhfg'), ('UC0ahC64OhIAS11TJX9Ig86A', 'UCjzSBCC2yv7dZmD5dQxV2ug'), ('UC0ahC64OhIAS11TJX9Ig86A', 'UCq9CkTK0Oq_ZZ5U9cbFZVag'), ('UC1CVzH-XVr3E-kTT6D8hhfg', 'UCZIIRX8rkNjVpP-oLMHpeDw'), ('UC1CVzH-XVr3E-kTT6D8hhfg', 'UCpIoF2UfscJv4cNSyLjuA6w'), ('UC26wVFmrwOSyMWwHmBbndhg', 'UCP8wqLAt5qYMmOwMB7-mvTQ'), ('UC3Fc8oa1IpkG970GOIHNQvg', 'UCUweLR_ygcqbcxTJGLGhW2A'), ('UC3LqW4ijMoENQ2Wv17ZrFJA', 'UCDetdM5XDZD1xrQHDPgEg5w'), ('UC3LqW4ijMoENQ2Wv17ZrFJA', 'UCoxcjq-8xIDTYp3uz647V5A'), ('UC4m2G6T18_JcjwxwtwKJijw', 'UCznv7Vf9nBdJYvBagFdAHWw'), ('UC4w_tMnHl6sw5VD93tVymGw', 'UCB9_VH_CNbbH4GfKu8qh63w'), ('UC7_gcs09iThXybpVgjHZ_7g', 'UCUHW94eEFW7hkUMVaZz4eDg'), ('UC7_gcs09iThXybpVgjHZ_7g', 'UCwmFOfFuvRPI112vR5DNnrA'), ('UC97k3hlbE-1rVN8y56zyEEA', 'UC1KbedtKa3d5dleFR6OjQMg'), ('UC97k3hlbE-1rVN8y56zyEEA', 'UC4FhvdvgZU5CVbXi2uWgiZg'), ('UC97k3hlbE-1rVN8y56zyEEA', 'UC68TLK0mAEzUyHx5x5k-S1Q'), ('UC97k3hlbE-1rVN8y56zyEEA', 'UCBDWo0g9N8pL8c9QhE8Lxxw'), ('UC97k3hlbE-1rVN8y56zyEEA', 'UCKX7OdeQ16O2KVor5rtEujA'), ('UC97k3hlbE-1rVN8y56zyEEA', 'UCKf0UqBiCQI4Ol0To9V0pKQ'), ('UC97k3hlbE-1rVN8y56zyEEA', 'UCLPy6BEgH1fD3DOgwX-x_Hg'), ('UC97k3hlbE-1rVN8y56zyEEA', 'UCTMLcC81ypVNk293RFS7Zaw'), ('UC97k3hlbE-1rVN8y56zyEEA', 'UCdn4zi8Tta1FSt0w87vCZwA'), ('UC97k3hlbE-1rVN8y56zyEEA', 'UCfqzZR7tG1GufD-D7EofBaQ'), ('UC97k3hlbE-1rVN8y56zyEEA', 'UCjzSBCC2yv7dZmD5dQxV2ug'), ('UC97k3hlbE-1rVN8y56zyEEA', 'UCoguzybAI8Fgdj4Aze5tE8w'), ('UC97k3hlbE-1rVN8y56zyEEA', 'UCvyyU4AdijSZFEO7qqXP6kQ'), ('UC9fnCGxIi_1P3vUZVZ4SUig', 'UCgIqhB8oD5SZ0yUSp71VCOQ'), ('UCAf9vHS_4I9lSu-7gYhkzaw', 'UCBdw4dLCLLHmTgAOnW4V0hQ'), ('UCAf9vHS_4I9lSu-7gYhkzaw', 'UCL8Nxsa1LB9DrMTHtt3IKiw'), ('UCAf9vHS_4I9lSu-7gYhkzaw', 'UCddiUEpeqJcYeBxX1IVBKvQ'), ('UCAf9vHS_4I9lSu-7gYhkzaw', 'UCe3tPdpxTF7wdBG8uV4hbew'), ('UCAf9vHS_4I9lSu-7gYhkzaw', 'UCht8qITGkBvXKsR1Byln-wA'), ('UCAf9vHS_4I9lSu-7gYhkzaw', 'UCoxcjq-8xIDTYp3uz647V5A'), ('UCAzXqFoW1Y7KDqwZ1x5m9EA', 'UCB9_VH_CNbbH4GfKu8qh63w'), ('UCAzXqFoW1Y7KDqwZ1x5m9EA', 'UClKgO_YP3pcIVeav2g_k6hw'), ('UCBDWo0g9N8pL8c9QhE8Lxxw', 'UCP8wqLAt5qYMmOwMB7-mvTQ'), ('UCBdw4dLCLLHmTgAOnW4V0hQ', 'UCduKuJToxWPizJ7I2E6n1kA'), ('UCCjyq_K1Xwfg8Lndy7lKMpA', 'UC-6OW5aJYBFM33zXQlBKPNA'), ('UCDt0iwnK2sPXaOyZhVmXIQw', 'UCDlQwv99CovKafGvxyaiNDA'), ('UCErSSa3CaP_GJxmFpdjG9Jw', 'UCx0L2ZdYfiq-tsAXb8IXpQg'), ('UCErSSa3CaP_GJxmFpdjG9Jw', 'UCs7nPQIEba0T3tGOWWsZpJQ'), ('UCErSSa3CaP_GJxmFpdjG9Jw', 'UC6-ymYjG0SU0jUWnWh9ZzEQ'), ('UCErSSa3CaP_GJxmFpdjG9Jw', 'UCJkMlOu7faDgqh4PfzbpLdg'), ('UCErSSa3CaP_GJxmFpdjG9Jw', 'UCqJ-Xo29CKyLTjn6z2XwYAw'), ('UCFBBFuhQc275ISHIQnkzSZg', 'UC4kjDjhexSVuC8JWk4ZanFw'), ('UCFBBFuhQc275ISHIQnkzSZg', 'UCB9_VH_CNbbH4GfKu8qh63w'), ('UCFBBFuhQc275ISHIQnkzSZg', 'UCKf0UqBiCQI4Ol0To9V0pKQ'), ('UCFBBFuhQc275ISHIQnkzSZg', 'UCKhvrZFbsNN_1tFN-X3iENg'), ('UCFBBFuhQc275ISHIQnkzSZg', 'UCduKuJToxWPizJ7I2E6n1kA'), ('UCFBBFuhQc275ISHIQnkzSZg', 'UCe072WU1CTmEZhkPS4bM6cQ'), ('UCFBBFuhQc275ISHIQnkzSZg', 'UClKgO_YP3pcIVeav2g_k6hw'), ('UCFBBFuhQc275ISHIQnkzSZg', 'UCpIoF2UfscJv4cNSyLjuA6w'), ('UCG-KntY7aVnIGXYEBQvmBAQ', 'UCtUId5WFnN82GdDy7DgaQ7w'), ('UCG-KntY7aVnIGXYEBQvmBAQ', 'UC8XKyvQ5Ne_bvYbgv8LaIeg'), ('UCG-KntY7aVnIGXYEBQvmBAQ', 'UCGk1LitxAZVnqQn0_nt5qxw'), ('UCGk1LitxAZVnqQn0_nt5qxw', 'UCznv7Vf9nBdJYvBagFdAHWw'), ('UCH4BNI0-FOK2dMXoFtViWHw', 'UCUHW94eEFW7hkUMVaZz4eDg'), ('UCH4BNI0-FOK2dMXoFtViWHw', 'UCqmugCqELzhIMNYnsjScXXw'), ('UCH9ciCUcWavMsFcAJtLUSyw', 'UC0ASolYU_Yh3yShLFQC0stg'), ('UCH9ciCUcWavMsFcAJtLUSyw', 'UC26wVFmrwOSyMWwHmBbndhg'), ('UCH9ciCUcWavMsFcAJtLUSyw', 'UC4FhvdvgZU5CVbXi2uWgiZg'), ('UCH9ciCUcWavMsFcAJtLUSyw', 'UCRx0HAyAfmcqtrQYK3IITBA'), ('UCH9ciCUcWavMsFcAJtLUSyw', 'UCduKuJToxWPizJ7I2E6n1kA'), ('UCH9ciCUcWavMsFcAJtLUSyw', 'UCh0wrs-8ywjgZO7flfSmlqg'), ('UCHnqvUJVmNu3pjIpBulbIAg', 'UCi88E1kes0Y7bq4fv33TIPQ'), ('UCIJ_l9TjwwVNO-S6QW0OXvg', 'UC26wVFmrwOSyMWwHmBbndhg'), ('UCIJ_l9TjwwVNO-S6QW0OXvg', 'UClKgO_YP3pcIVeav2g_k6hw'), ('UCJHroOyfde4rZLTL2Zmk1UQ', 'UC0ASolYU_Yh3yShLFQC0stg'), ('UCJHroOyfde4rZLTL2Zmk1UQ', 'UC26wVFmrwOSyMWwHmBbndhg'), ('UCJHroOyfde4rZLTL2Zmk1UQ', 'UCKX7OdeQ16O2KVor5rtEujA'), ('UCJkMlOu7faDgqh4PfzbpLdg', 'UC3LqW4ijMoENQ2Wv17ZrFJA'), ('UCJkMlOu7faDgqh4PfzbpLdg', 'UC68TLK0mAEzUyHx5x5k-S1Q'), ('UCJkMlOu7faDgqh4PfzbpLdg', 'UCCqEeDAUf4Mg0GgEN658tkA'), ('UCJkMlOu7faDgqh4PfzbpLdg', 'UCpJmBQ8iNHXeQ7jQWDyGe3A'), ('UCK-65DO2oOxxMwphl2tYtcw', 'UCeTfBygNb1TahcNpZyELO8g'), ('UCKIPOflZbfGRM8-IehI775w', 'UC0ASolYU_Yh3yShLFQC0stg'), ('UCKIPOflZbfGRM8-IehI775w', 'UC26wVFmrwOSyMWwHmBbndhg'), ('UCKIPOflZbfGRM8-IehI775w', 'UC3DkFux8Iv-aYnTRWzwaiBA'), ('UCKIPOflZbfGRM8-IehI775w', 'UCPCiBMarvDiTx-lknzt934g'), ('UCKIPOflZbfGRM8-IehI775w', 'UCPx2nKfFk4p6IkQsMW9O0xQ'), ('UCKIPOflZbfGRM8-IehI775w', 'UCQRWMCWv0QvFVanS7tkJazQ'), ('UCKIPOflZbfGRM8-IehI775w', 'UCTBjtACFlDmd-g6Gtva9biQ'), ('UCKIPOflZbfGRM8-IehI775w', 'UCZIIRX8rkNjVpP-oLMHpeDw'), ('UCKIPOflZbfGRM8-IehI775w', 'UCjzSBCC2yv7dZmD5dQxV2ug'), ('UCKIPOflZbfGRM8-IehI775w', 'UCznv7Vf9nBdJYvBagFdAHWw'), ('UCKxQmKgrkUv4S7P5w0pLayw', 'UCgIqhB8oD5SZ0yUSp71VCOQ'), ('UCKxQmKgrkUv4S7P5w0pLayw', 'UCmA-0j6DRVQWo4skl8Otkiw'), ('UCL8Nxsa1LB9DrMTHtt3IKiw', 'UC4QZ_LsYcvcq7qOsOhpAX4A'), ('UCLPy6BEgH1fD3DOgwX-x_Hg', 'UCGybO-bWZ3W6URh42sdMQiw'), ('UCLPy6BEgH1fD3DOgwX-x_Hg', 'UCqYPhGiB9tkShZorfgcL2lA'), ('UCMHRsRcbsKW1Xw9CPANpz2A', 'UClKgO_YP3pcIVeav2g_k6hw'), ('UCMkhrrPkmx7xxlolSP9qEsA', 'UCB9_VH_CNbbH4GfKu8qh63w'), ('UCMkhrrPkmx7xxlolSP9qEsA', 'UCR0AnNR7sViH3TWMJl5jyxw'), ('UCNKtHIrVMaDE7hovBvodpDw', 'UC3DkFux8Iv-aYnTRWzwaiBA'), ('UCNKtHIrVMaDE7hovBvodpDw', 'UCht8qITGkBvXKsR1Byln-wA'), ('UCNKtHIrVMaDE7hovBvodpDw', 'UClKgO_YP3pcIVeav2g_k6hw'), ('UCNKtHIrVMaDE7hovBvodpDw', 'UCsUbFOUqtrU4oRSDfjb78ig'), ('UCNQjYSosLXPZjRyhhnAIriA', 'UCPCiBMarvDiTx-lknzt934g'), ('UCNQjYSosLXPZjRyhhnAIriA', 'UC1CVzH-XVr3E-kTT6D8hhfg'), ('UCO_vmeInQm5Z6dEZ6R5Kk0A', 'UCDlQwv99CovKafGvxyaiNDA'), ('UCO_vmeInQm5Z6dEZ6R5Kk0A', 'UCSOpcUkE-is7u7c4AkLgqTw'), ('UCO_vmeInQm5Z6dEZ6R5Kk0A', 'UCSy9Nf-NSaQbP4PyA5jnd2A'), ('UCO_vmeInQm5Z6dEZ6R5Kk0A', 'UCk1SpWNzOs4MYmr0uICEntg'), ('UCObA5o3mcc1felIMAv6cukw', 'UC1CVzH-XVr3E-kTT6D8hhfg'), ('UCObA5o3mcc1felIMAv6cukw', 'UC68TLK0mAEzUyHx5x5k-S1Q'), ('UCObA5o3mcc1felIMAv6cukw', 'UCAcQW_4qZ12wNt3T0M9b-Vw'), ('UCObA5o3mcc1felIMAv6cukw', 'UCGybO-bWZ3W6URh42sdMQiw'), ('UCP3AVTw_73U_8jMzLw5TbEg', 'UC-nPM1_kSZf91ZGkcgy_95Q'), ('UCP3AVTw_73U_8jMzLw5TbEg', 'UC67f2Qf7FYhtoUIF4Sf29cA'), ('UCP3AVTw_73U_8jMzLw5TbEg', 'UCuVxaQDraOja6xKidcmoufA'), ('UCP3AVTw_73U_8jMzLw5TbEg', 'UCwmFOfFuvRPI112vR5DNnrA'), ('UCP8wqLAt5qYMmOwMB7-mvTQ', 'UC26wVFmrwOSyMWwHmBbndhg'), ('UCP8wqLAt5qYMmOwMB7-mvTQ', 'UCBDWo0g9N8pL8c9QhE8Lxxw'), ('UCQRWMCWv0QvFVanS7tkJazQ', 'UCj5xtoMdxx-Z_7L6RN7N1ZQ'), ('UCR0AnNR7sViH3TWMJl5jyxw', 'UC-6OW5aJYBFM33zXQlBKPNA'), ('UCR0AnNR7sViH3TWMJl5jyxw', 'UCDlQwv99CovKafGvxyaiNDA'), ('UCR0AnNR7sViH3TWMJl5jyxw', 'UCGS474QoP8SCnSo6hOCaayA'), ('UCR0AnNR7sViH3TWMJl5jyxw', 'UCSy9Nf-NSaQbP4PyA5jnd2A'), ('UCR0AnNR7sViH3TWMJl5jyxw', 'UCUHW94eEFW7hkUMVaZz4eDg'), ('UCR0AnNR7sViH3TWMJl5jyxw', 'UCW6J17hZ_Vgr6cQgd_kHt5A'), ('UCR0AnNR7sViH3TWMJl5jyxw', 'UCgyqtNWZmIxTx3b6OxTSALw'), ('UCR0AnNR7sViH3TWMJl5jyxw', 'UCir93b_ftqInEaDpsWYbo_g'), ('UCR0AnNR7sViH3TWMJl5jyxw', 'UCkDSAQ_5-yx5hmuvUcsJL7A'), ('UCR0AnNR7sViH3TWMJl5jyxw', 'UCqg5FCR7NrpvlBWMXdt-5Vg'), ('UCR0AnNR7sViH3TWMJl5jyxw', 'UCvyyU4AdijSZFEO7qqXP6kQ'), ('UCROQqK3_z79JuTetNP3pIXQ', 'UCJkMlOu7faDgqh4PfzbpLdg'), ('UCROQqK3_z79JuTetNP3pIXQ', 'UCF1fG3gT44nGTPU2sVLoFWg'), ('UCSYG0DaTjEpo9LlE-f_1L1g', 'UCU_W0oE_ock8bWKjALiGs8Q'), ('UCTBjtACFlDmd-g6Gtva9biQ', 'UCh_S_EgAc6bAdu8C9aaqz1w'), ('UCTMLcC81ypVNk293RFS7Zaw', 'UC97k3hlbE-1rVN8y56zyEEA'), ('UCU0DZhN-8KFLYO6beSaYljg', 'UC0ASolYU_Yh3yShLFQC0stg'), ('UCU0DZhN-8KFLYO6beSaYljg', 'UC1Aq3T1GmKcObLqo1YIU_Ww'), ('UCU0DZhN-8KFLYO6beSaYljg', 'UC3DkFux8Iv-aYnTRWzwaiBA'), ('UCU0DZhN-8KFLYO6beSaYljg', 'UC68TLK0mAEzUyHx5x5k-S1Q'), ('UCU0DZhN-8KFLYO6beSaYljg', 'UC8XKyvQ5Ne_bvYbgv8LaIeg'), ('UCU0DZhN-8KFLYO6beSaYljg', 'UC9BNGVGr_lvbn3d23ckuVOA'), ('UCU0DZhN-8KFLYO6beSaYljg', 'UCAohrrjG-3gEp5QF1WlM9_w'), ('UCU0DZhN-8KFLYO6beSaYljg', 'UCDlQwv99CovKafGvxyaiNDA'), ('UCU0DZhN-8KFLYO6beSaYljg', 'UCGybO-bWZ3W6URh42sdMQiw'), ('UCU0DZhN-8KFLYO6beSaYljg', 'UCPCiBMarvDiTx-lknzt934g'), ('UCU0DZhN-8KFLYO6beSaYljg', 'UCPx2nKfFk4p6IkQsMW9O0xQ'), ('UCU0DZhN-8KFLYO6beSaYljg', 'UCWYRT-NhEqkZ_afrqEgxYOQ'), ('UCU0DZhN-8KFLYO6beSaYljg', 'UCZIIRX8rkNjVpP-oLMHpeDw'), ('UCU0DZhN-8KFLYO6beSaYljg', 'UCduKuJToxWPizJ7I2E6n1kA'), ('UCU0DZhN-8KFLYO6beSaYljg', 'UChgSKQAuBPZIBAfokctA33g'), ('UCU0DZhN-8KFLYO6beSaYljg', 'UCht8qITGkBvXKsR1Byln-wA'), ('UCU0DZhN-8KFLYO6beSaYljg', 'UCjzSBCC2yv7dZmD5dQxV2ug'), ('UCU0DZhN-8KFLYO6beSaYljg', 'UCqmugCqELzhIMNYnsjScXXw'), ('UCU0DZhN-8KFLYO6beSaYljg', 'UCtUId5WFnN82GdDy7DgaQ7w'), ('UCU0DZhN-8KFLYO6beSaYljg', 'UCznv7Vf9nBdJYvBagFdAHWw'), ('UCUHW94eEFW7hkUMVaZz4eDg', 'UCoxcjq-8xIDTYp3uz647V5A'), ('UCURz5rKDgt7YibUSageNhEw', 'UC6-ymYjG0SU0jUWnWh9ZzEQ'), ('UCURz5rKDgt7YibUSageNhEw', 'UCF1fG3gT44nGTPU2sVLoFWg'), ('UCURz5rKDgt7YibUSageNhEw', 'UCG-KntY7aVnIGXYEBQvmBAQ'), ('UCURz5rKDgt7YibUSageNhEw', 'UCUHW94eEFW7hkUMVaZz4eDg'), ('UCURz5rKDgt7YibUSageNhEw', 'UCkDSAQ_5-yx5hmuvUcsJL7A'), ('UCURz5rKDgt7YibUSageNhEw', 'UCx0L2ZdYfiq-tsAXb8IXpQg'), ('UCYNGKZuT3dj0J0bBt4qfqXQ', 'UC3DkFux8Iv-aYnTRWzwaiBA'), ('UCYNGKZuT3dj0J0bBt4qfqXQ', 'UC4QZ_LsYcvcq7qOsOhpAX4A'), ('UCYNGKZuT3dj0J0bBt4qfqXQ', 'UC67f2Qf7FYhtoUIF4Sf29cA'), ('UCYNGKZuT3dj0J0bBt4qfqXQ', 'UC9BNGVGr_lvbn3d23ckuVOA'), ('UCYNGKZuT3dj0J0bBt4qfqXQ', 'UCD-4g5w1h8xQpLaNS_ghU4g'), ('UCYNGKZuT3dj0J0bBt4qfqXQ', 'UCGybO-bWZ3W6URh42sdMQiw'), ('UCYNGKZuT3dj0J0bBt4qfqXQ', 'UCK9_x1DImhU-eolIay5rb2Q'), ('UCYNGKZuT3dj0J0bBt4qfqXQ', 'UCNvzD7Z-g64bPXxGzaQaa4g'), ('UCYNGKZuT3dj0J0bBt4qfqXQ', 'UCU_W0oE_ock8bWKjALiGs8Q'), ('UCYNGKZuT3dj0J0bBt4qfqXQ', 'UCZIIRX8rkNjVpP-oLMHpeDw'), ('UCYNGKZuT3dj0J0bBt4qfqXQ', 'UCs_6DXZROU29pLvgQdCx4Ww'), ('UCYNGKZuT3dj0J0bBt4qfqXQ', 'UCuHeVY3bLH1OdhhQ_KyJnUA'), ('UCYNGKZuT3dj0J0bBt4qfqXQ', 'UCweDKPSF65wRw5VHFUJYiow'), ('UC_9SjsqyO87d4aZkEqNuHBA', 'UC68TLK0mAEzUyHx5x5k-S1Q'), ('UC_9SjsqyO87d4aZkEqNuHBA', 'UCLPy6BEgH1fD3DOgwX-x_Hg'), ('UC_9SjsqyO87d4aZkEqNuHBA', 'UCoxcjq-8xIDTYp3uz647V5A'), ('UCbu2SsF-Or3Rsn3NxqODImw', 'UCQMbqH7xJu5aTAPQ9y_U7WQ'), ('UCd_A2F0XknHjbVceIoiPfrA', 'UC26wVFmrwOSyMWwHmBbndhg'), ('UCddiUEpeqJcYeBxX1IVBKvQ', 'UCuVxaQDraOja6xKidcmoufA'), ('UCddiUEpeqJcYeBxX1IVBKvQ', 'UCDlQwv99CovKafGvxyaiNDA'), ('UCdsOTr6SmDrxuWE7sJFrkhQ', 'UCQRWMCWv0QvFVanS7tkJazQ'), ('UCdsOTr6SmDrxuWE7sJFrkhQ', 'UCoxcjq-8xIDTYp3uz647V5A'), ('UCe3tPdpxTF7wdBG8uV4hbew', 'UCDetdM5XDZD1xrQHDPgEg5w'), ('UCe3tPdpxTF7wdBG8uV4hbew', 'UCdsOTr6SmDrxuWE7sJFrkhQ'), ('UCe3tPdpxTF7wdBG8uV4hbew', 'UCpJmBQ8iNHXeQ7jQWDyGe3A'), ('UCe3tPdpxTF7wdBG8uV4hbew', 'UCzWQYUVCpZqtN93H8RR44Qw'), ('UCeTfBygNb1TahcNpZyELO8g', 'UC3LqW4ijMoENQ2Wv17ZrFJA'), ('UCeTfBygNb1TahcNpZyELO8g', 'UCF1fG3gT44nGTPU2sVLoFWg'), ('UCeTfBygNb1TahcNpZyELO8g', 'UCK-65DO2oOxxMwphl2tYtcw'), ('UCeTfBygNb1TahcNpZyELO8g', 'UCqJ-Xo29CKyLTjn6z2XwYAw'), ('UCeTfBygNb1TahcNpZyELO8g', 'UCuVxaQDraOja6xKidcmoufA'), ('UCeTfBygNb1TahcNpZyELO8g', 'UCx0L2ZdYfiq-tsAXb8IXpQg'), ('UCfqzZR7tG1GufD-D7EofBaQ', 'UC2D2CMWXMOVWx7giW1n3LIg'), ('UCfqzZR7tG1GufD-D7EofBaQ', 'UCGybO-bWZ3W6URh42sdMQiw'), ('UCfwXVYfPFiMlzadS4ow80GA', 'UCht8qITGkBvXKsR1Byln-wA'), ('UChVak8_IyuqcErdf_jQUOHA', 'UC0ahC64OhIAS11TJX9Ig86A'), ('UChVak8_IyuqcErdf_jQUOHA', 'UC3DkFux8Iv-aYnTRWzwaiBA'), ('UChVak8_IyuqcErdf_jQUOHA', 'UC68TLK0mAEzUyHx5x5k-S1Q'), ('UChVak8_IyuqcErdf_jQUOHA', 'UCkRMqL3hLrIYhxNCac4vR3w'), ('UChnN9MPURwKV2PbEoT2vhTQ', 'UCDlQwv99CovKafGvxyaiNDA'), ('UChqgQknjcmAsjosqac1uLqA', 'UCPOrN8u0yH-gIEb7SkMwkTw'), ('UChqgQknjcmAsjosqac1uLqA', 'UCUHW94eEFW7hkUMVaZz4eDg'), ('UCi88E1kes0Y7bq4fv33TIPQ', 'UCHnqvUJVmNu3pjIpBulbIAg'), ('UCiDJtJKMICpb9B1qf7qjEOA', 'UCoxcjq-8xIDTYp3uz647V5A'), ('UCj5xtoMdxx-Z_7L6RN7N1ZQ', 'UCQRWMCWv0QvFVanS7tkJazQ'), ('UCj5xtoMdxx-Z_7L6RN7N1ZQ', 'UCSYG0DaTjEpo9LlE-f_1L1g'), ('UCj5xtoMdxx-Z_7L6RN7N1ZQ', 'UClYb9NpXnRemxYoWbcYANsA'), ('UCj5xtoMdxx-Z_7L6RN7N1ZQ', 'UCznv7Vf9nBdJYvBagFdAHWw'), ('UCjD2KyAEm84yVH8cTilID7Q', 'UC6-ymYjG0SU0jUWnWh9ZzEQ'), ('UCjD2KyAEm84yVH8cTilID7Q', 'UCF1fG3gT44nGTPU2sVLoFWg'), ('UCjD2KyAEm84yVH8cTilID7Q', 'UCQMbqH7xJu5aTAPQ9y_U7WQ'), ('UCjD2KyAEm84yVH8cTilID7Q', 'UCkDSAQ_5-yx5hmuvUcsJL7A'), ('UCjD2KyAEm84yVH8cTilID7Q', 'UCoxcjq-8xIDTYp3uz647V5A'), ('UCjD2KyAEm84yVH8cTilID7Q', 'UCuVxaQDraOja6xKidcmoufA'), ('UCjzSBCC2yv7dZmD5dQxV2ug', 'UC97k3hlbE-1rVN8y56zyEEA'), ('UCk1SpWNzOs4MYmr0uICEntg', 'UCO_vmeInQm5Z6dEZ6R5Kk0A'), ('UCkRMqL3hLrIYhxNCac4vR3w', 'UCmRfQHc3U4fV1-i8Ry1HmtA'), ('UClKgO_YP3pcIVeav2g_k6hw', 'UCMHRsRcbsKW1Xw9CPANpz2A'), ('UClYb9NpXnRemxYoWbcYANsA', 'UC6-ymYjG0SU0jUWnWh9ZzEQ'), ('UClYb9NpXnRemxYoWbcYANsA', 'UCDetdM5XDZD1xrQHDPgEg5w'), ('UClYb9NpXnRemxYoWbcYANsA', 'UCJkMlOu7faDgqh4PfzbpLdg'), ('UClYb9NpXnRemxYoWbcYANsA', 'UCR9sFzaG9Ia_kXJhfxtFMBA'), ('UClYb9NpXnRemxYoWbcYANsA', 'UCs7nPQIEba0T3tGOWWsZpJQ'), ('UCmY2tPu6TZMqHHNPj2QPwUQ', 'UCqJ-Xo29CKyLTjn6z2XwYAw'), ('UCmdlnVFzmf7Zhqm_QE-UlJw', 'UC68TLK0mAEzUyHx5x5k-S1Q'), ('UCmdlnVFzmf7Zhqm_QE-UlJw', 'UC1CVzH-XVr3E-kTT6D8hhfg'), ('UCpIoF2UfscJv4cNSyLjuA6w', 'UC1CVzH-XVr3E-kTT6D8hhfg'), ('UCq9CkTK0Oq_ZZ5U9cbFZVag', 'UC4QZ_LsYcvcq7qOsOhpAX4A'), ('UCq9CkTK0Oq_ZZ5U9cbFZVag', 'UC6-ymYjG0SU0jUWnWh9ZzEQ'), ('UCq9CkTK0Oq_ZZ5U9cbFZVag', 'UCduKuJToxWPizJ7I2E6n1kA'), ('UCq9CkTK0Oq_ZZ5U9cbFZVag', 'UCqYPhGiB9tkShZorfgcL2lA'), ('UCq9CkTK0Oq_ZZ5U9cbFZVag', 'UCvQECJukTDE2i6aCoMnS-Vg'), ('UCqD1vWlpai9SUvfNfzVvUqA', 'UC4QZ_LsYcvcq7qOsOhpAX4A'), ('UCqD1vWlpai9SUvfNfzVvUqA', 'UCGS474QoP8SCnSo6hOCaayA'), ('UCqjwF8rxRsotnojGl4gM0Zw', 'UC4QZ_LsYcvcq7qOsOhpAX4A'), ('UCqjwF8rxRsotnojGl4gM0Zw', 'UCRlICXvO4XR4HMeEB9JjDlA'), ('UCqjwF8rxRsotnojGl4gM0Zw', 'UCjzSBCC2yv7dZmD5dQxV2ug'), ('UCqmugCqELzhIMNYnsjScXXw', 'UCwmFOfFuvRPI112vR5DNnrA'), ('UCrzICdOsXhtn4zMlk4bnTIg', 'UC0ASolYU_Yh3yShLFQC0stg'), ('UCrzICdOsXhtn4zMlk4bnTIg', 'UC1Aq3T1GmKcObLqo1YIU_Ww'), ('UCrzICdOsXhtn4zMlk4bnTIg', 'UC1KbedtKa3d5dleFR6OjQMg'), ('UCrzICdOsXhtn4zMlk4bnTIg', 'UC2D2CMWXMOVWx7giW1n3LIg'), ('UCrzICdOsXhtn4zMlk4bnTIg', 'UC4FhvdvgZU5CVbXi2uWgiZg'), ('UCrzICdOsXhtn4zMlk4bnTIg', 'UC68TLK0mAEzUyHx5x5k-S1Q'), ('UCrzICdOsXhtn4zMlk4bnTIg', 'UC6TRaqsCQQBI0QF6aSBz4nw'), ('UCrzICdOsXhtn4zMlk4bnTIg', 'UCAcQW_4qZ12wNt3T0M9b-Vw'), ('UCrzICdOsXhtn4zMlk4bnTIg', 'UCGk1LitxAZVnqQn0_nt5qxw'), ('UCrzICdOsXhtn4zMlk4bnTIg', 'UCGybO-bWZ3W6URh42sdMQiw'), ('UCrzICdOsXhtn4zMlk4bnTIg', 'UCKf0UqBiCQI4Ol0To9V0pKQ'), ('UCrzICdOsXhtn4zMlk4bnTIg', 'UCL8Nxsa1LB9DrMTHtt3IKiw'), ('UCrzICdOsXhtn4zMlk4bnTIg', 'UCPCiBMarvDiTx-lknzt934g'), ('UCrzICdOsXhtn4zMlk4bnTIg', 'UCPx2nKfFk4p6IkQsMW9O0xQ'), ('UCrzICdOsXhtn4zMlk4bnTIg', 'UCRx0HAyAfmcqtrQYK3IITBA'), ('UCrzICdOsXhtn4zMlk4bnTIg', 'UCVYbUVLrZ6pEBfYV_UyvItA'), ('UCrzICdOsXhtn4zMlk4bnTIg', 'UCZIIRX8rkNjVpP-oLMHpeDw'), ('UCrzICdOsXhtn4zMlk4bnTIg', 'UCajFsJ74oE4zt3sPkOP_81g'), ('UCrzICdOsXhtn4zMlk4bnTIg', 'UCduKuJToxWPizJ7I2E6n1kA'), ('UCrzICdOsXhtn4zMlk4bnTIg', 'UCe072WU1CTmEZhkPS4bM6cQ'), ('UCrzICdOsXhtn4zMlk4bnTIg', 'UClKgO_YP3pcIVeav2g_k6hw'), ('UCrzICdOsXhtn4zMlk4bnTIg', 'UCmRfQHc3U4fV1-i8Ry1HmtA'), ('UCsvazPPlhZlch0-Z3wPByeg', 'UC9fnCGxIi_1P3vUZVZ4SUig'), ('UCtBw4N4-EiaAqK9TvZGlGDw', 'UC1KbedtKa3d5dleFR6OjQMg'), ('UCtBw4N4-EiaAqK9TvZGlGDw', 'UCGybO-bWZ3W6URh42sdMQiw'), ('UCtBw4N4-EiaAqK9TvZGlGDw', 'UCNKtHIrVMaDE7hovBvodpDw'), ('UCtBw4N4-EiaAqK9TvZGlGDw', 'UCe072WU1CTmEZhkPS4bM6cQ'), ('UCuVxaQDraOja6xKidcmoufA', 'UCddiUEpeqJcYeBxX1IVBKvQ'), ('UCvQECJukTDE2i6aCoMnS-Vg', 'UCR9sFzaG9Ia_kXJhfxtFMBA'), ('UCvQECJukTDE2i6aCoMnS-Vg', 'UCqmugCqELzhIMNYnsjScXXw'), ('UCwJfDTNqtM5n-dQBfuuHzYw', 'UCBDWo0g9N8pL8c9QhE8Lxxw'), ('UCwmFOfFuvRPI112vR5DNnrA', 'UCqmugCqELzhIMNYnsjScXXw'), ('UCyjTUNqX_vasRG4AAaM34jA', 'UCjD2KyAEm84yVH8cTilID7Q'), ('UCyqHPsR1eKEPSunlp6E-LSQ', 'UC1Aq3T1GmKcObLqo1YIU_Ww'), ('UCyqHPsR1eKEPSunlp6E-LSQ', 'UC3DkFux8Iv-aYnTRWzwaiBA'), ('UCzWQYUVCpZqtN93H8RR44Qw', 'UCe3tPdpxTF7wdBG8uV4hbew'), ('UCznv7Vf9nBdJYvBagFdAHWw', 'UC4FhvdvgZU5CVbXi2uWgiZg'), ('UCznv7Vf9nBdJYvBagFdAHWw', 'UC4m2G6T18_JcjwxwtwKJijw'), ('UCznv7Vf9nBdJYvBagFdAHWw', 'UCh0wrs-8ywjgZO7flfSmlqg')]\n"
     ]
    }
   ],
   "source": [
    "local_bridges = find_local_bridges(G)\n",
    "print(\"Local Bridges:\", local_bridges)"
   ]
  },
  {
   "cell_type": "code",
   "execution_count": 10,
   "id": "823fd81d4adbf2b3",
   "metadata": {
    "collapsed": false,
    "ExecuteTime": {
     "end_time": "2024-01-15T20:54:32.398749600Z",
     "start_time": "2024-01-15T20:54:32.387359800Z"
    }
   },
   "outputs": [],
   "source": [
    "# Function to get the label of a node\n",
    "def get_label(G, node_id):\n",
    "    return G.nodes[node_id]['label']\n",
    "\n",
    "# Finding bridges and replacing node IDs with labels\n",
    "bridges = [(get_label(G, u), get_label(G, v)) for u, v in nx.bridges(G.to_undirected())]"
   ]
  },
  {
   "cell_type": "code",
   "execution_count": 11,
   "id": "a0a4f59742673757",
   "metadata": {
    "collapsed": false,
    "ExecuteTime": {
     "end_time": "2024-01-15T20:54:32.541093200Z",
     "start_time": "2024-01-15T20:54:32.536080Z"
    }
   },
   "outputs": [
    {
     "data": {
      "text/plain": "[('The Bioneer', 'Aim To Head Official'),\n ('The Bioneer', 'Quinn s Ideas'),\n ('The Bioneer', 'Tee Lopes'),\n ('The Bioneer', 'MuscleTV'),\n ('The Bioneer', 'The  80s Guy'),\n ('The Bioneer', 'SwitchForce'),\n ('The Bioneer', 'RGT 85'),\n ('The Bioneer', 'Original Strength'),\n ('The Bioneer', 'Sonic the Hedgehog'),\n ('The Bioneer', 'CGRundertow'),\n ('The Bioneer', 'Matty Fusaro'),\n ('The Bioneer', 'The Closer Look'),\n ('The Bioneer', 'Tao Physique'),\n ('The Bioneer', 'Pocket Gamer'),\n ('The Bioneer', 'khanacademymedicine'),\n ('The Bioneer', 'GameTrailers'),\n ('The Bioneer', 'Explore Gadgets'),\n ('The Bioneer', 'vsauceLEANBACK'),\n ('The Bioneer', 'ParryGripp'),\n ('The Bioneer', 'Yuriofwind'),\n ('The Bioneer', 'The Movement System'),\n ('The Bioneer', 'Mastar'),\n ('The Bioneer', 'Eric Jacobus'),\n ('The Bioneer', 'AppSumo'),\n ('The Bioneer', 'World Science Festival'),\n ('The Bioneer', 'JimTV'),\n ('The Bioneer', 'Dave Bennett'),\n ('The Bioneer', 'Krista King'),\n ('The Bioneer', 'MegaGWolf'),\n ('The Bioneer', 'SPARTAN BODYBUILDING'),\n ('The Bioneer', 'The Thought Emporium'),\n ('The Bioneer', 'Android Developers'),\n ('The Bioneer', 'SearingWolfe'),\n ('The Bioneer', 'Skill Up'),\n ('The Bioneer', 'Derren Brown'),\n ('The Bioneer', 'Gokuflex'),\n ('The Bioneer', 'Hybrid Calisthenics'),\n ('The Bioneer', 'Implicitly Pretentious'),\n ('The Bioneer', 'Sonic Central'),\n ('The Bioneer', 'Physionic'),\n ('The Bioneer', 'Max Derrat'),\n ('The Bioneer', 'Sorelle Amore'),\n ('The Bioneer', 'Nintendo Life'),\n ('The Bioneer', 'SCHILLER official'),\n ('The Bioneer', 'ANLLELA SAGRA'),\n ('The Bioneer', 'Mover s Odyssey'),\n ('The Bioneer', 'Beerdy - Bruce Lee Central'),\n ('The Bioneer', 'Deus Ex'),\n ('The Bioneer', 'New Scientist'),\n ('The Bioneer', 'Quirkology'),\n ('The Bioneer', 'RSA'),\n ('The Bioneer', 'Philip Hartshorn'),\n ('The Bioneer', 'Prozis'),\n ('The Bioneer', 'Greg and Mitch')]"
     },
     "execution_count": 11,
     "metadata": {},
     "output_type": "execute_result"
    }
   ],
   "source": [
    "bridges"
   ]
  },
  {
   "cell_type": "code",
   "execution_count": 12,
   "id": "f316a95fdc40fc9e",
   "metadata": {
    "collapsed": false,
    "ExecuteTime": {
     "end_time": "2024-01-15T20:54:32.705437800Z",
     "start_time": "2024-01-15T20:54:32.694113100Z"
    }
   },
   "outputs": [
    {
     "data": {
      "text/plain": "[('UCIh_TPYPqjJuS_-nOfAIlfg', 'UC-6OW5aJYBFM33zXQlBKPNA'),\n ('UCIh_TPYPqjJuS_-nOfAIlfg', 'UC-nPM1_kSZf91ZGkcgy_95Q'),\n ('UCIh_TPYPqjJuS_-nOfAIlfg', 'UC0ASolYU_Yh3yShLFQC0stg'),\n ('UCIh_TPYPqjJuS_-nOfAIlfg', 'UC1Aq3T1GmKcObLqo1YIU_Ww'),\n ('UCIh_TPYPqjJuS_-nOfAIlfg', 'UC1KJEk-EZMmDF9DJKMK5OCQ'),\n ('UCIh_TPYPqjJuS_-nOfAIlfg', 'UC1KbedtKa3d5dleFR6OjQMg'),\n ('UCIh_TPYPqjJuS_-nOfAIlfg', 'UC1rFmaGLYr0Ve_Y_soxZNWQ'),\n ('UCIh_TPYPqjJuS_-nOfAIlfg', 'UC2D2CMWXMOVWx7giW1n3LIg'),\n ('UCIh_TPYPqjJuS_-nOfAIlfg', 'UC3DkFux8Iv-aYnTRWzwaiBA'),\n ('UCIh_TPYPqjJuS_-nOfAIlfg', 'UC3Va-8NnzTuV-Yv-JlyuQsQ'),\n ('UCIh_TPYPqjJuS_-nOfAIlfg', 'UC4FhvdvgZU5CVbXi2uWgiZg'),\n ('UCIh_TPYPqjJuS_-nOfAIlfg', 'UC4QZ_LsYcvcq7qOsOhpAX4A'),\n ('UCIh_TPYPqjJuS_-nOfAIlfg', 'UC4kjDjhexSVuC8JWk4ZanFw'),\n ('UCIh_TPYPqjJuS_-nOfAIlfg', 'UC51T6qSRDmVsENyV57Mjkgg'),\n ('UCIh_TPYPqjJuS_-nOfAIlfg', 'UC6-ymYjG0SU0jUWnWh9ZzEQ'),\n ('UCIh_TPYPqjJuS_-nOfAIlfg', 'UC67f2Qf7FYhtoUIF4Sf29cA'),\n ('UCIh_TPYPqjJuS_-nOfAIlfg', 'UC68TLK0mAEzUyHx5x5k-S1Q'),\n ('UCIh_TPYPqjJuS_-nOfAIlfg', 'UC6TRaqsCQQBI0QF6aSBz4nw'),\n ('UCIh_TPYPqjJuS_-nOfAIlfg', 'UC6ghlxmJNMd8BE_u1HR-bTg'),\n ('UCIh_TPYPqjJuS_-nOfAIlfg', 'UC8XKyvQ5Ne_bvYbgv8LaIeg'),\n ('UCIh_TPYPqjJuS_-nOfAIlfg', 'UC8wucBti_VxVFhUAzOLyMHw'),\n ('UCIh_TPYPqjJuS_-nOfAIlfg', 'UC9BNGVGr_lvbn3d23ckuVOA'),\n ('UCIh_TPYPqjJuS_-nOfAIlfg', 'UCA5RGaQc-a8tIX_AqTTmWdw'),\n ('UCIh_TPYPqjJuS_-nOfAIlfg', 'UCAcQW_4qZ12wNt3T0M9b-Vw'),\n ('UCIh_TPYPqjJuS_-nOfAIlfg', 'UCAohrrjG-3gEp5QF1WlM9_w'),\n ('UCIh_TPYPqjJuS_-nOfAIlfg', 'UCB9_VH_CNbbH4GfKu8qh63w'),\n ('UCIh_TPYPqjJuS_-nOfAIlfg', 'UCC6g6yv0bSnA6nO3glRKL_Q'),\n ('UCIh_TPYPqjJuS_-nOfAIlfg', 'UCCOSYITWQHRSUxvlQ4_PSCg'),\n ('UCIh_TPYPqjJuS_-nOfAIlfg', 'UCCqEeDAUf4Mg0GgEN658tkA'),\n ('UCIh_TPYPqjJuS_-nOfAIlfg', 'UCD-4g5w1h8xQpLaNS_ghU4g'),\n ('UCIh_TPYPqjJuS_-nOfAIlfg', 'UCDetdM5XDZD1xrQHDPgEg5w'),\n ('UCIh_TPYPqjJuS_-nOfAIlfg', 'UCDlQwv99CovKafGvxyaiNDA'),\n ('UCIh_TPYPqjJuS_-nOfAIlfg', 'UCF1fG3gT44nGTPU2sVLoFWg'),\n ('UCIh_TPYPqjJuS_-nOfAIlfg', 'UCG11aiovma65vUiQdeZOh6A'),\n ('UCIh_TPYPqjJuS_-nOfAIlfg', 'UCGS474QoP8SCnSo6hOCaayA'),\n ('UCIh_TPYPqjJuS_-nOfAIlfg', 'UCGybO-bWZ3W6URh42sdMQiw'),\n ('UCIh_TPYPqjJuS_-nOfAIlfg', 'UCHZ8lkKBNf3lKxpSIVUcmsg'),\n ('UCIh_TPYPqjJuS_-nOfAIlfg', 'UCI9DUIgtRGHNH_HmSTcfUbA'),\n ('UCIh_TPYPqjJuS_-nOfAIlfg', 'UCITn9pm8w4HqxHfqZJmce4Q'),\n ('UCIh_TPYPqjJuS_-nOfAIlfg', 'UCJKOvdk-nVzDAFR_9MF64sw'),\n ('UCIh_TPYPqjJuS_-nOfAIlfg', 'UCJayvjGvKEblkA3KYK1BQQw'),\n ('UCIh_TPYPqjJuS_-nOfAIlfg', 'UCJx5KP-pCUmL9eZUv-mIcNw'),\n ('UCIh_TPYPqjJuS_-nOfAIlfg', 'UCK-H1e0S8jg-8qoqQ5N8jvw'),\n ('UCIh_TPYPqjJuS_-nOfAIlfg', 'UCK9_x1DImhU-eolIay5rb2Q'),\n ('UCIh_TPYPqjJuS_-nOfAIlfg', 'UCKX7OdeQ16O2KVor5rtEujA'),\n ('UCIh_TPYPqjJuS_-nOfAIlfg', 'UCKXbq6IGFelzryn7fH6A-aw'),\n ('UCIh_TPYPqjJuS_-nOfAIlfg', 'UCKf0UqBiCQI4Ol0To9V0pKQ'),\n ('UCIh_TPYPqjJuS_-nOfAIlfg', 'UCKhvrZFbsNN_1tFN-X3iENg'),\n ('UCIh_TPYPqjJuS_-nOfAIlfg', 'UCLNfsUeQm6zU2eBlQbEy4tw'),\n ('UCIh_TPYPqjJuS_-nOfAIlfg', 'UCN_wvdNEDPK_wHuhu8Ey_5A'),\n ('UCIh_TPYPqjJuS_-nOfAIlfg', 'UCNtTZc6bcWyzkn-eXGqYjlg'),\n ('UCIh_TPYPqjJuS_-nOfAIlfg', 'UCNvzD7Z-g64bPXxGzaQaa4g'),\n ('UCIh_TPYPqjJuS_-nOfAIlfg', 'UCObfIFcPxDOsyNXTG3ISyBg'),\n ('UCIh_TPYPqjJuS_-nOfAIlfg', 'UCPCiBMarvDiTx-lknzt934g'),\n ('UCIh_TPYPqjJuS_-nOfAIlfg', 'UCPOrN8u0yH-gIEb7SkMwkTw'),\n ('UCIh_TPYPqjJuS_-nOfAIlfg', 'UCPx2nKfFk4p6IkQsMW9O0xQ'),\n ('UCIh_TPYPqjJuS_-nOfAIlfg', 'UCQINCBT70eomwMIPR1BnjLg'),\n ('UCIh_TPYPqjJuS_-nOfAIlfg', 'UCQMbqH7xJu5aTAPQ9y_U7WQ'),\n ('UCIh_TPYPqjJuS_-nOfAIlfg', 'UCR9sFzaG9Ia_kXJhfxtFMBA'),\n ('UCIh_TPYPqjJuS_-nOfAIlfg', 'UCRlICXvO4XR4HMeEB9JjDlA'),\n ('UCIh_TPYPqjJuS_-nOfAIlfg', 'UCRrAZbOmqB3pX7dWHC_-wEQ'),\n ('UCIh_TPYPqjJuS_-nOfAIlfg', 'UCRx0HAyAfmcqtrQYK3IITBA'),\n ('UCIh_TPYPqjJuS_-nOfAIlfg', 'UCSOpcUkE-is7u7c4AkLgqTw'),\n ('UCIh_TPYPqjJuS_-nOfAIlfg', 'UCShHFwKyhcDo3g7hr4f1R8A'),\n ('UCIh_TPYPqjJuS_-nOfAIlfg', 'UCSy9Nf-NSaQbP4PyA5jnd2A'),\n ('UCIh_TPYPqjJuS_-nOfAIlfg', 'UCT5RMcRGa32Th0AZ0Dxxviw'),\n ('UCIh_TPYPqjJuS_-nOfAIlfg', 'UCThrs0qvb_MrW9UGSes4uIA'),\n ('UCIh_TPYPqjJuS_-nOfAIlfg', 'UCUDlvPp1MlnegYXOXzj7DEQ'),\n ('UCIh_TPYPqjJuS_-nOfAIlfg', 'UCULXdCe-q6klSFLCGKMdM3w'),\n ('UCIh_TPYPqjJuS_-nOfAIlfg', 'UCU_W0oE_ock8bWKjALiGs8Q'),\n ('UCIh_TPYPqjJuS_-nOfAIlfg', 'UCUfjQIPW43E5KpAHrfWlDWg'),\n ('UCIh_TPYPqjJuS_-nOfAIlfg', 'UCUweLR_ygcqbcxTJGLGhW2A'),\n ('UCIh_TPYPqjJuS_-nOfAIlfg', 'UCV5vCi3jPJdURZwAOO_FNfQ'),\n ('UCIh_TPYPqjJuS_-nOfAIlfg', 'UCVHFbqXqoYvEWM1Ddxl0QDg'),\n ('UCIh_TPYPqjJuS_-nOfAIlfg', 'UCVYbUVLrZ6pEBfYV_UyvItA'),\n ('UCIh_TPYPqjJuS_-nOfAIlfg', 'UCW6J17hZ_Vgr6cQgd_kHt5A'),\n ('UCIh_TPYPqjJuS_-nOfAIlfg', 'UCWYRT-NhEqkZ_afrqEgxYOQ'),\n ('UCIh_TPYPqjJuS_-nOfAIlfg', 'UCZ0YER4Ixnbywy3xeGVAZSg'),\n ('UCIh_TPYPqjJuS_-nOfAIlfg', 'UCZ7AeeVbyslLM_8-nVy2B8Q'),\n ('UCIh_TPYPqjJuS_-nOfAIlfg', 'UCZFjYOyCdMxbt59vZNuqBpw'),\n ('UCIh_TPYPqjJuS_-nOfAIlfg', 'UCZIIRX8rkNjVpP-oLMHpeDw'),\n ('UCIh_TPYPqjJuS_-nOfAIlfg', 'UCajFsJ74oE4zt3sPkOP_81g'),\n ('UCIh_TPYPqjJuS_-nOfAIlfg', 'UCaxRBnOai9tYxScTf2JjaoA'),\n ('UCIh_TPYPqjJuS_-nOfAIlfg', 'UCdn4zi8Tta1FSt0w87vCZwA'),\n ('UCIh_TPYPqjJuS_-nOfAIlfg', 'UCduKuJToxWPizJ7I2E6n1kA'),\n ('UCIh_TPYPqjJuS_-nOfAIlfg', 'UCe072WU1CTmEZhkPS4bM6cQ'),\n ('UCIh_TPYPqjJuS_-nOfAIlfg', 'UCeJFgNahi--FKs0oJyeRDEw'),\n ('UCIh_TPYPqjJuS_-nOfAIlfg', 'UCfNcetb0dXVk53jZ9I0uKnA'),\n ('UCIh_TPYPqjJuS_-nOfAIlfg', 'UCgIqhB8oD5SZ0yUSp71VCOQ'),\n ('UCIh_TPYPqjJuS_-nOfAIlfg', 'UCh0wrs-8ywjgZO7flfSmlqg'),\n ('UCIh_TPYPqjJuS_-nOfAIlfg', 'UChWTjJDu743PSfbUebQPBeg'),\n ('UCIh_TPYPqjJuS_-nOfAIlfg', 'UCh_S_EgAc6bAdu8C9aaqz1w'),\n ('UCIh_TPYPqjJuS_-nOfAIlfg', 'UChgSKQAuBPZIBAfokctA33g'),\n ('UCIh_TPYPqjJuS_-nOfAIlfg', 'UCht8qITGkBvXKsR1Byln-wA'),\n ('UCIh_TPYPqjJuS_-nOfAIlfg', 'UCir93b_ftqInEaDpsWYbo_g'),\n ('UCIh_TPYPqjJuS_-nOfAIlfg', 'UCj3p_1jOCJXB_L_we-DjLbA'),\n ('UCIh_TPYPqjJuS_-nOfAIlfg', 'UCj8orMezFWVcoN-4S545Wtw'),\n ('UCIh_TPYPqjJuS_-nOfAIlfg', 'UCkDSAQ_5-yx5hmuvUcsJL7A'),\n ('UCIh_TPYPqjJuS_-nOfAIlfg', 'UCkbTTGoBpjX8ogXHCt-aegw'),\n ('UCIh_TPYPqjJuS_-nOfAIlfg', 'UCl7ZXbZUCWI2Hz--OrO4bsA'),\n ('UCIh_TPYPqjJuS_-nOfAIlfg', 'UCmA-0j6DRVQWo4skl8Otkiw'),\n ('UCIh_TPYPqjJuS_-nOfAIlfg', 'UCmM5xlAZDZ-h3bi6AXzDNKQ'),\n ('UCIh_TPYPqjJuS_-nOfAIlfg', 'UCmRfQHc3U4fV1-i8Ry1HmtA'),\n ('UCIh_TPYPqjJuS_-nOfAIlfg', 'UCniHNF3GZEKWr_FRdGmKmdw'),\n ('UCIh_TPYPqjJuS_-nOfAIlfg', 'UCoguzybAI8Fgdj4Aze5tE8w'),\n ('UCIh_TPYPqjJuS_-nOfAIlfg', 'UCoxcjq-8xIDTYp3uz647V5A'),\n ('UCIh_TPYPqjJuS_-nOfAIlfg', 'UCpJmBQ8iNHXeQ7jQWDyGe3A'),\n ('UCIh_TPYPqjJuS_-nOfAIlfg', 'UCqJ-Xo29CKyLTjn6z2XwYAw'),\n ('UCIh_TPYPqjJuS_-nOfAIlfg', 'UCqNzk3-sva7UmoJ_AhijYrw'),\n ('UCIh_TPYPqjJuS_-nOfAIlfg', 'UCqYPhGiB9tkShZorfgcL2lA'),\n ('UCIh_TPYPqjJuS_-nOfAIlfg', 'UCqg5FCR7NrpvlBWMXdt-5Vg'),\n ('UCIh_TPYPqjJuS_-nOfAIlfg', 'UCrgxUOBnk5vH8hB9c-s-riQ'),\n ('UCIh_TPYPqjJuS_-nOfAIlfg', 'UCs0ifCMCm1icqRbqhUINa0w'),\n ('UCIh_TPYPqjJuS_-nOfAIlfg', 'UCs7nPQIEba0T3tGOWWsZpJQ'),\n ('UCIh_TPYPqjJuS_-nOfAIlfg', 'UCsUbFOUqtrU4oRSDfjb78ig'),\n ('UCIh_TPYPqjJuS_-nOfAIlfg', 'UCs_6DXZROU29pLvgQdCx4Ww'),\n ('UCIh_TPYPqjJuS_-nOfAIlfg', 'UCt5OA3LingpZBeEyPYmputQ'),\n ('UCIh_TPYPqjJuS_-nOfAIlfg', 'UCtUId5WFnN82GdDy7DgaQ7w'),\n ('UCIh_TPYPqjJuS_-nOfAIlfg', 'UCuHeVY3bLH1OdhhQ_KyJnUA'),\n ('UCIh_TPYPqjJuS_-nOfAIlfg', 'UCvGMGQC8gNkd4gwxSbABIlw'),\n ('UCIh_TPYPqjJuS_-nOfAIlfg', 'UCvhsiQGy_zcNCiSbeXEjhLg'),\n ('UCIh_TPYPqjJuS_-nOfAIlfg', 'UCvyyU4AdijSZFEO7qqXP6kQ'),\n ('UCIh_TPYPqjJuS_-nOfAIlfg', 'UCweDKPSF65wRw5VHFUJYiow'),\n ('UCIh_TPYPqjJuS_-nOfAIlfg', 'UCx0L2ZdYfiq-tsAXb8IXpQg'),\n ('UCIh_TPYPqjJuS_-nOfAIlfg', 'UCxvwSBdFZ6xq8hHz_R3Inug'),\n ('UCIh_TPYPqjJuS_-nOfAIlfg', 'UCyfuHhhSnKqOBII6YdTEJWQ'),\n ('UCIh_TPYPqjJuS_-nOfAIlfg', 'UCznHh6gk3ewFhaTZtdQFWWw'),\n ('UC-2YHgc363EdcusLIBbgxzg', 'UC4QZ_LsYcvcq7qOsOhpAX4A'),\n ('UC-2YHgc363EdcusLIBbgxzg', 'UCDetdM5XDZD1xrQHDPgEg5w'),\n ('UC-2YHgc363EdcusLIBbgxzg', 'UCF1fG3gT44nGTPU2sVLoFWg'),\n ('UC-2YHgc363EdcusLIBbgxzg', 'UCGk1LitxAZVnqQn0_nt5qxw'),\n ('UC-2YHgc363EdcusLIBbgxzg', 'UCJkMlOu7faDgqh4PfzbpLdg'),\n ('UC-2YHgc363EdcusLIBbgxzg', 'UCRlICXvO4XR4HMeEB9JjDlA'),\n ('UC-2YHgc363EdcusLIBbgxzg', 'UCUHW94eEFW7hkUMVaZz4eDg'),\n ('UC-2YHgc363EdcusLIBbgxzg', 'UCU_W0oE_ock8bWKjALiGs8Q'),\n ('UC-2YHgc363EdcusLIBbgxzg', 'UCir93b_ftqInEaDpsWYbo_g'),\n ('UC-2YHgc363EdcusLIBbgxzg', 'UCkRMqL3hLrIYhxNCac4vR3w'),\n ('UC-2YHgc363EdcusLIBbgxzg', 'UCqYPhGiB9tkShZorfgcL2lA'),\n ('UC06b5TQFFMFZvMakw1QLpQg', 'UCeTfBygNb1TahcNpZyELO8g'),\n ('UC0ahC64OhIAS11TJX9Ig86A', 'UC1CVzH-XVr3E-kTT6D8hhfg'),\n ('UC0ahC64OhIAS11TJX9Ig86A', 'UCjzSBCC2yv7dZmD5dQxV2ug'),\n ('UC0ahC64OhIAS11TJX9Ig86A', 'UCq9CkTK0Oq_ZZ5U9cbFZVag'),\n ('UC1CVzH-XVr3E-kTT6D8hhfg', 'UCZIIRX8rkNjVpP-oLMHpeDw'),\n ('UC1CVzH-XVr3E-kTT6D8hhfg', 'UCpIoF2UfscJv4cNSyLjuA6w'),\n ('UC26wVFmrwOSyMWwHmBbndhg', 'UCP8wqLAt5qYMmOwMB7-mvTQ'),\n ('UC3Fc8oa1IpkG970GOIHNQvg', 'UCUweLR_ygcqbcxTJGLGhW2A'),\n ('UC3LqW4ijMoENQ2Wv17ZrFJA', 'UCDetdM5XDZD1xrQHDPgEg5w'),\n ('UC3LqW4ijMoENQ2Wv17ZrFJA', 'UCoxcjq-8xIDTYp3uz647V5A'),\n ('UC4m2G6T18_JcjwxwtwKJijw', 'UCznv7Vf9nBdJYvBagFdAHWw'),\n ('UC4w_tMnHl6sw5VD93tVymGw', 'UCB9_VH_CNbbH4GfKu8qh63w'),\n ('UC7_gcs09iThXybpVgjHZ_7g', 'UCUHW94eEFW7hkUMVaZz4eDg'),\n ('UC7_gcs09iThXybpVgjHZ_7g', 'UCwmFOfFuvRPI112vR5DNnrA'),\n ('UC97k3hlbE-1rVN8y56zyEEA', 'UC1KbedtKa3d5dleFR6OjQMg'),\n ('UC97k3hlbE-1rVN8y56zyEEA', 'UC4FhvdvgZU5CVbXi2uWgiZg'),\n ('UC97k3hlbE-1rVN8y56zyEEA', 'UC68TLK0mAEzUyHx5x5k-S1Q'),\n ('UC97k3hlbE-1rVN8y56zyEEA', 'UCBDWo0g9N8pL8c9QhE8Lxxw'),\n ('UC97k3hlbE-1rVN8y56zyEEA', 'UCKX7OdeQ16O2KVor5rtEujA'),\n ('UC97k3hlbE-1rVN8y56zyEEA', 'UCKf0UqBiCQI4Ol0To9V0pKQ'),\n ('UC97k3hlbE-1rVN8y56zyEEA', 'UCLPy6BEgH1fD3DOgwX-x_Hg'),\n ('UC97k3hlbE-1rVN8y56zyEEA', 'UCTMLcC81ypVNk293RFS7Zaw'),\n ('UC97k3hlbE-1rVN8y56zyEEA', 'UCdn4zi8Tta1FSt0w87vCZwA'),\n ('UC97k3hlbE-1rVN8y56zyEEA', 'UCfqzZR7tG1GufD-D7EofBaQ'),\n ('UC97k3hlbE-1rVN8y56zyEEA', 'UCjzSBCC2yv7dZmD5dQxV2ug'),\n ('UC97k3hlbE-1rVN8y56zyEEA', 'UCoguzybAI8Fgdj4Aze5tE8w'),\n ('UC97k3hlbE-1rVN8y56zyEEA', 'UCvyyU4AdijSZFEO7qqXP6kQ'),\n ('UC9fnCGxIi_1P3vUZVZ4SUig', 'UCgIqhB8oD5SZ0yUSp71VCOQ'),\n ('UCAf9vHS_4I9lSu-7gYhkzaw', 'UCBdw4dLCLLHmTgAOnW4V0hQ'),\n ('UCAf9vHS_4I9lSu-7gYhkzaw', 'UCL8Nxsa1LB9DrMTHtt3IKiw'),\n ('UCAf9vHS_4I9lSu-7gYhkzaw', 'UCddiUEpeqJcYeBxX1IVBKvQ'),\n ('UCAf9vHS_4I9lSu-7gYhkzaw', 'UCe3tPdpxTF7wdBG8uV4hbew'),\n ('UCAf9vHS_4I9lSu-7gYhkzaw', 'UCht8qITGkBvXKsR1Byln-wA'),\n ('UCAf9vHS_4I9lSu-7gYhkzaw', 'UCoxcjq-8xIDTYp3uz647V5A'),\n ('UCAzXqFoW1Y7KDqwZ1x5m9EA', 'UCB9_VH_CNbbH4GfKu8qh63w'),\n ('UCAzXqFoW1Y7KDqwZ1x5m9EA', 'UClKgO_YP3pcIVeav2g_k6hw'),\n ('UCBDWo0g9N8pL8c9QhE8Lxxw', 'UCP8wqLAt5qYMmOwMB7-mvTQ'),\n ('UCBdw4dLCLLHmTgAOnW4V0hQ', 'UCduKuJToxWPizJ7I2E6n1kA'),\n ('UCCjyq_K1Xwfg8Lndy7lKMpA', 'UC-6OW5aJYBFM33zXQlBKPNA'),\n ('UCDt0iwnK2sPXaOyZhVmXIQw', 'UCDlQwv99CovKafGvxyaiNDA'),\n ('UCErSSa3CaP_GJxmFpdjG9Jw', 'UCx0L2ZdYfiq-tsAXb8IXpQg'),\n ('UCErSSa3CaP_GJxmFpdjG9Jw', 'UCs7nPQIEba0T3tGOWWsZpJQ'),\n ('UCErSSa3CaP_GJxmFpdjG9Jw', 'UC6-ymYjG0SU0jUWnWh9ZzEQ'),\n ('UCErSSa3CaP_GJxmFpdjG9Jw', 'UCJkMlOu7faDgqh4PfzbpLdg'),\n ('UCErSSa3CaP_GJxmFpdjG9Jw', 'UCqJ-Xo29CKyLTjn6z2XwYAw'),\n ('UCFBBFuhQc275ISHIQnkzSZg', 'UC4kjDjhexSVuC8JWk4ZanFw'),\n ('UCFBBFuhQc275ISHIQnkzSZg', 'UCB9_VH_CNbbH4GfKu8qh63w'),\n ('UCFBBFuhQc275ISHIQnkzSZg', 'UCKf0UqBiCQI4Ol0To9V0pKQ'),\n ('UCFBBFuhQc275ISHIQnkzSZg', 'UCKhvrZFbsNN_1tFN-X3iENg'),\n ('UCFBBFuhQc275ISHIQnkzSZg', 'UCduKuJToxWPizJ7I2E6n1kA'),\n ('UCFBBFuhQc275ISHIQnkzSZg', 'UCe072WU1CTmEZhkPS4bM6cQ'),\n ('UCFBBFuhQc275ISHIQnkzSZg', 'UClKgO_YP3pcIVeav2g_k6hw'),\n ('UCFBBFuhQc275ISHIQnkzSZg', 'UCpIoF2UfscJv4cNSyLjuA6w'),\n ('UCG-KntY7aVnIGXYEBQvmBAQ', 'UCtUId5WFnN82GdDy7DgaQ7w'),\n ('UCG-KntY7aVnIGXYEBQvmBAQ', 'UC8XKyvQ5Ne_bvYbgv8LaIeg'),\n ('UCG-KntY7aVnIGXYEBQvmBAQ', 'UCGk1LitxAZVnqQn0_nt5qxw'),\n ('UCGk1LitxAZVnqQn0_nt5qxw', 'UCznv7Vf9nBdJYvBagFdAHWw'),\n ('UCH4BNI0-FOK2dMXoFtViWHw', 'UCUHW94eEFW7hkUMVaZz4eDg'),\n ('UCH4BNI0-FOK2dMXoFtViWHw', 'UCqmugCqELzhIMNYnsjScXXw'),\n ('UCH9ciCUcWavMsFcAJtLUSyw', 'UC0ASolYU_Yh3yShLFQC0stg'),\n ('UCH9ciCUcWavMsFcAJtLUSyw', 'UC26wVFmrwOSyMWwHmBbndhg'),\n ('UCH9ciCUcWavMsFcAJtLUSyw', 'UC4FhvdvgZU5CVbXi2uWgiZg'),\n ('UCH9ciCUcWavMsFcAJtLUSyw', 'UCRx0HAyAfmcqtrQYK3IITBA'),\n ('UCH9ciCUcWavMsFcAJtLUSyw', 'UCduKuJToxWPizJ7I2E6n1kA'),\n ('UCH9ciCUcWavMsFcAJtLUSyw', 'UCh0wrs-8ywjgZO7flfSmlqg'),\n ('UCHnqvUJVmNu3pjIpBulbIAg', 'UCi88E1kes0Y7bq4fv33TIPQ'),\n ('UCIJ_l9TjwwVNO-S6QW0OXvg', 'UC26wVFmrwOSyMWwHmBbndhg'),\n ('UCIJ_l9TjwwVNO-S6QW0OXvg', 'UClKgO_YP3pcIVeav2g_k6hw'),\n ('UCJHroOyfde4rZLTL2Zmk1UQ', 'UC0ASolYU_Yh3yShLFQC0stg'),\n ('UCJHroOyfde4rZLTL2Zmk1UQ', 'UC26wVFmrwOSyMWwHmBbndhg'),\n ('UCJHroOyfde4rZLTL2Zmk1UQ', 'UCKX7OdeQ16O2KVor5rtEujA'),\n ('UCJkMlOu7faDgqh4PfzbpLdg', 'UC3LqW4ijMoENQ2Wv17ZrFJA'),\n ('UCJkMlOu7faDgqh4PfzbpLdg', 'UC68TLK0mAEzUyHx5x5k-S1Q'),\n ('UCJkMlOu7faDgqh4PfzbpLdg', 'UCCqEeDAUf4Mg0GgEN658tkA'),\n ('UCJkMlOu7faDgqh4PfzbpLdg', 'UCpJmBQ8iNHXeQ7jQWDyGe3A'),\n ('UCK-65DO2oOxxMwphl2tYtcw', 'UCeTfBygNb1TahcNpZyELO8g'),\n ('UCKIPOflZbfGRM8-IehI775w', 'UC0ASolYU_Yh3yShLFQC0stg'),\n ('UCKIPOflZbfGRM8-IehI775w', 'UC26wVFmrwOSyMWwHmBbndhg'),\n ('UCKIPOflZbfGRM8-IehI775w', 'UC3DkFux8Iv-aYnTRWzwaiBA'),\n ('UCKIPOflZbfGRM8-IehI775w', 'UCPCiBMarvDiTx-lknzt934g'),\n ('UCKIPOflZbfGRM8-IehI775w', 'UCPx2nKfFk4p6IkQsMW9O0xQ'),\n ('UCKIPOflZbfGRM8-IehI775w', 'UCQRWMCWv0QvFVanS7tkJazQ'),\n ('UCKIPOflZbfGRM8-IehI775w', 'UCTBjtACFlDmd-g6Gtva9biQ'),\n ('UCKIPOflZbfGRM8-IehI775w', 'UCZIIRX8rkNjVpP-oLMHpeDw'),\n ('UCKIPOflZbfGRM8-IehI775w', 'UCjzSBCC2yv7dZmD5dQxV2ug'),\n ('UCKIPOflZbfGRM8-IehI775w', 'UCznv7Vf9nBdJYvBagFdAHWw'),\n ('UCKxQmKgrkUv4S7P5w0pLayw', 'UCgIqhB8oD5SZ0yUSp71VCOQ'),\n ('UCKxQmKgrkUv4S7P5w0pLayw', 'UCmA-0j6DRVQWo4skl8Otkiw'),\n ('UCL8Nxsa1LB9DrMTHtt3IKiw', 'UC4QZ_LsYcvcq7qOsOhpAX4A'),\n ('UCLPy6BEgH1fD3DOgwX-x_Hg', 'UCGybO-bWZ3W6URh42sdMQiw'),\n ('UCLPy6BEgH1fD3DOgwX-x_Hg', 'UCqYPhGiB9tkShZorfgcL2lA'),\n ('UCMHRsRcbsKW1Xw9CPANpz2A', 'UClKgO_YP3pcIVeav2g_k6hw'),\n ('UCMkhrrPkmx7xxlolSP9qEsA', 'UCB9_VH_CNbbH4GfKu8qh63w'),\n ('UCMkhrrPkmx7xxlolSP9qEsA', 'UCR0AnNR7sViH3TWMJl5jyxw'),\n ('UCNKtHIrVMaDE7hovBvodpDw', 'UC3DkFux8Iv-aYnTRWzwaiBA'),\n ('UCNKtHIrVMaDE7hovBvodpDw', 'UCht8qITGkBvXKsR1Byln-wA'),\n ('UCNKtHIrVMaDE7hovBvodpDw', 'UClKgO_YP3pcIVeav2g_k6hw'),\n ('UCNKtHIrVMaDE7hovBvodpDw', 'UCsUbFOUqtrU4oRSDfjb78ig'),\n ('UCNQjYSosLXPZjRyhhnAIriA', 'UCPCiBMarvDiTx-lknzt934g'),\n ('UCNQjYSosLXPZjRyhhnAIriA', 'UC1CVzH-XVr3E-kTT6D8hhfg'),\n ('UCO_vmeInQm5Z6dEZ6R5Kk0A', 'UCDlQwv99CovKafGvxyaiNDA'),\n ('UCO_vmeInQm5Z6dEZ6R5Kk0A', 'UCSOpcUkE-is7u7c4AkLgqTw'),\n ('UCO_vmeInQm5Z6dEZ6R5Kk0A', 'UCSy9Nf-NSaQbP4PyA5jnd2A'),\n ('UCO_vmeInQm5Z6dEZ6R5Kk0A', 'UCk1SpWNzOs4MYmr0uICEntg'),\n ('UCObA5o3mcc1felIMAv6cukw', 'UC1CVzH-XVr3E-kTT6D8hhfg'),\n ('UCObA5o3mcc1felIMAv6cukw', 'UC68TLK0mAEzUyHx5x5k-S1Q'),\n ('UCObA5o3mcc1felIMAv6cukw', 'UCAcQW_4qZ12wNt3T0M9b-Vw'),\n ('UCObA5o3mcc1felIMAv6cukw', 'UCGybO-bWZ3W6URh42sdMQiw'),\n ('UCP3AVTw_73U_8jMzLw5TbEg', 'UC-nPM1_kSZf91ZGkcgy_95Q'),\n ('UCP3AVTw_73U_8jMzLw5TbEg', 'UC67f2Qf7FYhtoUIF4Sf29cA'),\n ('UCP3AVTw_73U_8jMzLw5TbEg', 'UCuVxaQDraOja6xKidcmoufA'),\n ('UCP3AVTw_73U_8jMzLw5TbEg', 'UCwmFOfFuvRPI112vR5DNnrA'),\n ('UCP8wqLAt5qYMmOwMB7-mvTQ', 'UC26wVFmrwOSyMWwHmBbndhg'),\n ('UCP8wqLAt5qYMmOwMB7-mvTQ', 'UCBDWo0g9N8pL8c9QhE8Lxxw'),\n ('UCQRWMCWv0QvFVanS7tkJazQ', 'UCj5xtoMdxx-Z_7L6RN7N1ZQ'),\n ('UCR0AnNR7sViH3TWMJl5jyxw', 'UC-6OW5aJYBFM33zXQlBKPNA'),\n ('UCR0AnNR7sViH3TWMJl5jyxw', 'UCDlQwv99CovKafGvxyaiNDA'),\n ('UCR0AnNR7sViH3TWMJl5jyxw', 'UCGS474QoP8SCnSo6hOCaayA'),\n ('UCR0AnNR7sViH3TWMJl5jyxw', 'UCSy9Nf-NSaQbP4PyA5jnd2A'),\n ('UCR0AnNR7sViH3TWMJl5jyxw', 'UCUHW94eEFW7hkUMVaZz4eDg'),\n ('UCR0AnNR7sViH3TWMJl5jyxw', 'UCW6J17hZ_Vgr6cQgd_kHt5A'),\n ('UCR0AnNR7sViH3TWMJl5jyxw', 'UCgyqtNWZmIxTx3b6OxTSALw'),\n ('UCR0AnNR7sViH3TWMJl5jyxw', 'UCir93b_ftqInEaDpsWYbo_g'),\n ('UCR0AnNR7sViH3TWMJl5jyxw', 'UCkDSAQ_5-yx5hmuvUcsJL7A'),\n ('UCR0AnNR7sViH3TWMJl5jyxw', 'UCqg5FCR7NrpvlBWMXdt-5Vg'),\n ('UCR0AnNR7sViH3TWMJl5jyxw', 'UCvyyU4AdijSZFEO7qqXP6kQ'),\n ('UCROQqK3_z79JuTetNP3pIXQ', 'UCJkMlOu7faDgqh4PfzbpLdg'),\n ('UCROQqK3_z79JuTetNP3pIXQ', 'UCF1fG3gT44nGTPU2sVLoFWg'),\n ('UCSYG0DaTjEpo9LlE-f_1L1g', 'UCU_W0oE_ock8bWKjALiGs8Q'),\n ('UCTBjtACFlDmd-g6Gtva9biQ', 'UCh_S_EgAc6bAdu8C9aaqz1w'),\n ('UCTMLcC81ypVNk293RFS7Zaw', 'UC97k3hlbE-1rVN8y56zyEEA'),\n ('UCU0DZhN-8KFLYO6beSaYljg', 'UC0ASolYU_Yh3yShLFQC0stg'),\n ('UCU0DZhN-8KFLYO6beSaYljg', 'UC1Aq3T1GmKcObLqo1YIU_Ww'),\n ('UCU0DZhN-8KFLYO6beSaYljg', 'UC3DkFux8Iv-aYnTRWzwaiBA'),\n ('UCU0DZhN-8KFLYO6beSaYljg', 'UC68TLK0mAEzUyHx5x5k-S1Q'),\n ('UCU0DZhN-8KFLYO6beSaYljg', 'UC8XKyvQ5Ne_bvYbgv8LaIeg'),\n ('UCU0DZhN-8KFLYO6beSaYljg', 'UC9BNGVGr_lvbn3d23ckuVOA'),\n ('UCU0DZhN-8KFLYO6beSaYljg', 'UCAohrrjG-3gEp5QF1WlM9_w'),\n ('UCU0DZhN-8KFLYO6beSaYljg', 'UCDlQwv99CovKafGvxyaiNDA'),\n ('UCU0DZhN-8KFLYO6beSaYljg', 'UCGybO-bWZ3W6URh42sdMQiw'),\n ('UCU0DZhN-8KFLYO6beSaYljg', 'UCPCiBMarvDiTx-lknzt934g'),\n ('UCU0DZhN-8KFLYO6beSaYljg', 'UCPx2nKfFk4p6IkQsMW9O0xQ'),\n ('UCU0DZhN-8KFLYO6beSaYljg', 'UCWYRT-NhEqkZ_afrqEgxYOQ'),\n ('UCU0DZhN-8KFLYO6beSaYljg', 'UCZIIRX8rkNjVpP-oLMHpeDw'),\n ('UCU0DZhN-8KFLYO6beSaYljg', 'UCduKuJToxWPizJ7I2E6n1kA'),\n ('UCU0DZhN-8KFLYO6beSaYljg', 'UChgSKQAuBPZIBAfokctA33g'),\n ('UCU0DZhN-8KFLYO6beSaYljg', 'UCht8qITGkBvXKsR1Byln-wA'),\n ('UCU0DZhN-8KFLYO6beSaYljg', 'UCjzSBCC2yv7dZmD5dQxV2ug'),\n ('UCU0DZhN-8KFLYO6beSaYljg', 'UCqmugCqELzhIMNYnsjScXXw'),\n ('UCU0DZhN-8KFLYO6beSaYljg', 'UCtUId5WFnN82GdDy7DgaQ7w'),\n ('UCU0DZhN-8KFLYO6beSaYljg', 'UCznv7Vf9nBdJYvBagFdAHWw'),\n ('UCUHW94eEFW7hkUMVaZz4eDg', 'UCoxcjq-8xIDTYp3uz647V5A'),\n ('UCURz5rKDgt7YibUSageNhEw', 'UC6-ymYjG0SU0jUWnWh9ZzEQ'),\n ('UCURz5rKDgt7YibUSageNhEw', 'UCF1fG3gT44nGTPU2sVLoFWg'),\n ('UCURz5rKDgt7YibUSageNhEw', 'UCG-KntY7aVnIGXYEBQvmBAQ'),\n ('UCURz5rKDgt7YibUSageNhEw', 'UCUHW94eEFW7hkUMVaZz4eDg'),\n ('UCURz5rKDgt7YibUSageNhEw', 'UCkDSAQ_5-yx5hmuvUcsJL7A'),\n ('UCURz5rKDgt7YibUSageNhEw', 'UCx0L2ZdYfiq-tsAXb8IXpQg'),\n ('UCYNGKZuT3dj0J0bBt4qfqXQ', 'UC3DkFux8Iv-aYnTRWzwaiBA'),\n ('UCYNGKZuT3dj0J0bBt4qfqXQ', 'UC4QZ_LsYcvcq7qOsOhpAX4A'),\n ('UCYNGKZuT3dj0J0bBt4qfqXQ', 'UC67f2Qf7FYhtoUIF4Sf29cA'),\n ('UCYNGKZuT3dj0J0bBt4qfqXQ', 'UC9BNGVGr_lvbn3d23ckuVOA'),\n ('UCYNGKZuT3dj0J0bBt4qfqXQ', 'UCD-4g5w1h8xQpLaNS_ghU4g'),\n ('UCYNGKZuT3dj0J0bBt4qfqXQ', 'UCGybO-bWZ3W6URh42sdMQiw'),\n ('UCYNGKZuT3dj0J0bBt4qfqXQ', 'UCK9_x1DImhU-eolIay5rb2Q'),\n ('UCYNGKZuT3dj0J0bBt4qfqXQ', 'UCNvzD7Z-g64bPXxGzaQaa4g'),\n ('UCYNGKZuT3dj0J0bBt4qfqXQ', 'UCU_W0oE_ock8bWKjALiGs8Q'),\n ('UCYNGKZuT3dj0J0bBt4qfqXQ', 'UCZIIRX8rkNjVpP-oLMHpeDw'),\n ('UCYNGKZuT3dj0J0bBt4qfqXQ', 'UCs_6DXZROU29pLvgQdCx4Ww'),\n ('UCYNGKZuT3dj0J0bBt4qfqXQ', 'UCuHeVY3bLH1OdhhQ_KyJnUA'),\n ('UCYNGKZuT3dj0J0bBt4qfqXQ', 'UCweDKPSF65wRw5VHFUJYiow'),\n ('UC_9SjsqyO87d4aZkEqNuHBA', 'UC68TLK0mAEzUyHx5x5k-S1Q'),\n ('UC_9SjsqyO87d4aZkEqNuHBA', 'UCLPy6BEgH1fD3DOgwX-x_Hg'),\n ('UC_9SjsqyO87d4aZkEqNuHBA', 'UCoxcjq-8xIDTYp3uz647V5A'),\n ('UCbu2SsF-Or3Rsn3NxqODImw', 'UCQMbqH7xJu5aTAPQ9y_U7WQ'),\n ('UCd_A2F0XknHjbVceIoiPfrA', 'UC26wVFmrwOSyMWwHmBbndhg'),\n ('UCddiUEpeqJcYeBxX1IVBKvQ', 'UCuVxaQDraOja6xKidcmoufA'),\n ('UCddiUEpeqJcYeBxX1IVBKvQ', 'UCDlQwv99CovKafGvxyaiNDA'),\n ('UCdsOTr6SmDrxuWE7sJFrkhQ', 'UCQRWMCWv0QvFVanS7tkJazQ'),\n ('UCdsOTr6SmDrxuWE7sJFrkhQ', 'UCoxcjq-8xIDTYp3uz647V5A'),\n ('UCe3tPdpxTF7wdBG8uV4hbew', 'UCDetdM5XDZD1xrQHDPgEg5w'),\n ('UCe3tPdpxTF7wdBG8uV4hbew', 'UCdsOTr6SmDrxuWE7sJFrkhQ'),\n ('UCe3tPdpxTF7wdBG8uV4hbew', 'UCpJmBQ8iNHXeQ7jQWDyGe3A'),\n ('UCe3tPdpxTF7wdBG8uV4hbew', 'UCzWQYUVCpZqtN93H8RR44Qw'),\n ('UCeTfBygNb1TahcNpZyELO8g', 'UC3LqW4ijMoENQ2Wv17ZrFJA'),\n ('UCeTfBygNb1TahcNpZyELO8g', 'UCF1fG3gT44nGTPU2sVLoFWg'),\n ('UCeTfBygNb1TahcNpZyELO8g', 'UCK-65DO2oOxxMwphl2tYtcw'),\n ('UCeTfBygNb1TahcNpZyELO8g', 'UCqJ-Xo29CKyLTjn6z2XwYAw'),\n ('UCeTfBygNb1TahcNpZyELO8g', 'UCuVxaQDraOja6xKidcmoufA'),\n ('UCeTfBygNb1TahcNpZyELO8g', 'UCx0L2ZdYfiq-tsAXb8IXpQg'),\n ('UCfqzZR7tG1GufD-D7EofBaQ', 'UC2D2CMWXMOVWx7giW1n3LIg'),\n ('UCfqzZR7tG1GufD-D7EofBaQ', 'UCGybO-bWZ3W6URh42sdMQiw'),\n ('UCfwXVYfPFiMlzadS4ow80GA', 'UCht8qITGkBvXKsR1Byln-wA'),\n ('UChVak8_IyuqcErdf_jQUOHA', 'UC0ahC64OhIAS11TJX9Ig86A'),\n ('UChVak8_IyuqcErdf_jQUOHA', 'UC3DkFux8Iv-aYnTRWzwaiBA'),\n ('UChVak8_IyuqcErdf_jQUOHA', 'UC68TLK0mAEzUyHx5x5k-S1Q'),\n ('UChVak8_IyuqcErdf_jQUOHA', 'UCkRMqL3hLrIYhxNCac4vR3w'),\n ('UChnN9MPURwKV2PbEoT2vhTQ', 'UCDlQwv99CovKafGvxyaiNDA'),\n ('UChqgQknjcmAsjosqac1uLqA', 'UCPOrN8u0yH-gIEb7SkMwkTw'),\n ('UChqgQknjcmAsjosqac1uLqA', 'UCUHW94eEFW7hkUMVaZz4eDg'),\n ('UCi88E1kes0Y7bq4fv33TIPQ', 'UCHnqvUJVmNu3pjIpBulbIAg'),\n ('UCiDJtJKMICpb9B1qf7qjEOA', 'UCoxcjq-8xIDTYp3uz647V5A'),\n ('UCj5xtoMdxx-Z_7L6RN7N1ZQ', 'UCQRWMCWv0QvFVanS7tkJazQ'),\n ('UCj5xtoMdxx-Z_7L6RN7N1ZQ', 'UCSYG0DaTjEpo9LlE-f_1L1g'),\n ('UCj5xtoMdxx-Z_7L6RN7N1ZQ', 'UClYb9NpXnRemxYoWbcYANsA'),\n ('UCj5xtoMdxx-Z_7L6RN7N1ZQ', 'UCznv7Vf9nBdJYvBagFdAHWw'),\n ('UCjD2KyAEm84yVH8cTilID7Q', 'UC6-ymYjG0SU0jUWnWh9ZzEQ'),\n ('UCjD2KyAEm84yVH8cTilID7Q', 'UCF1fG3gT44nGTPU2sVLoFWg'),\n ('UCjD2KyAEm84yVH8cTilID7Q', 'UCQMbqH7xJu5aTAPQ9y_U7WQ'),\n ('UCjD2KyAEm84yVH8cTilID7Q', 'UCkDSAQ_5-yx5hmuvUcsJL7A'),\n ('UCjD2KyAEm84yVH8cTilID7Q', 'UCoxcjq-8xIDTYp3uz647V5A'),\n ('UCjD2KyAEm84yVH8cTilID7Q', 'UCuVxaQDraOja6xKidcmoufA'),\n ('UCjzSBCC2yv7dZmD5dQxV2ug', 'UC97k3hlbE-1rVN8y56zyEEA'),\n ('UCk1SpWNzOs4MYmr0uICEntg', 'UCO_vmeInQm5Z6dEZ6R5Kk0A'),\n ('UCkRMqL3hLrIYhxNCac4vR3w', 'UCmRfQHc3U4fV1-i8Ry1HmtA'),\n ('UClKgO_YP3pcIVeav2g_k6hw', 'UCMHRsRcbsKW1Xw9CPANpz2A'),\n ('UClYb9NpXnRemxYoWbcYANsA', 'UC6-ymYjG0SU0jUWnWh9ZzEQ'),\n ('UClYb9NpXnRemxYoWbcYANsA', 'UCDetdM5XDZD1xrQHDPgEg5w'),\n ('UClYb9NpXnRemxYoWbcYANsA', 'UCJkMlOu7faDgqh4PfzbpLdg'),\n ('UClYb9NpXnRemxYoWbcYANsA', 'UCR9sFzaG9Ia_kXJhfxtFMBA'),\n ('UClYb9NpXnRemxYoWbcYANsA', 'UCs7nPQIEba0T3tGOWWsZpJQ'),\n ('UCmY2tPu6TZMqHHNPj2QPwUQ', 'UCqJ-Xo29CKyLTjn6z2XwYAw'),\n ('UCmdlnVFzmf7Zhqm_QE-UlJw', 'UC68TLK0mAEzUyHx5x5k-S1Q'),\n ('UCmdlnVFzmf7Zhqm_QE-UlJw', 'UC1CVzH-XVr3E-kTT6D8hhfg'),\n ('UCpIoF2UfscJv4cNSyLjuA6w', 'UC1CVzH-XVr3E-kTT6D8hhfg'),\n ('UCq9CkTK0Oq_ZZ5U9cbFZVag', 'UC4QZ_LsYcvcq7qOsOhpAX4A'),\n ('UCq9CkTK0Oq_ZZ5U9cbFZVag', 'UC6-ymYjG0SU0jUWnWh9ZzEQ'),\n ('UCq9CkTK0Oq_ZZ5U9cbFZVag', 'UCduKuJToxWPizJ7I2E6n1kA'),\n ('UCq9CkTK0Oq_ZZ5U9cbFZVag', 'UCqYPhGiB9tkShZorfgcL2lA'),\n ('UCq9CkTK0Oq_ZZ5U9cbFZVag', 'UCvQECJukTDE2i6aCoMnS-Vg'),\n ('UCqD1vWlpai9SUvfNfzVvUqA', 'UC4QZ_LsYcvcq7qOsOhpAX4A'),\n ('UCqD1vWlpai9SUvfNfzVvUqA', 'UCGS474QoP8SCnSo6hOCaayA'),\n ('UCqjwF8rxRsotnojGl4gM0Zw', 'UC4QZ_LsYcvcq7qOsOhpAX4A'),\n ('UCqjwF8rxRsotnojGl4gM0Zw', 'UCRlICXvO4XR4HMeEB9JjDlA'),\n ('UCqjwF8rxRsotnojGl4gM0Zw', 'UCjzSBCC2yv7dZmD5dQxV2ug'),\n ('UCqmugCqELzhIMNYnsjScXXw', 'UCwmFOfFuvRPI112vR5DNnrA'),\n ('UCrzICdOsXhtn4zMlk4bnTIg', 'UC0ASolYU_Yh3yShLFQC0stg'),\n ('UCrzICdOsXhtn4zMlk4bnTIg', 'UC1Aq3T1GmKcObLqo1YIU_Ww'),\n ('UCrzICdOsXhtn4zMlk4bnTIg', 'UC1KbedtKa3d5dleFR6OjQMg'),\n ('UCrzICdOsXhtn4zMlk4bnTIg', 'UC2D2CMWXMOVWx7giW1n3LIg'),\n ('UCrzICdOsXhtn4zMlk4bnTIg', 'UC4FhvdvgZU5CVbXi2uWgiZg'),\n ('UCrzICdOsXhtn4zMlk4bnTIg', 'UC68TLK0mAEzUyHx5x5k-S1Q'),\n ('UCrzICdOsXhtn4zMlk4bnTIg', 'UC6TRaqsCQQBI0QF6aSBz4nw'),\n ('UCrzICdOsXhtn4zMlk4bnTIg', 'UCAcQW_4qZ12wNt3T0M9b-Vw'),\n ('UCrzICdOsXhtn4zMlk4bnTIg', 'UCGk1LitxAZVnqQn0_nt5qxw'),\n ('UCrzICdOsXhtn4zMlk4bnTIg', 'UCGybO-bWZ3W6URh42sdMQiw'),\n ('UCrzICdOsXhtn4zMlk4bnTIg', 'UCKf0UqBiCQI4Ol0To9V0pKQ'),\n ('UCrzICdOsXhtn4zMlk4bnTIg', 'UCL8Nxsa1LB9DrMTHtt3IKiw'),\n ('UCrzICdOsXhtn4zMlk4bnTIg', 'UCPCiBMarvDiTx-lknzt934g'),\n ('UCrzICdOsXhtn4zMlk4bnTIg', 'UCPx2nKfFk4p6IkQsMW9O0xQ'),\n ('UCrzICdOsXhtn4zMlk4bnTIg', 'UCRx0HAyAfmcqtrQYK3IITBA'),\n ('UCrzICdOsXhtn4zMlk4bnTIg', 'UCVYbUVLrZ6pEBfYV_UyvItA'),\n ('UCrzICdOsXhtn4zMlk4bnTIg', 'UCZIIRX8rkNjVpP-oLMHpeDw'),\n ('UCrzICdOsXhtn4zMlk4bnTIg', 'UCajFsJ74oE4zt3sPkOP_81g'),\n ('UCrzICdOsXhtn4zMlk4bnTIg', 'UCduKuJToxWPizJ7I2E6n1kA'),\n ('UCrzICdOsXhtn4zMlk4bnTIg', 'UCe072WU1CTmEZhkPS4bM6cQ'),\n ('UCrzICdOsXhtn4zMlk4bnTIg', 'UClKgO_YP3pcIVeav2g_k6hw'),\n ('UCrzICdOsXhtn4zMlk4bnTIg', 'UCmRfQHc3U4fV1-i8Ry1HmtA'),\n ('UCsvazPPlhZlch0-Z3wPByeg', 'UC9fnCGxIi_1P3vUZVZ4SUig'),\n ('UCtBw4N4-EiaAqK9TvZGlGDw', 'UC1KbedtKa3d5dleFR6OjQMg'),\n ('UCtBw4N4-EiaAqK9TvZGlGDw', 'UCGybO-bWZ3W6URh42sdMQiw'),\n ('UCtBw4N4-EiaAqK9TvZGlGDw', 'UCNKtHIrVMaDE7hovBvodpDw'),\n ('UCtBw4N4-EiaAqK9TvZGlGDw', 'UCe072WU1CTmEZhkPS4bM6cQ'),\n ('UCuVxaQDraOja6xKidcmoufA', 'UCddiUEpeqJcYeBxX1IVBKvQ'),\n ('UCvQECJukTDE2i6aCoMnS-Vg', 'UCR9sFzaG9Ia_kXJhfxtFMBA'),\n ('UCvQECJukTDE2i6aCoMnS-Vg', 'UCqmugCqELzhIMNYnsjScXXw'),\n ('UCwJfDTNqtM5n-dQBfuuHzYw', 'UCBDWo0g9N8pL8c9QhE8Lxxw'),\n ('UCwmFOfFuvRPI112vR5DNnrA', 'UCqmugCqELzhIMNYnsjScXXw'),\n ('UCyjTUNqX_vasRG4AAaM34jA', 'UCjD2KyAEm84yVH8cTilID7Q'),\n ('UCyqHPsR1eKEPSunlp6E-LSQ', 'UC1Aq3T1GmKcObLqo1YIU_Ww'),\n ('UCyqHPsR1eKEPSunlp6E-LSQ', 'UC3DkFux8Iv-aYnTRWzwaiBA'),\n ('UCzWQYUVCpZqtN93H8RR44Qw', 'UCe3tPdpxTF7wdBG8uV4hbew'),\n ('UCznv7Vf9nBdJYvBagFdAHWw', 'UC4FhvdvgZU5CVbXi2uWgiZg'),\n ('UCznv7Vf9nBdJYvBagFdAHWw', 'UC4m2G6T18_JcjwxwtwKJijw'),\n ('UCznv7Vf9nBdJYvBagFdAHWw', 'UCh0wrs-8ywjgZO7flfSmlqg')]"
     },
     "execution_count": 12,
     "metadata": {},
     "output_type": "execute_result"
    }
   ],
   "source": [
    "local_bridges"
   ]
  },
  {
   "cell_type": "code",
   "execution_count": 13,
   "id": "fdfe1b7cb5e959a8",
   "metadata": {
    "collapsed": false,
    "ExecuteTime": {
     "end_time": "2024-01-15T20:54:32.860834600Z",
     "start_time": "2024-01-15T20:54:32.857873600Z"
    }
   },
   "outputs": [
    {
     "data": {
      "text/plain": "54"
     },
     "execution_count": 13,
     "metadata": {},
     "output_type": "execute_result"
    }
   ],
   "source": [
    "len(bridges)"
   ]
  },
  {
   "cell_type": "code",
   "execution_count": 14,
   "id": "d3bc600f0c22164c",
   "metadata": {
    "collapsed": false,
    "ExecuteTime": {
     "end_time": "2024-01-15T20:54:33.029672300Z",
     "start_time": "2024-01-15T20:54:33.025354300Z"
    }
   },
   "outputs": [
    {
     "data": {
      "text/plain": "413"
     },
     "execution_count": 14,
     "metadata": {},
     "output_type": "execute_result"
    }
   ],
   "source": [
    "len(local_bridges)"
   ]
  },
  {
   "cell_type": "code",
   "execution_count": 15,
   "id": "fc0611f19f705ef2",
   "metadata": {
    "collapsed": false,
    "ExecuteTime": {
     "end_time": "2024-01-15T20:54:33.205478800Z",
     "start_time": "2024-01-15T20:54:33.175615200Z"
    }
   },
   "outputs": [
    {
     "name": "stdout",
     "output_type": "stream",
     "text": [
      "(The Bioneer, Aim To Head Official) , span=inf\n",
      "(The Bioneer, Quinn s Ideas) , span=inf\n",
      "(The Bioneer, Tee Lopes) , span=inf\n",
      "(The Bioneer, MuscleTV) , span=inf\n",
      "(The Bioneer, The  80s Guy) , span=inf\n",
      "(The Bioneer, SwitchForce) , span=inf\n",
      "(The Bioneer, RGT 85) , span=inf\n",
      "(The Bioneer, Original Strength) , span=inf\n",
      "(The Bioneer, Sonic the Hedgehog) , span=inf\n",
      "(The Bioneer, CGRundertow) , span=inf\n",
      "(The Bioneer, Matty Fusaro) , span=inf\n",
      "(The Bioneer, The Closer Look) , span=inf\n",
      "(The Bioneer, Tao Physique) , span=inf\n",
      "(The Bioneer, Pocket Gamer) , span=inf\n",
      "(The Bioneer, khanacademymedicine) , span=inf\n",
      "(The Bioneer, GameTrailers) , span=inf\n",
      "(The Bioneer, Explore Gadgets) , span=inf\n",
      "(The Bioneer, vsauceLEANBACK) , span=inf\n",
      "(The Bioneer, ParryGripp) , span=inf\n",
      "(The Bioneer, Yuriofwind) , span=inf\n",
      "(The Bioneer, The Movement System) , span=inf\n",
      "(The Bioneer, Mastar) , span=inf\n",
      "(The Bioneer, Eric Jacobus) , span=inf\n",
      "(The Bioneer, AppSumo) , span=inf\n",
      "(The Bioneer, World Science Festival) , span=inf\n",
      "(The Bioneer, JimTV) , span=inf\n",
      "(The Bioneer, Dave Bennett) , span=inf\n",
      "(The Bioneer, Krista King) , span=inf\n",
      "(The Bioneer, MegaGWolf) , span=inf\n",
      "(The Bioneer, SPARTAN BODYBUILDING) , span=inf\n",
      "(The Bioneer, The Thought Emporium) , span=inf\n",
      "(The Bioneer, Android Developers) , span=inf\n",
      "(The Bioneer, SearingWolfe) , span=inf\n",
      "(The Bioneer, Skill Up) , span=inf\n",
      "(The Bioneer, Derren Brown) , span=inf\n",
      "(The Bioneer, Gokuflex) , span=inf\n",
      "(The Bioneer, Hybrid Calisthenics) , span=inf\n",
      "(The Bioneer, Implicitly Pretentious) , span=inf\n",
      "(The Bioneer, Sonic Central) , span=inf\n",
      "(The Bioneer, Physionic) , span=inf\n",
      "(The Bioneer, Max Derrat) , span=inf\n",
      "(The Bioneer, Sorelle Amore) , span=inf\n",
      "(The Bioneer, Nintendo Life) , span=inf\n",
      "(The Bioneer, SCHILLER official) , span=inf\n",
      "(The Bioneer, ANLLELA SAGRA) , span=inf\n",
      "(The Bioneer, Mover s Odyssey) , span=inf\n",
      "(The Bioneer, Beerdy - Bruce Lee Central) , span=inf\n",
      "(The Bioneer, Deus Ex) , span=inf\n",
      "(The Bioneer, New Scientist) , span=inf\n",
      "(The Bioneer, Quirkology) , span=inf\n",
      "(The Bioneer, RSA) , span=inf\n",
      "(The Bioneer, Philip Hartshorn) , span=inf\n",
      "(The Bioneer, Prozis) , span=inf\n",
      "(The Bioneer, Greg and Mitch) , span=inf\n"
     ]
    }
   ],
   "source": [
    "for local1,local2,span in nx.local_bridges(G.to_undirected()):\n",
    "    print(f\"({get_label(G,local1)}, {get_label(G,local2)}) , span={span}\")"
   ]
  },
  {
   "cell_type": "code",
   "execution_count": 16,
   "id": "af79b9f91fadaf36",
   "metadata": {
    "collapsed": false,
    "ExecuteTime": {
     "end_time": "2024-01-15T20:54:33.366881900Z",
     "start_time": "2024-01-15T20:54:33.339154500Z"
    }
   },
   "outputs": [
    {
     "data": {
      "text/plain": "54"
     },
     "execution_count": 16,
     "metadata": {},
     "output_type": "execute_result"
    }
   ],
   "source": [
    "len(list(nx.local_bridges(G.to_undirected())))"
   ]
  },
  {
   "cell_type": "code",
   "execution_count": 17,
   "id": "6d62ce48fa035505",
   "metadata": {
    "collapsed": false,
    "ExecuteTime": {
     "end_time": "2024-01-15T20:54:34.473111Z",
     "start_time": "2024-01-15T20:54:33.508385600Z"
    }
   },
   "outputs": [
    {
     "data": {
      "text/plain": "[('The Bioneer', 'Joe Scott'),\n ('The Bioneer', 'Clark Elieson'),\n ('The Bioneer', 'Aim To Head Official'),\n ('The Bioneer', 'Quinn s Ideas'),\n ('The Bioneer', 'Channel Pup'),\n ('The Bioneer', 'Tee Lopes'),\n ('The Bioneer', 'Inside Gaming'),\n ('The Bioneer', 'MuscleTV'),\n ('The Bioneer', 'The  80s Guy'),\n ('The Bioneer', 'SwitchForce'),\n ('The Bioneer', 'RGT 85'),\n ('The Bioneer', 'CNET Home'),\n ('The Bioneer', 'Original Strength'),\n ('The Bioneer', 'Sonic the Hedgehog'),\n ('The Bioneer', 'TechCrunch'),\n ('The Bioneer', 'JaxBlade'),\n ('The Bioneer', 'CGRundertow'),\n ('The Bioneer', 'Matty Fusaro'),\n ('The Bioneer', 'The Closer Look'),\n ('The Bioneer', 'Tao Physique'),\n ('The Bioneer', 'Pocket Gamer'),\n ('The Bioneer', 'khanacademymedicine'),\n ('The Bioneer', 'GameTrailers'),\n ('The Bioneer', 'Explore Gadgets'),\n ('The Bioneer', 'School of Calisthenics'),\n ('The Bioneer', 'vsauceLEANBACK'),\n ('The Bioneer', 'Comics Explained'),\n ('The Bioneer', 'ParryGripp'),\n ('The Bioneer', 'Tekzilla'),\n ('The Bioneer', 'Yuriofwind'),\n ('The Bioneer', 'The Movement System'),\n ('The Bioneer', 'Mastar'),\n ('The Bioneer', 'Thew Adams'),\n ('The Bioneer', 'Eric Jacobus'),\n ('The Bioneer', 'AppSumo'),\n ('The Bioneer', 'World Science Festival'),\n ('The Bioneer', 'JimTV'),\n ('The Bioneer', 'Dave Bennett'),\n ('The Bioneer', 'Krista King'),\n ('The Bioneer', 'MegaGWolf'),\n ('The Bioneer', 'NerdSync'),\n ('The Bioneer', 'SPARTAN BODYBUILDING'),\n ('The Bioneer', 'The Thought Emporium'),\n ('The Bioneer', 'Android Developers'),\n ('The Bioneer', 'SearingWolfe'),\n ('The Bioneer', 'Skill Up'),\n ('The Bioneer', 'Derren Brown'),\n ('The Bioneer', 'Gokuflex'),\n ('The Bioneer', 'GameSpot'),\n ('The Bioneer', 'Invincible Worldwide'),\n ('The Bioneer', 'Hybrid Calisthenics'),\n ('The Bioneer', 'Implicitly Pretentious'),\n ('The Bioneer', 'Sonic Central'),\n ('The Bioneer', 'randomfrankp'),\n ('The Bioneer', 'Science Friction'),\n ('The Bioneer', 'Physionic'),\n ('The Bioneer', 'Max Derrat'),\n ('The Bioneer', 'Sorelle Amore'),\n ('The Bioneer', 'Nintendo Life'),\n ('The Bioneer', 'SCHILLER official'),\n ('The Bioneer', 'ANLLELA SAGRA'),\n ('The Bioneer', 'Sean Ong'),\n ('The Bioneer', 'Mover s Odyssey'),\n ('The Bioneer', 'Beerdy - Bruce Lee Central'),\n ('The Bioneer', 'Deus Ex'),\n ('The Bioneer', 'TeamFourStar'),\n ('The Bioneer', 'New Scientist'),\n ('The Bioneer', 'Quirkology'),\n ('The Bioneer', 'RSA'),\n ('The Bioneer', 'Philip Hartshorn'),\n ('The Bioneer', 'Prozis'),\n ('The Bioneer', 'Katie Moore'),\n ('The Bioneer', 'Greg and Mitch'),\n ('Joe Scott', 'ColdFusion'),\n ('Joe Scott', 'Patrick (H) Willems'),\n ('Joe Scott', 'Thomas Frank'),\n ('Joe Scott', 'Thoughty2'),\n ('Joe Scott', 'Practical Psychology'),\n ('Joe Scott', 'Art of Manliness'),\n ('Joe Scott', 'What I ve Learned'),\n ('Clark Elieson', 'Jacob Geller'),\n ('FitnessFAQs', 'SaturnoMovement'),\n ('Strength Project', 'Frank Medrano'),\n ('Channel Pup', 'Game Apologist'),\n ('samy kamkar', 'Tim Ferriss'),\n ('Inside Gaming', 'DEATH BATTLE!'),\n ('PBS Space Time', 'BBC Earth Science'),\n ('Bodybuilding.com', 'alpha m.'),\n ('Bodybuilding.com', 'Hodge Twins'),\n ('Bodybuilding.com', 'Jeff Nippard'),\n ('Bodybuilding.com', 'MJ Fitness'),\n ('Bodybuilding.com', 'Buff Dudes'),\n ('Bodybuilding.com', 'Mark Bell - Super Training Gym'),\n ('Bodybuilding.com', 'Jim Stoppani  PhD'),\n ('Bodybuilding.com', 'Josh Bryant'),\n ('Bodybuilding.com', 'MoveU'),\n ('Bodybuilding.com', 'Fit Media Channel'),\n ('Bodybuilding.com', 'THENX'),\n ('Bodybuilding.com', 'Arnold Schwarzenegger'),\n ('Bodybuilding.com', 'Men s Health'),\n ('AnimeAjay', 'Geekdom101'),\n ('CNET Home', 'The Rock'),\n ('CNET Home', 'Mashable'),\n ('CNET Home', 'The Verge'),\n ('CNET Home', 'Seeker+'),\n ('CNET Home', 'Music for creators'),\n ('CNET Home', 'Adam Savage’s Tested'),\n ('CT Fletcher Motivation', 'Frank Medrano'),\n ('The Rock', 'BroScienceLife'),\n ('TechCrunch', 'Engadget'),\n ('Dom Esposito', 'Jonathan Morrison'),\n ('Lessons from the Screenplay', 'Just Write'),\n ('Lessons from the Screenplay', 'Nerdwriter1'),\n ('Lessons from the Screenplay', 'Game Maker s Toolkit'),\n ('JaxBlade', 'SaturnoMovement'),\n ('Thomas Frank', 'Better Ideas'),\n ('Thomas Frank', 'Captain Sinbad'),\n ('Thomas Frank', 'Pat Flynn'),\n ('Pat Flynn', 'Tim Ferriss'),\n ('Be Smart', 'PBS Space Time'),\n ('SixPackAbs.com', 'Bodybuilding.com'),\n ('SixPackAbs.com', 'Rich Piana'),\n ('SixPackAbs.com', 'Bret Contreras Glute Guy'),\n ('SixPackAbs.com', 'BroScienceLife'),\n ('SixPackAbs.com', 'PhysiquesOfGreatness'),\n ('The Enigma TNG', 'Saiyan Enigma'),\n ('MartialClub', 'Strength Project'),\n ('MartialClub', 'fightTIPS'),\n ('Rich Piana', 'Elliott Hulse’s STRENGTH CAMP'),\n ('Rich Piana', 'Strength Project'),\n ('Rich Piana', 'MJ Fitness'),\n ('Nerdwriter1', 'PBS Idea Channel'),\n ('Nerdwriter1', 'Jeff Nippard'),\n ('Nerdwriter1', 'Chris Stuckmann'),\n ('Nerdwriter1', 'Life Noggin'),\n ('Game Informer', 'Jacob Geller'),\n ('Comics Explained', 'Geekdom101'),\n ('Comics Explained', 'Comicstorian'),\n ('Mashable', 'ColdFusion'),\n ('Mark Bell - Super Training Gym', 'The Kneesovertoesguy'),\n ('Mark Bell - Super Training Gym', 'What I ve Learned'),\n ('JeromeFitness', 'fightTIPS'),\n ('Tekzilla', 'DEATH BATTLE!'),\n ('Tekzilla', 'Jon Rettinger'),\n ('hard2hurt', 'Fight Commentary Breakdowns'),\n ('Dominik Sky', 'FitnessFAQs'),\n ('Pocketnow', 'Jonathan Morrison'),\n ('Pocketnow', 'MrMobile [Michael Fisher]'),\n ('Pocketnow', 'Joshua Vergara'),\n ('Pocketnow', 'XDA'),\n ('Thew Adams', 'How to ADHD'),\n ('Thew Adams', 'Bad Lip Reading'),\n ('Thew Adams', 'Jacob Geller'),\n ('Frank Medrano', 'Strength Project'),\n ('Frank Medrano', 'CT Fletcher Motivation'),\n ('Flow', 'teamfarang'),\n ('Jon Rettinger', 'Engadget'),\n ('Jon Rettinger', 'Dom Esposito'),\n ('Jon Rettinger', 'Microsoft Surface'),\n ('Jon Rettinger', 'Pocketnow'),\n ('Jon Rettinger', 'minutephysics'),\n ('Jon Rettinger', 'MobileTechReview'),\n ('Jon Rettinger', 'Android Authority'),\n ('Jon Rettinger', 'Practical Psychology'),\n ('Jon Rettinger', 'The Escapist'),\n ('Jon Rettinger', 'Arnold Schwarzenegger'),\n ('Jon Rettinger', 'Animation Domination High Def'),\n ('captainmidnight', 'Nerdwriter1'),\n ('captainmidnight', 'Patrick (H) Willems'),\n ('Kevin Rose', 'Charisma on Command'),\n ('pigmie', 'VincaniTV'),\n ('Jim Stoppani  PhD', 'Bodybuilding.com'),\n ('Tom Merrick', 'Kinobody'),\n ('minutephysics', 'Numberphile'),\n ('NerdSync', 'Thomas Frank'),\n ('NerdSync', 'captainmidnight'),\n ('NerdSync', 'Jacob Geller'),\n ('NerdSync', 'Mr Sunday Movies'),\n ('Lebe Stark', 'Funk Roberts'),\n ('Stronger By Science', 'Jeff Nippard'),\n ('Stronger By Science', 'Mark Bell - Super Training Gym'),\n ('Stronger By Science', 'Numberphile'),\n ('GameSpot', 'Fandom Entertainment'),\n ('Invincible Worldwide', 'Strength Project'),\n ('The Verge', 'Polygon'),\n ('The Verge', 'Jonathan Morrison'),\n ('BBC Earth Science', 'Flow'),\n ('Seeker+', 'Seeker'),\n ('Jacob Geller', 'Patrick (H) Willems'),\n ('Jacob Geller', 'Game Informer'),\n ('Jacob Geller', 'Snoman Gaming'),\n ('Jacob Geller', 'Polygon'),\n ('MoveU', 'Andrew Huberman'),\n ('MoveU', 'The Kneesovertoesguy'),\n ('Music for creators', 'Audio Library — Music for content creators'),\n ('Mind Pump TV', 'STRENGTH WARS'),\n ('randomfrankp', 'Jonathan Morrison'),\n ('Science Friction', 'PBS Idea Channel'),\n ('Science Friction', 'Comic Book Girl 19'),\n ('Science Friction', 'Big Think'),\n ('Saiyan Enigma', 'The Enigma TNG'),\n ('Adam Savage’s Tested', 'Numberphile'),\n ('teamfarang', 'Kevin Rose'),\n ('teamfarang', 'Jason Silva: Shots of Awe'),\n ('teamfarang', 'Tim Ferriss'),\n ('Cracked', 'Wisecrack'),\n ('Cracked', 'Patrick (H) Willems'),\n ('Cracked', 'Fandom Entertainment'),\n ('Cracked', 'Adam Savage’s Tested'),\n ('Cracked', 'Mr Sunday Movies'),\n ('Cracked', 'Polygon'),\n ('OfficialBarstarzz', 'Bodybuilding.com'),\n ('XDA', 'Pocketnow'),\n ('Art of Manliness', 'Real Men Real Style'),\n ('fightTIPS', 'JeromeFitness'),\n ('Jason Silva: Shots of Awe', 'Lessons from the Screenplay'),\n ('Jason Silva: Shots of Awe', 'melodysheep'),\n ('Snoman Gaming', 'Game Maker s Toolkit'),\n ('SaturnoMovement', 'Tom Merrick'),\n ('functionalpatterns', 'ColdFusion'),\n ('functionalpatterns', 'Wisecrack'),\n ('functionalpatterns', 'BroScienceLife'),\n ('functionalpatterns', 'What I ve Learned'),\n ('functionalpatterns', 'Big Think'),\n ('Sean Ong', 'ColdFusion'),\n ('Sean Ong', 'Microsoft Surface'),\n ('THENX', 'ColdFusion'),\n ('THENX', 'Thoughty2'),\n ('THENX', 'OfficialBarstarzz'),\n ('Vsauce2', 'Vsauce3'),\n ('TeamFourStar', 'AnimeAjay'),\n ('Kinobody', 'hard2hurt'),\n ('Polygon', 'The Verge'),\n ('Big Think', 'melodysheep'),\n ('Big Think', 'Vsauce2'),\n ('Men s Health', 'CT Fletcher Motivation'),\n ('Vsauce3', 'Vsauce2'),\n ('Animation Domination High Def', 'Cracked'),\n ('Katie Moore', 'Bulletproof'),\n ('Katie Moore', 'Peter McKinnon'),\n ('Seeker', 'Seeker+'),\n ('Tim Ferriss', 'Hodge Twins'),\n ('Tim Ferriss', 'samy kamkar'),\n ('Tim Ferriss', 'PhysiquesOfGreatness')]"
     },
     "execution_count": 17,
     "metadata": {},
     "output_type": "execute_result"
    }
   ],
   "source": [
    "def get_label(G, node_id):\n",
    "    return G.nodes[node_id]['label']\n",
    "\n",
    "def find_directed_local_bridges_with_labels(G):\n",
    "    local_bridges = []\n",
    "    for edge in G.edges():\n",
    "        u, v = edge\n",
    "\n",
    "        # Remove the edge and check if there's still a path from u to v\n",
    "        G_temp = G.copy()\n",
    "        G_temp.remove_edge(u, v)\n",
    "\n",
    "        if not nx.has_path(G_temp, u, v):\n",
    "            # Fetch the labels for nodes u and v\n",
    "            u_label = G.nodes[u]['label']\n",
    "            v_label = G.nodes[v]['label']\n",
    "            local_bridges.append((u_label, v_label))\n",
    "\n",
    "    return local_bridges\n",
    "\n",
    "local_bridges = find_directed_local_bridges_with_labels(G)\n",
    "local_bridges"
   ]
  },
  {
   "cell_type": "code",
   "execution_count": 18,
   "id": "3405efb5ec03520a",
   "metadata": {
    "collapsed": false,
    "ExecuteTime": {
     "end_time": "2024-01-15T20:54:34.473111Z",
     "start_time": "2024-01-15T20:54:34.471110900Z"
    }
   },
   "outputs": [
    {
     "data": {
      "text/plain": "244"
     },
     "execution_count": 18,
     "metadata": {},
     "output_type": "execute_result"
    }
   ],
   "source": [
    "len(local_bridges)"
   ]
  },
  {
   "cell_type": "code",
   "execution_count": 19,
   "id": "c3360c9075529c09",
   "metadata": {
    "collapsed": false,
    "ExecuteTime": {
     "end_time": "2024-01-15T20:54:34.477033200Z",
     "start_time": "2024-01-15T20:54:34.471110900Z"
    }
   },
   "outputs": [
    {
     "data": {
      "text/plain": "['The Bioneer',\n 'Joe Scott',\n 'Engadget',\n 'How to ADHD',\n 'Clark Elieson',\n 'Elliott Hulse’s STRENGTH CAMP',\n 'STRENGTH WARS',\n 'Bulletproof',\n 'FitnessFAQs',\n 'Aim To Head Official',\n 'alpha m.',\n 'Quinn s Ideas',\n 'Strength Project',\n 'Andrew Huberman',\n 'Peter McKinnon',\n 'Channel Pup',\n 'PBS Idea Channel',\n 'Tee Lopes',\n 'SoundGuys',\n 'Hodge Twins',\n 'ColdFusion',\n 'Variant Comics',\n 'samy kamkar',\n 'Inside Gaming',\n 'MuscleTV',\n 'Wisecrack',\n 'Bad Lip Reading',\n 'Jeff Nippard',\n 'Testosterone Nation',\n 'The  80s Guy',\n 'PBS Space Time',\n 'Captain Sinbad',\n 'SwitchForce',\n 'Bodybuilding.com',\n 'Strength Side',\n 'AnimeAjay',\n 'RGT 85',\n 'VitruvianPhysique',\n 'CNET Home',\n 'Siim Land',\n 'Fight Commentary Breakdowns',\n 'DEATH BATTLE!',\n 'CT Fletcher Motivation',\n 'The Rock',\n 'Original Strength',\n 'Sonic the Hedgehog',\n 'TechCrunch',\n 'Chris Stuckmann',\n 'NewRetroWave',\n 'Dictionary of Obscure Sorrows',\n 'Jonathan Morrison',\n 'Dom Esposito',\n 'Lessons from the Screenplay',\n 'Patrick (H) Willems',\n 'JaxBlade',\n 'Thomas Frank',\n 'CGRundertow',\n 'Microsoft Surface',\n 'Pat Flynn',\n 'The Kneesovertoesguy',\n 'Be Smart',\n 'SixPackAbs.com',\n 'Matty Fusaro',\n 'The Enigma TNG',\n 'The Closer Look',\n 'MartialClub',\n 'Tao Physique',\n 'Rich Piana',\n 'Pocket Gamer',\n 'khanacademymedicine',\n 'Nerdwriter1',\n 'GameTrailers',\n 'Game Informer',\n 'Explore Gadgets',\n 'ACG',\n 'School of Calisthenics',\n 'MJ Fitness',\n 'vsauceLEANBACK',\n 'Buff Dudes',\n 'The Imaginary Axis',\n 'Comics Explained',\n 'Mashable',\n 'ParryGripp',\n 'Mark Bell - Super Training Gym',\n 'JeromeFitness',\n 'Tekzilla',\n 'hard2hurt',\n 'Dominik Sky',\n 'Yuriofwind',\n 'The Movement System',\n 'gameranx',\n 'Pocketnow',\n 'Geoffrey Verity Schofield',\n 'Mastar',\n 'Thew Adams',\n 'Frank Medrano',\n 'Ido Portal',\n 'Comic Book Girl 19',\n 'VAHVA Fitness',\n 'Eric Jacobus',\n 'Fandom Entertainment',\n 'Flow',\n 'Jon Rettinger',\n 'melodysheep',\n 'captainmidnight',\n 'Gary Explains',\n 'Thoughty2',\n 'AppSumo',\n 'Bret Contreras Glute Guy',\n 'MrMobile [Michael Fisher]',\n 'Kevin Rose',\n 'World Science Festival',\n 'Joshua Vergara',\n 'JimTV',\n 'pigmie',\n 'Jim Stoppani  PhD',\n 'Dave Bennett',\n 'Tom Merrick',\n 'Krista King',\n 'minutephysics',\n 'MegaGWolf',\n 'NerdSync',\n 'Charisma on Command',\n 'SPARTAN BODYBUILDING',\n 'Game Apologist',\n 'The Thought Emporium',\n 'Android Developers',\n 'Mark Wildman',\n 'MobileTechReview',\n 'JimmyTheGiant',\n 'Lebe Stark',\n 'SearingWolfe',\n 'Skill Up',\n 'Derren Brown',\n 'Calisthenicmovement',\n 'Stronger By Science',\n 'Fortress',\n 'Gokuflex',\n 'GameSpot',\n 'Invincible Worldwide',\n 'The Verge',\n 'Josh Bryant',\n 'BBC Earth Science',\n 'BroScienceLife',\n 'Brandon Carter',\n 'Seeker+',\n 'Hybrid Calisthenics',\n 'Jacob Geller',\n 'Implicitly Pretentious',\n 'MoveU',\n 'Music for creators',\n 'Geekdom101',\n 'Android Authority',\n 'PhysiquesOfGreatness',\n 'Mind Pump TV',\n 'Sonic Central',\n 'VincaniTV',\n 'MovNat',\n 'randomfrankp',\n 'Science Friction',\n 'Audio Library — Music for content creators',\n 'Saiyan Enigma',\n 'Adam Savage’s Tested',\n 'Practical Psychology',\n 'Physionic',\n 'teamfarang',\n 'Max Derrat',\n 'Cracked',\n 'OfficialBarstarzz',\n 'XDA',\n 'Mr Sunday Movies',\n 'Art of Manliness',\n 'Sorelle Amore',\n 'Nintendo Life',\n 'fightTIPS',\n 'Jason Silva: Shots of Awe',\n 'Comicstorian',\n 'SCHILLER official',\n 'Real Men Real Style',\n 'Snoman Gaming',\n 'Alex Leonidas',\n 'ANLLELA SAGRA',\n 'Fit Media Channel',\n 'Numberphile',\n 'SaturnoMovement',\n 'Life Noggin',\n 'functionalpatterns',\n 'Sean Ong',\n 'Game Maker s Toolkit',\n 'Mover s Odyssey',\n 'What I ve Learned',\n 'The Escapist',\n 'THENX',\n 'Vsauce2',\n 'Beerdy - Bruce Lee Central',\n 'Funk Roberts',\n 'Deus Ex',\n 'Like Stories of Old',\n 'FightSmartTrav',\n 'Dan Lok',\n 'TeamFourStar',\n 'New Scientist',\n 'Kinobody',\n 'Better Ideas',\n 'Boxing Legends TV',\n 'Polygon',\n 'Quirkology',\n 'Big Think',\n 'RSA',\n 'Arnold Schwarzenegger',\n 'Men s Health',\n 'Curious Archive',\n 'Vsauce3',\n 'Just Write',\n 'Philip Hartshorn',\n 'Prozis',\n 'Animation Domination High Def',\n 'Katie Moore',\n 'Seeker',\n 'Greg and Mitch',\n 'Tim Ferriss']"
     },
     "execution_count": 19,
     "metadata": {},
     "output_type": "execute_result"
    }
   ],
   "source": [
    "# Get all the labels in the network\n",
    "labels = [G.nodes[node]['label'] for node in G.nodes]\n",
    "labels"
   ]
  },
  {
   "cell_type": "code",
   "outputs": [],
   "source": [],
   "metadata": {
    "collapsed": false
   },
   "id": "fa5f628f7e467d9"
  }
 ],
 "metadata": {
  "kernelspec": {
   "display_name": "Python 3 (ipykernel)",
   "language": "python",
   "name": "python3"
  },
  "language_info": {
   "codemirror_mode": {
    "name": "ipython",
    "version": 3
   },
   "file_extension": ".py",
   "mimetype": "text/x-python",
   "name": "python",
   "nbconvert_exporter": "python",
   "pygments_lexer": "ipython3",
   "version": "3.11.5"
  }
 },
 "nbformat": 4,
 "nbformat_minor": 5
}
