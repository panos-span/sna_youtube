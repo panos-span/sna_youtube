{
 "cells": [
  {
   "cell_type": "code",
   "outputs": [],
   "source": [
    "import networkx as nx"
   ],
   "metadata": {
    "collapsed": false,
    "ExecuteTime": {
     "end_time": "2024-01-01T23:07:40.068966800Z",
     "start_time": "2024-01-01T23:07:39.938668Z"
    }
   },
   "id": "da4a42ae7aece79d",
   "execution_count": 1
  },
  {
   "cell_type": "code",
   "outputs": [],
   "source": [
    "# Load the network from the GraphML file\n",
    "G = nx.read_graphml('bioneer.graphml')"
   ],
   "metadata": {
    "collapsed": false,
    "ExecuteTime": {
     "end_time": "2024-01-01T23:07:40.180944700Z",
     "start_time": "2024-01-01T23:07:40.069967200Z"
    }
   },
   "id": "eda0d9194d7343d4",
   "execution_count": 2
  },
  {
   "cell_type": "code",
   "outputs": [
    {
     "data": {
      "text/plain": "(0.30701754385964913, 0.6260964912280702, None)"
     },
     "execution_count": 5,
     "metadata": {},
     "output_type": "execute_result"
    }
   ],
   "source": [
    "# Function to calculate homophily based on a given attribute\n",
    "def calculate_homophily(graph, attribute):\n",
    "    same_attr_edges = 0\n",
    "    total_edges = 0\n",
    "\n",
    "    for node in graph:\n",
    "        node_attr_value = graph.nodes[node].get(attribute, None)\n",
    "        if node_attr_value is not None:\n",
    "            for neighbor in graph.neighbors(node):\n",
    "                neighbor_attr_value = graph.nodes[neighbor].get(attribute, None)\n",
    "                if neighbor_attr_value is not None:\n",
    "                    total_edges += 1\n",
    "                    if node_attr_value == neighbor_attr_value:\n",
    "                        same_attr_edges += 1\n",
    "\n",
    "    homophily_ratio = same_attr_edges / total_edges if total_edges > 0 else None\n",
    "    return homophily_ratio\n",
    "\n",
    "\n",
    "# Calculate homophily for 'country'\n",
    "country_homophily = calculate_homophily(G, 'country')\n",
    "\n",
    "# Calculate homophily for 'Modularity Class'\n",
    "modularity_class_homophily = calculate_homophily(G, 'Modularity Class')\n",
    "\n",
    "country_homophily, modularity_class_homophily"
   ],
   "metadata": {
    "collapsed": false,
    "ExecuteTime": {
     "end_time": "2024-01-01T23:13:03.247741900Z",
     "start_time": "2024-01-01T23:13:03.239409900Z"
    }
   },
   "id": "a95cd797153edb80",
   "execution_count": 5
  },
  {
   "cell_type": "code",
   "outputs": [],
   "source": [],
   "metadata": {
    "collapsed": false
   },
   "id": "fedf58b54fc17e6b"
  }
 ],
 "metadata": {
  "kernelspec": {
   "display_name": "Python 3",
   "language": "python",
   "name": "python3"
  },
  "language_info": {
   "codemirror_mode": {
    "name": "ipython",
    "version": 2
   },
   "file_extension": ".py",
   "mimetype": "text/x-python",
   "name": "python",
   "nbconvert_exporter": "python",
   "pygments_lexer": "ipython2",
   "version": "2.7.6"
  }
 },
 "nbformat": 4,
 "nbformat_minor": 5
}
