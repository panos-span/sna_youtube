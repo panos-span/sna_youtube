{
 "cells": [
  {
   "cell_type": "code",
   "execution_count": 1,
   "id": "da4a42ae7aece79d",
   "metadata": {
    "collapsed": false,
    "ExecuteTime": {
     "end_time": "2024-01-15T18:27:47.104853800Z",
     "start_time": "2024-01-15T18:27:46.855470900Z"
    }
   },
   "outputs": [],
   "source": [
    "import networkx as nx"
   ]
  },
  {
   "cell_type": "code",
   "execution_count": 2,
   "id": "eda0d9194d7343d4",
   "metadata": {
    "collapsed": false,
    "ExecuteTime": {
     "end_time": "2024-01-15T18:27:47.258621Z",
     "start_time": "2024-01-15T18:27:47.106853900Z"
    }
   },
   "outputs": [],
   "source": [
    "# Load the network from the GraphML file\n",
    "G = nx.read_graphml('bioneer2.graphml')\n",
    "# Filter the graph to only include channels with subscriberCount between 50000 and 8318210\n",
    "G = G.subgraph([node for node in G.nodes() if 50000 <= G.nodes[node]['subscribercount'] <= 8318210])"
   ]
  },
  {
   "cell_type": "code",
   "execution_count": 3,
   "id": "a95cd797153edb80",
   "metadata": {
    "collapsed": false,
    "ExecuteTime": {
     "end_time": "2024-01-15T18:27:58.676226500Z",
     "start_time": "2024-01-15T18:27:58.669110200Z"
    }
   },
   "outputs": [
    {
     "data": {
      "text/plain": "(0.28642384105960267, 0.6125827814569537)"
     },
     "execution_count": 3,
     "metadata": {},
     "output_type": "execute_result"
    }
   ],
   "source": [
    "# Function to calculate homophily based on a given attribute\n",
    "def calculate_homophily(graph, attribute):\n",
    "    same_attr_edges = 0\n",
    "    total_edges = 0\n",
    "\n",
    "    for node in graph:\n",
    "        node_attr_value = graph.nodes[node].get(attribute, None)\n",
    "        if node_attr_value is not None:\n",
    "            for neighbor in graph.neighbors(node):\n",
    "                neighbor_attr_value = graph.nodes[neighbor].get(attribute, None)\n",
    "                if neighbor_attr_value is not None:\n",
    "                    total_edges += 1\n",
    "                    if node_attr_value == neighbor_attr_value:\n",
    "                        same_attr_edges += 1\n",
    "\n",
    "    homophily_ratio = same_attr_edges / total_edges if total_edges > 0 else None\n",
    "    return homophily_ratio\n",
    "\n",
    "\n",
    "# Calculate homophily for 'country'\n",
    "country_homophily = calculate_homophily(G, 'country')\n",
    "\n",
    "# Calculate homophily for 'Modularity Class'\n",
    "modularity_class_homophily = calculate_homophily(G, 'Modularity Class')\n",
    "\n",
    "country_homophily, modularity_class_homophily"
   ]
  },
  {
   "cell_type": "code",
   "execution_count": 4,
   "id": "fedf58b54fc17e6b",
   "metadata": {
    "collapsed": false,
    "ExecuteTime": {
     "end_time": "2024-01-06T10:11:36.837207200Z",
     "start_time": "2024-01-06T10:11:36.830081Z"
    }
   },
   "outputs": [
    {
     "data": {
      "text/plain": "0.0"
     },
     "execution_count": 4,
     "metadata": {},
     "output_type": "execute_result"
    }
   ],
   "source": [
    "calculate_homophily(G,'subscribercount')"
   ]
  },
  {
   "cell_type": "code",
   "execution_count": 15,
   "id": "fcad7217c8a4f991",
   "metadata": {
    "collapsed": false,
    "ExecuteTime": {
     "end_time": "2024-01-15T18:30:06.787487500Z",
     "start_time": "2024-01-15T18:30:06.784428900Z"
    }
   },
   "outputs": [
    {
     "name": "stdout",
     "output_type": "stream",
     "text": [
      "E-I Index: -0.38741721854304634\n"
     ]
    }
   ],
   "source": [
    "def calculate_e_i_index_by_subscriber_count(G, threshold):\n",
    "    internal_edges = 0\n",
    "    external_edges = 0\n",
    "\n",
    "    for u, v in G.edges():\n",
    "        # Check if 'subscribercount' attribute exists for both nodes\n",
    "        if 'subscribercount' in G.nodes[u] and 'subscribercount' in G.nodes[v]:\n",
    "            # Determine if both nodes are above or below the threshold\n",
    "            u_above_threshold = G.nodes[u]['subscribercount'] >= threshold\n",
    "            v_above_threshold = G.nodes[v]['subscribercount'] >= threshold\n",
    "\n",
    "            if u_above_threshold == v_above_threshold:\n",
    "                internal_edges += 1  # Both nodes are either above or below the threshold\n",
    "            else:\n",
    "                external_edges += 1  # One node is above the threshold and the other is below\n",
    "\n",
    "    total_edges = internal_edges + external_edges\n",
    "    if total_edges > 0:\n",
    "        e_i_index = (external_edges - internal_edges) / total_edges\n",
    "    else:\n",
    "        e_i_index = None  # E-I Index is not defined for graphs without edges\n",
    "\n",
    "    return e_i_index\n",
    "\n",
    "\n",
    "# Define a subscriber count threshold\n",
    "subscriber_threshold = 3000000  # example threshold\n",
    "\n",
    "# Calculate the E-I Index\n",
    "e_i_index = calculate_e_i_index_by_subscriber_count(G, subscriber_threshold)\n",
    "print(\"E-I Index:\", e_i_index)\n"
   ]
  },
  {
   "cell_type": "code",
   "execution_count": 4,
   "id": "a1c71e534e5a740e",
   "metadata": {
    "collapsed": false,
    "ExecuteTime": {
     "end_time": "2024-01-15T18:28:05.914635Z",
     "start_time": "2024-01-15T18:28:05.911464700Z"
    }
   },
   "outputs": [
    {
     "name": "stdout",
     "output_type": "stream",
     "text": [
      "Homophily based on country: 0.28642384105960267\n"
     ]
    }
   ],
   "source": [
    "def calculate_homophily_by_country(G):\n",
    "    internal_edges = 0\n",
    "    total_edges = 0\n",
    "\n",
    "    for u, v in G.edges():\n",
    "        # Check if the 'country' attribute exists for both nodes\n",
    "        if 'country' in G.nodes[u] and 'country' in G.nodes[v]:\n",
    "            total_edges += 1  # Count every edge\n",
    "            if G.nodes[u]['country'] == G.nodes[v]['country']:\n",
    "                internal_edges += 1  # Count internal edge\n",
    "\n",
    "    # Calculating the proportion of internal connections\n",
    "    if total_edges > 0:\n",
    "        homophily_index = internal_edges / total_edges\n",
    "    else:\n",
    "        homophily_index = None  # Homophily is not defined for graphs without edges\n",
    "\n",
    "    return homophily_index\n",
    "# Calculate the homophily for the country attribute\n",
    "country_homophily = calculate_homophily_by_country(G)\n",
    "print(\"Homophily based on country:\", country_homophily)"
   ]
  },
  {
   "cell_type": "code",
   "execution_count": 5,
   "id": "802c3c9e718820cb",
   "metadata": {
    "collapsed": false,
    "ExecuteTime": {
     "end_time": "2024-01-15T18:28:38.318942700Z",
     "start_time": "2024-01-15T18:28:38.309008400Z"
    }
   },
   "outputs": [
    {
     "name": "stdout",
     "output_type": "stream",
     "text": [
      "Homophily based on Modularity Class: 0.6125827814569537\n"
     ]
    }
   ],
   "source": [
    "def calculate_homophily_by_modularity_class(G):\n",
    "    internal_edges = 0\n",
    "    total_edges = 0\n",
    "\n",
    "    for u, v in G.edges():\n",
    "        # Check if the 'Modularity Class' attribute exists for both nodes\n",
    "        if 'Modularity Class' in G.nodes[u] and 'Modularity Class' in G.nodes[v]:\n",
    "            total_edges += 1  # Count every edge\n",
    "            if G.nodes[u]['Modularity Class'] == G.nodes[v]['Modularity Class']:\n",
    "                internal_edges += 1  # Count internal edge\n",
    "\n",
    "    # Calculating the proportion of internal connections\n",
    "    if total_edges > 0:\n",
    "        homophily_index = internal_edges / total_edges\n",
    "    else:\n",
    "        homophily_index = None  # Homophily is not defined for graphs without edges\n",
    "\n",
    "    return homophily_index\n",
    "\n",
    "# Calculate the homophily for the Modularity Class attribute\n",
    "modularity_class_homophily = calculate_homophily_by_modularity_class(G.to_directed())\n",
    "print(\"Homophily based on Modularity Class:\", modularity_class_homophily)"
   ]
  },
  {
   "cell_type": "code",
   "outputs": [
    {
     "data": {
      "text/plain": "0.012422871246400659"
     },
     "execution_count": 6,
     "metadata": {},
     "output_type": "execute_result"
    }
   ],
   "source": [
    "# Get the graph density\n",
    "density = nx.density(G)\n",
    "density"
   ],
   "metadata": {
    "collapsed": false,
    "ExecuteTime": {
     "end_time": "2024-01-15T18:28:39.809368400Z",
     "start_time": "2024-01-15T18:28:39.802805400Z"
    }
   },
   "id": "27ef3ad6ecc91be1",
   "execution_count": 6
  },
  {
   "cell_type": "code",
   "outputs": [],
   "source": [],
   "metadata": {
    "collapsed": false
   },
   "id": "e0c7516990b1a9c4"
  }
 ],
 "metadata": {
  "kernelspec": {
   "display_name": "Python 3 (ipykernel)",
   "language": "python",
   "name": "python3"
  },
  "language_info": {
   "codemirror_mode": {
    "name": "ipython",
    "version": 3
   },
   "file_extension": ".py",
   "mimetype": "text/x-python",
   "name": "python",
   "nbconvert_exporter": "python",
   "pygments_lexer": "ipython3",
   "version": "3.11.5"
  }
 },
 "nbformat": 4,
 "nbformat_minor": 5
}
