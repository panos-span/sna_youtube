{
 "cells": [
  {
   "cell_type": "code",
   "execution_count": 27,
   "id": "initial_id",
   "metadata": {
    "collapsed": true,
    "ExecuteTime": {
     "end_time": "2023-12-11T18:24:55.711135100Z",
     "start_time": "2023-12-11T18:24:55.670509700Z"
    }
   },
   "outputs": [],
   "source": [
    "import pandas as pd\n",
    "import networkx as nx"
   ]
  },
  {
   "cell_type": "code",
   "execution_count": 28,
   "outputs": [],
   "source": [
    "# Read the nodes from the csv file\n",
    "df = pd.read_csv('alex_data.csv')\n",
    "\n",
    "# Read the edges from the csv file\n",
    "df_edges = pd.read_csv('alex_leonidas_2.csv')\n",
    "\n",
    "# Get channels with > 10000 subscribers\n",
    "df = df[df['subscribercount'] > 10000]\n",
    "\n",
    "# Filter the edges to only include channels with > 10000 subscribers\n",
    "df_edges = df_edges[df_edges['Source'].isin(df['Id'])]"
   ],
   "metadata": {
    "collapsed": false,
    "ExecuteTime": {
     "end_time": "2023-12-11T18:24:55.712134600Z",
     "start_time": "2023-12-11T18:24:55.703022700Z"
    }
   },
   "id": "5e1305de450d55ee"
  },
  {
   "cell_type": "code",
   "execution_count": 29,
   "outputs": [],
   "source": [
    "# Create a graph\n",
    "G = nx.Graph()\n",
    "\n",
    "# Add nodes to the graph\n",
    "for index, row in df.iterrows():\n",
    "    G.add_node(row['Id'], label=row['Label'], subscribercount=row['subscribercount'])\n",
    "    \n",
    "# Add edges to the graph\n",
    "for index, row in df_edges.iterrows():\n",
    "    G.add_edge(row['Source'], row['Target'], weight=row['Weight'])\n"
   ],
   "metadata": {
    "collapsed": false,
    "ExecuteTime": {
     "end_time": "2023-12-11T18:24:55.772655300Z",
     "start_time": "2023-12-11T18:24:55.714134200Z"
    }
   },
   "id": "dfe2ba0efc53f2fe"
  },
  {
   "cell_type": "code",
   "execution_count": 30,
   "outputs": [
    {
     "data": {
      "text/plain": "                           Id                          Label  subscribercount  \\\n0    UCmdlnVFzmf7Zhqm_QE-UlJw                  Alex Leonidas           362000   \n1    UCObA5o3mcc1felIMAv6cukw      Geoffrey Verity Schofield           133000   \n2    UCG-3rEW4IrDNa7-9iGByc2A            Natural Hypertrophy           113000   \n3    UCbYoTv5DbJmzKwxx5dmnu6g                  Bald Omni-Man            63900   \n4    UCU6xkf4sbccuSUP4dkV_lSw                    PG.Coaching            15100   \n..                        ...                            ...              ...   \n693  UCyjTUNqX_vasRG4AAaM34jA  Animation Domination High Def          2170000   \n694  UCyqHPsR1eKEPSunlp6E-LSQ                    Katie Moore            47200   \n695  UCzWQYUVCpZqtN93H8RR44Qw                         Seeker          5070000   \n696  UCznHh6gk3ewFhaTZtdQFWWw                 Greg and Mitch           787000   \n697  UCznv7Vf9nBdJYvBagFdAHWw                    Tim Ferriss          1370000   \n\n     degree_centrality  betweenness_centrality  closeness_centrality  \\\n0             0.028090                0.066644              0.507123   \n1             0.111236                0.149401              0.478238   \n2             0.062921                0.076477              0.429329   \n3             0.006742                0.001452              0.375527   \n4             0.144944                0.185526              0.438424   \n..                 ...                     ...                   ...   \n693           0.006742                0.000153              0.329630   \n694           0.003371                0.000003              0.329020   \n695           0.004494                0.000002              0.327567   \n696           0.002247                0.000000              0.327929   \n697           0.010112                0.000309              0.367465   \n\n     eigenvector_centrality  pagerank  clustering_coefficient  \n0                  0.087436  0.004337                0.160000  \n1                  0.141411  0.020393                0.029685  \n2                  0.081033  0.012195                0.035065  \n3                  0.026645  0.001149                0.600000  \n4                  0.108303  0.032819                0.010174  \n..                      ...       ...                     ...  \n693                0.032480  0.000995                0.466667  \n694                0.025068  0.000619                0.666667  \n695                0.027487  0.000724                0.833333  \n696                0.023044  0.000458                1.000000  \n697                0.043036  0.001401                0.222222  \n\n[698 rows x 9 columns]",
      "text/html": "<div>\n<style scoped>\n    .dataframe tbody tr th:only-of-type {\n        vertical-align: middle;\n    }\n\n    .dataframe tbody tr th {\n        vertical-align: top;\n    }\n\n    .dataframe thead th {\n        text-align: right;\n    }\n</style>\n<table border=\"1\" class=\"dataframe\">\n  <thead>\n    <tr style=\"text-align: right;\">\n      <th></th>\n      <th>Id</th>\n      <th>Label</th>\n      <th>subscribercount</th>\n      <th>degree_centrality</th>\n      <th>betweenness_centrality</th>\n      <th>closeness_centrality</th>\n      <th>eigenvector_centrality</th>\n      <th>pagerank</th>\n      <th>clustering_coefficient</th>\n    </tr>\n  </thead>\n  <tbody>\n    <tr>\n      <th>0</th>\n      <td>UCmdlnVFzmf7Zhqm_QE-UlJw</td>\n      <td>Alex Leonidas</td>\n      <td>362000</td>\n      <td>0.028090</td>\n      <td>0.066644</td>\n      <td>0.507123</td>\n      <td>0.087436</td>\n      <td>0.004337</td>\n      <td>0.160000</td>\n    </tr>\n    <tr>\n      <th>1</th>\n      <td>UCObA5o3mcc1felIMAv6cukw</td>\n      <td>Geoffrey Verity Schofield</td>\n      <td>133000</td>\n      <td>0.111236</td>\n      <td>0.149401</td>\n      <td>0.478238</td>\n      <td>0.141411</td>\n      <td>0.020393</td>\n      <td>0.029685</td>\n    </tr>\n    <tr>\n      <th>2</th>\n      <td>UCG-3rEW4IrDNa7-9iGByc2A</td>\n      <td>Natural Hypertrophy</td>\n      <td>113000</td>\n      <td>0.062921</td>\n      <td>0.076477</td>\n      <td>0.429329</td>\n      <td>0.081033</td>\n      <td>0.012195</td>\n      <td>0.035065</td>\n    </tr>\n    <tr>\n      <th>3</th>\n      <td>UCbYoTv5DbJmzKwxx5dmnu6g</td>\n      <td>Bald Omni-Man</td>\n      <td>63900</td>\n      <td>0.006742</td>\n      <td>0.001452</td>\n      <td>0.375527</td>\n      <td>0.026645</td>\n      <td>0.001149</td>\n      <td>0.600000</td>\n    </tr>\n    <tr>\n      <th>4</th>\n      <td>UCU6xkf4sbccuSUP4dkV_lSw</td>\n      <td>PG.Coaching</td>\n      <td>15100</td>\n      <td>0.144944</td>\n      <td>0.185526</td>\n      <td>0.438424</td>\n      <td>0.108303</td>\n      <td>0.032819</td>\n      <td>0.010174</td>\n    </tr>\n    <tr>\n      <th>...</th>\n      <td>...</td>\n      <td>...</td>\n      <td>...</td>\n      <td>...</td>\n      <td>...</td>\n      <td>...</td>\n      <td>...</td>\n      <td>...</td>\n      <td>...</td>\n    </tr>\n    <tr>\n      <th>693</th>\n      <td>UCyjTUNqX_vasRG4AAaM34jA</td>\n      <td>Animation Domination High Def</td>\n      <td>2170000</td>\n      <td>0.006742</td>\n      <td>0.000153</td>\n      <td>0.329630</td>\n      <td>0.032480</td>\n      <td>0.000995</td>\n      <td>0.466667</td>\n    </tr>\n    <tr>\n      <th>694</th>\n      <td>UCyqHPsR1eKEPSunlp6E-LSQ</td>\n      <td>Katie Moore</td>\n      <td>47200</td>\n      <td>0.003371</td>\n      <td>0.000003</td>\n      <td>0.329020</td>\n      <td>0.025068</td>\n      <td>0.000619</td>\n      <td>0.666667</td>\n    </tr>\n    <tr>\n      <th>695</th>\n      <td>UCzWQYUVCpZqtN93H8RR44Qw</td>\n      <td>Seeker</td>\n      <td>5070000</td>\n      <td>0.004494</td>\n      <td>0.000002</td>\n      <td>0.327567</td>\n      <td>0.027487</td>\n      <td>0.000724</td>\n      <td>0.833333</td>\n    </tr>\n    <tr>\n      <th>696</th>\n      <td>UCznHh6gk3ewFhaTZtdQFWWw</td>\n      <td>Greg and Mitch</td>\n      <td>787000</td>\n      <td>0.002247</td>\n      <td>0.000000</td>\n      <td>0.327929</td>\n      <td>0.023044</td>\n      <td>0.000458</td>\n      <td>1.000000</td>\n    </tr>\n    <tr>\n      <th>697</th>\n      <td>UCznv7Vf9nBdJYvBagFdAHWw</td>\n      <td>Tim Ferriss</td>\n      <td>1370000</td>\n      <td>0.010112</td>\n      <td>0.000309</td>\n      <td>0.367465</td>\n      <td>0.043036</td>\n      <td>0.001401</td>\n      <td>0.222222</td>\n    </tr>\n  </tbody>\n</table>\n<p>698 rows × 9 columns</p>\n</div>"
     },
     "execution_count": 30,
     "metadata": {},
     "output_type": "execute_result"
    }
   ],
   "source": [
    "\n",
    "# Get the degree centrality\n",
    "degree_centrality = nx.degree_centrality(G)\n",
    "# Get the betweenness centrality\n",
    "betweenness_centrality = nx.betweenness_centrality(G)\n",
    "# Get the closeness centrality\n",
    "closeness_centrality = nx.closeness_centrality(G)\n",
    "# Get the eigenvector centrality\n",
    "eigenvector_centrality = nx.eigenvector_centrality(G)\n",
    "# Get the pagerank\n",
    "pagerank = nx.pagerank(G)\n",
    "# Get the clustering coefficient\n",
    "clustering_coefficient = nx.clustering(G)\n",
    "# Get the average clustering coefficient\n",
    "average_clustering_coefficient = nx.average_clustering(G)\n",
    "# Get the average shortest path length\n",
    "average_shortest_path_length = nx.average_shortest_path_length(G)\n",
    "# Get the diameter\n",
    "diameter = nx.diameter(G)\n",
    "# Get the density\n",
    "density = nx.density(G)\n",
    "\n",
    "# Create a dataframe with all the metrics\n",
    "df_metrics = pd.DataFrame({'degree_centrality': degree_centrality, \n",
    "                           'betweenness_centrality': betweenness_centrality, \n",
    "                           'closeness_centrality': closeness_centrality, \n",
    "                           'eigenvector_centrality': eigenvector_centrality, \n",
    "                           'pagerank': pagerank, \n",
    "                           'clustering_coefficient': clustering_coefficient}).reset_index().rename(columns={'index': 'Id'})\n",
    "# Merge Id with the nodes dataframe and keep only the label and the metrics\n",
    "df_metrics = df.merge(df_metrics, on='Id')[['Id', 'Label', 'subscribercount', 'degree_centrality', 'betweenness_centrality', 'closeness_centrality', 'eigenvector_centrality', 'pagerank', 'clustering_coefficient']]\n",
    "df_metrics"
   ],
   "metadata": {
    "collapsed": false,
    "ExecuteTime": {
     "end_time": "2023-12-11T18:24:57.838081600Z",
     "start_time": "2023-12-11T18:24:55.774656Z"
    }
   },
   "id": "d8e8bc810f573ac"
  },
  {
   "cell_type": "code",
   "execution_count": 30,
   "outputs": [],
   "source": [],
   "metadata": {
    "collapsed": false,
    "ExecuteTime": {
     "end_time": "2023-12-11T18:24:57.839077400Z",
     "start_time": "2023-12-11T18:24:57.836988800Z"
    }
   },
   "id": "88e7bab9dd3cbc4c"
  }
 ],
 "metadata": {
  "kernelspec": {
   "display_name": "Python 3",
   "language": "python",
   "name": "python3"
  },
  "language_info": {
   "codemirror_mode": {
    "name": "ipython",
    "version": 2
   },
   "file_extension": ".py",
   "mimetype": "text/x-python",
   "name": "python",
   "nbconvert_exporter": "python",
   "pygments_lexer": "ipython2",
   "version": "2.7.6"
  }
 },
 "nbformat": 4,
 "nbformat_minor": 5
}
