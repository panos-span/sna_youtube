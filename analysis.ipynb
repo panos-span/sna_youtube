{
 "cells": [
  {
   "cell_type": "code",
   "outputs": [],
   "source": [
    "import pandas as pd\n",
    "import networkx as nx"
   ],
   "metadata": {
    "collapsed": false,
    "ExecuteTime": {
     "end_time": "2024-01-01T17:19:49.319540700Z",
     "start_time": "2024-01-01T17:19:49.314027400Z"
    }
   },
   "id": "397d1ef5a29cf725",
   "execution_count": 8
  },
  {
   "cell_type": "code",
   "outputs": [],
   "source": [
    "# Load the network from the GraphML file\n",
    "G = nx.read_graphml('bioneer.graphml')"
   ],
   "metadata": {
    "collapsed": false,
    "ExecuteTime": {
     "end_time": "2024-01-01T17:19:49.537823700Z",
     "start_time": "2024-01-01T17:19:49.483279900Z"
    }
   },
   "id": "3b1b70ecd90c5283",
   "execution_count": 9
  },
  {
   "cell_type": "code",
   "outputs": [],
   "source": [
    "# Convert to an undirected graph for bridge finding\n",
    "G_directed = G.to_directed()"
   ],
   "metadata": {
    "collapsed": false,
    "ExecuteTime": {
     "end_time": "2024-01-01T17:19:49.637343800Z",
     "start_time": "2024-01-01T17:19:49.629417700Z"
    }
   },
   "id": "22c353ecb4c56853",
   "execution_count": 10
  },
  {
   "cell_type": "code",
   "outputs": [
    {
     "name": "stdout",
     "output_type": "stream",
     "text": [
      "Bridges: [('The Bioneer', 'reverendkjr'), ('The Bioneer', 'Aim To Head Official'), ('The Bioneer', 'Quinn s Ideas'), ('The Bioneer', 'TalkAndroid'), ('The Bioneer', 'UPGRADEX'), ('The Bioneer', 'Tee Lopes'), ('The Bioneer', 'SonicJGB'), ('The Bioneer', 'Trunks Briefs'), ('The Bioneer', 'MuscleTV'), ('The Bioneer', 'SwitchForce'), ('The Bioneer', 'Original Strength'), ('The Bioneer', 'Sonic the Hedgehog'), ('The Bioneer', 'James Cooke'), ('The Bioneer', 'MULTIMEDIA HUB'), ('The Bioneer', 'CGRundertow'), ('The Bioneer', 'OneklickLP'), ('The Bioneer', 'Benjamin Hero - Gaming'), ('The Bioneer', 'Matty Fusaro'), ('The Bioneer', 'Tao Physique'), ('The Bioneer', 'anthonynlee'), ('The Bioneer', 'Mitchell Hammond'), ('The Bioneer', 'Pocket Gamer'), ('The Bioneer', 'khanacademymedicine'), ('The Bioneer', 'vsauceLEANBACK'), ('The Bioneer', 'grantstevensma'), ('The Bioneer', 'Smart Drug Smarts'), ('The Bioneer', 'The Movement System'), ('The Bioneer', 'McQueeb'), ('The Bioneer', 'AppSumo'), ('The Bioneer', 'JimTV'), ('The Bioneer', 'Dave Bennett'), ('The Bioneer', 'Krista King'), ('The Bioneer', 'MegaGWolf'), ('The Bioneer', 'SPARTAN BODYBUILDING'), ('The Bioneer', 'The Thought Emporium'), ('The Bioneer', 'Android Developers'), ('The Bioneer', 'Parkour Journeys'), ('The Bioneer', 'Garrett Robinson'), ('The Bioneer', 'SearingWolfe'), ('The Bioneer', 'Skill Up'), ('The Bioneer', 'Shawn Barry  Creative'), ('The Bioneer', 'JGZ'), ('The Bioneer', 'Derren Brown'), ('The Bioneer', 'Colin Boyd'), ('The Bioneer', 'Gokuflex'), ('The Bioneer', 'Andrew s Projects Channel!'), ('The Bioneer', 'Implicitly Pretentious'), ('The Bioneer', 'Souletics - Strategies for Life & Athletic Success'), ('The Bioneer', 'Sonic Central'), ('The Bioneer', 'Physionic'), ('The Bioneer', 'Max Derrat'), ('The Bioneer', 'KeeganCoach'), ('The Bioneer', 'Non Job Revolution'), ('The Bioneer', 'SCHILLER official'), ('The Bioneer', 'Endel'), ('The Bioneer', 'ANLLELA SAGRA'), ('The Bioneer', 'Tech News Today'), ('The Bioneer', 'Pixabyte'), ('The Bioneer', 'menandmuscles'), ('The Bioneer', 'Mover s Odyssey'), ('The Bioneer', 'Beerdy - Bruce Lee Central'), ('The Bioneer', 'Deus Ex'), ('The Bioneer', 'New Scientist'), ('The Bioneer', 'Coach Chong Xie 谢翀'), ('The Bioneer', 'RSA'), ('The Bioneer', 'pixel.'), ('The Bioneer', '李鑫 - Topic'), ('The Bioneer', 'Philip Hartshorn'), ('The Bioneer', 'Prozis')]\n",
      "Local Bridges: []\n"
     ]
    }
   ],
   "source": [
    "# Creating a dictionary to map node IDs to their labels\n",
    "id_to_label = {node: G_directed.nodes[node]['label'] for node in G_directed.nodes}\n",
    "\n",
    "# Function to find bridges in the directed graph\n",
    "def find_directed_bridges(G):\n",
    "    G_undirected = G.to_undirected()\n",
    "    bridges = []\n",
    "    for u, v in G.edges():\n",
    "        G_undirected.remove_edge(u, v)\n",
    "        if nx.number_connected_components(G_undirected) > 1:\n",
    "            bridges.append((id_to_label[u], id_to_label[v]))\n",
    "        G_undirected.add_edge(u, v)\n",
    "    return bridges\n",
    "\n",
    "# Function to find local bridges in the directed graph\n",
    "def find_directed_local_bridges(G):\n",
    "    local_bridges = []\n",
    "    for u, v in G.edges():\n",
    "        if v not in G.successors(u) and all(v not in G.successors(w) for w in G.predecessors(u)):\n",
    "            local_bridges.append((id_to_label[u], id_to_label[v]))\n",
    "    return local_bridges\n",
    "\n",
    "# Find bridges\n",
    "bridges = find_directed_bridges(G_directed)\n",
    "print(\"Bridges:\", bridges)\n",
    "\n",
    "# Find local bridges\n",
    "local_bridges = find_directed_local_bridges(G_directed)\n",
    "print(\"Local Bridges:\", local_bridges)"
   ],
   "metadata": {
    "collapsed": false,
    "ExecuteTime": {
     "end_time": "2024-01-01T17:19:49.881825900Z",
     "start_time": "2024-01-01T17:19:49.771637300Z"
    }
   },
   "id": "c743a9ecb45d6baa",
   "execution_count": 11
  },
  {
   "cell_type": "code",
   "outputs": [
    {
     "data": {
      "text/plain": "[('The Bioneer', 'reverendkjr'),\n ('The Bioneer', 'Aim To Head Official'),\n ('The Bioneer', 'Quinn s Ideas'),\n ('The Bioneer', 'TalkAndroid'),\n ('The Bioneer', 'UPGRADEX'),\n ('The Bioneer', 'Tee Lopes'),\n ('The Bioneer', 'SonicJGB'),\n ('The Bioneer', 'Trunks Briefs'),\n ('The Bioneer', 'MuscleTV'),\n ('The Bioneer', 'SwitchForce'),\n ('The Bioneer', 'Original Strength'),\n ('The Bioneer', 'Sonic the Hedgehog'),\n ('The Bioneer', 'James Cooke'),\n ('The Bioneer', 'MULTIMEDIA HUB'),\n ('The Bioneer', 'CGRundertow'),\n ('The Bioneer', 'OneklickLP'),\n ('The Bioneer', 'Benjamin Hero - Gaming'),\n ('The Bioneer', 'Matty Fusaro'),\n ('The Bioneer', 'Tao Physique'),\n ('The Bioneer', 'anthonynlee'),\n ('The Bioneer', 'Mitchell Hammond'),\n ('The Bioneer', 'Pocket Gamer'),\n ('The Bioneer', 'khanacademymedicine'),\n ('The Bioneer', 'vsauceLEANBACK'),\n ('The Bioneer', 'grantstevensma'),\n ('The Bioneer', 'Smart Drug Smarts'),\n ('The Bioneer', 'The Movement System'),\n ('The Bioneer', 'McQueeb'),\n ('The Bioneer', 'AppSumo'),\n ('The Bioneer', 'JimTV'),\n ('The Bioneer', 'Dave Bennett'),\n ('The Bioneer', 'Krista King'),\n ('The Bioneer', 'MegaGWolf'),\n ('The Bioneer', 'SPARTAN BODYBUILDING'),\n ('The Bioneer', 'The Thought Emporium'),\n ('The Bioneer', 'Android Developers'),\n ('The Bioneer', 'Parkour Journeys'),\n ('The Bioneer', 'Garrett Robinson'),\n ('The Bioneer', 'SearingWolfe'),\n ('The Bioneer', 'Skill Up'),\n ('The Bioneer', 'Shawn Barry  Creative'),\n ('The Bioneer', 'JGZ'),\n ('The Bioneer', 'Derren Brown'),\n ('The Bioneer', 'Colin Boyd'),\n ('The Bioneer', 'Gokuflex'),\n ('The Bioneer', 'Andrew s Projects Channel!'),\n ('The Bioneer', 'Implicitly Pretentious'),\n ('The Bioneer', 'Souletics - Strategies for Life & Athletic Success'),\n ('The Bioneer', 'Sonic Central'),\n ('The Bioneer', 'Physionic'),\n ('The Bioneer', 'Max Derrat'),\n ('The Bioneer', 'KeeganCoach'),\n ('The Bioneer', 'Non Job Revolution'),\n ('The Bioneer', 'SCHILLER official'),\n ('The Bioneer', 'Endel'),\n ('The Bioneer', 'ANLLELA SAGRA'),\n ('The Bioneer', 'Tech News Today'),\n ('The Bioneer', 'Pixabyte'),\n ('The Bioneer', 'menandmuscles'),\n ('The Bioneer', 'Mover s Odyssey'),\n ('The Bioneer', 'Beerdy - Bruce Lee Central'),\n ('The Bioneer', 'Deus Ex'),\n ('The Bioneer', 'New Scientist'),\n ('The Bioneer', 'Coach Chong Xie 谢翀'),\n ('The Bioneer', 'RSA'),\n ('The Bioneer', 'pixel.'),\n ('The Bioneer', '李鑫 - Topic'),\n ('The Bioneer', 'Philip Hartshorn'),\n ('The Bioneer', 'Prozis')]"
     },
     "execution_count": 3,
     "metadata": {},
     "output_type": "execute_result"
    }
   ],
   "source": [
    "import pandas as pd\n",
    "import networkx as nx\n",
    "\n",
    "# Reading the nodes and edges data from the CSV files\n",
    "nodes_df = pd.read_csv('nodes.csv')\n",
    "edges_df = pd.read_csv('edges.csv')\n",
    "\n",
    "# Create a directed graph\n",
    "G = nx.DiGraph()\n",
    "\n",
    "# Add nodes and edges to the graph\n",
    "# Using 'Id' as the node identifier\n",
    "G.add_nodes_from(nodes_df['Id'])\n",
    "\n",
    "# Assuming the edges file has 'Source' and 'Target' columns\n",
    "G.add_edges_from(edges_df[['Source', 'Target']].values)\n",
    "\n",
    "# Creating a dictionary to map Ids to Labels (channel names)\n",
    "id_to_name = pd.Series(nodes_df.Label.values, index=nodes_df.Id).to_dict()\n",
    "\n",
    "# Function to find bridges in the directed graph\n",
    "def find_directed_bridges(G):\n",
    "    G_undirected = G.to_undirected()\n",
    "    bridges = []\n",
    "    for u, v in G.edges():\n",
    "        G_undirected.remove_edge(u, v)\n",
    "        if nx.number_connected_components(G_undirected) > 1:\n",
    "            # Mapping Ids to channel names\n",
    "            bridges.append((id_to_name[u], id_to_name[v]))\n",
    "        G_undirected.add_edge(u, v)\n",
    "    return bridges\n",
    "\n",
    "# Find bridges in the graph\n",
    "directed_bridges = find_directed_bridges(G)\n",
    "\n",
    "directed_bridges\n"
   ],
   "metadata": {
    "collapsed": false,
    "ExecuteTime": {
     "end_time": "2024-01-01T17:16:25.426705200Z",
     "start_time": "2024-01-01T17:16:25.321363500Z"
    }
   },
   "id": "bb2aa6567467792b",
   "execution_count": 3
  },
  {
   "cell_type": "code",
   "outputs": [],
   "source": [],
   "metadata": {
    "collapsed": false
   },
   "id": "a32cae1907091144"
  }
 ],
 "metadata": {
  "kernelspec": {
   "display_name": "Python 3",
   "language": "python",
   "name": "python3"
  },
  "language_info": {
   "codemirror_mode": {
    "name": "ipython",
    "version": 2
   },
   "file_extension": ".py",
   "mimetype": "text/x-python",
   "name": "python",
   "nbconvert_exporter": "python",
   "pygments_lexer": "ipython2",
   "version": "2.7.6"
  }
 },
 "nbformat": 4,
 "nbformat_minor": 5
}
