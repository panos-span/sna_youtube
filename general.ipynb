{
 "cells": [
  {
   "cell_type": "code",
   "execution_count": 44,
   "id": "d64cf4aeaf4b24ae",
   "metadata": {
    "collapsed": false,
    "ExecuteTime": {
     "end_time": "2024-01-15T18:34:08.877692600Z",
     "start_time": "2024-01-15T18:34:08.828282300Z"
    }
   },
   "outputs": [
    {
     "name": "stdout",
     "output_type": "stream",
     "text": [
      "Number of connected components: 1\n",
      "Size of giant component: 221\n",
      "Size distribution of components: [221]\n"
     ]
    }
   ],
   "source": [
    "import networkx as nx\n",
    "\n",
    "# Load the graphml file again\n",
    "file_path = 'bioneer2.graphml'\n",
    "G = nx.read_graphml(file_path)\n",
    "\n",
    "# Filter the graph to only include channels with subscriberCount between 50000 and 8318210\n",
    "G = G.subgraph([node for node in G.nodes() if 50000 <= G.nodes[node]['subscribercount'] <= 8318210])\n",
    "\n",
    "# Calculate component measures\n",
    "# Get the number of connected components\n",
    "num_connected_components = nx.number_connected_components(G.to_undirected())\n",
    "\n",
    "# Identify the giant component\n",
    "giant_component = max(nx.connected_components(G.to_undirected()), key=len)\n",
    "giant_component_size = len(giant_component)\n",
    "\n",
    "# Get the size distribution of the components\n",
    "component_sizes = [len(c) for c in sorted(nx.connected_components(G.to_undirected()), key=len, reverse=True)]\n",
    "\n",
    "print(\"Number of connected components:\", num_connected_components)\n",
    "print(\"Size of giant component:\", giant_component_size)\n",
    "print(\"Size distribution of components:\", component_sizes)\n"
   ]
  },
  {
   "cell_type": "code",
   "execution_count": 45,
   "id": "8a404d204cd887e8",
   "metadata": {
    "collapsed": false,
    "ExecuteTime": {
     "end_time": "2024-01-15T18:34:09.030720100Z",
     "start_time": "2024-01-15T18:34:09.022821100Z"
    }
   },
   "outputs": [
    {
     "data": {
      "text/plain": "({1: 54,\n  2: 34,\n  3: 39,\n  4: 17,\n  5: 14,\n  6: 15,\n  7: 13,\n  8: 6,\n  9: 7,\n  10: 7,\n  11: 3,\n  12: 1,\n  14: 3,\n  16: 1,\n  17: 1,\n  20: 2,\n  21: 1,\n  31: 1,\n  34: 1,\n  223: 1},\n 223,\n 1)"
     },
     "execution_count": 45,
     "metadata": {},
     "output_type": "execute_result"
    }
   ],
   "source": [
    "# Correcting the attribute name based on the node attributes\n",
    "\n",
    "# Calculate degree distribution for the filtered graph\n",
    "filtered_degrees = [degree for node, degree in G.degree()]\n",
    "filtered_degree_distribution = {degree: filtered_degrees.count(degree) for degree in set(filtered_degrees)}\n",
    "\n",
    "# Calculate maximum and minimum degree for the filtered graph\n",
    "filtered_max_degree = max(filtered_degrees)\n",
    "filtered_min_degree = min(filtered_degrees)\n",
    "\n",
    "filtered_degree_distribution, filtered_max_degree, filtered_min_degree\n"
   ]
  },
  {
   "cell_type": "code",
   "execution_count": 46,
   "id": "ff34b4e2888b9767",
   "metadata": {
    "collapsed": false,
    "ExecuteTime": {
     "end_time": "2024-01-15T18:34:36.005641Z",
     "start_time": "2024-01-15T18:34:36.001041200Z"
    }
   },
   "outputs": [],
   "source": [
    "# Extracting channel labels along with their degree value\n",
    "channel_labels_with_degree = [(G.nodes[node]['label'], degree) for node, degree in G.degree()]\n",
    "\n",
    "# Displaying the entries to check the data\n",
    "channel_labels_with_degree.sort(key=lambda x: x[1], reverse=True)"
   ]
  },
  {
   "cell_type": "code",
   "outputs": [
    {
     "data": {
      "text/plain": "[('The Bioneer', 223),\n ('Funk Roberts', 34),\n ('Tom Merrick', 31),\n ('Joe Scott', 21),\n ('Bodybuilding.com', 20),\n ('Jon Rettinger', 20),\n ('Lebe Stark', 17),\n ('School of Calisthenics', 16),\n ('PBS Idea Channel', 14),\n ('CNET Home', 14),\n ('Jacob Geller', 14),\n ('NerdSync', 12),\n ('FitnessFAQs', 11),\n ('Nerdwriter1', 11),\n ('minutephysics', 11),\n ('Strength Project', 10),\n ('Be Smart', 10),\n ('SixPackAbs.com', 10),\n ('Seeker+', 10),\n ('Cracked', 10),\n ('Jason Silva: Shots of Awe', 10),\n ('Vsauce2', 10),\n ('Jeff Nippard', 9),\n ('PBS Space Time', 9),\n ('Lessons from the Screenplay', 9),\n ('JaxBlade', 9),\n ('Geoffrey Verity Schofield', 9),\n ('Vsauce3', 9),\n ('Tim Ferriss', 9),\n ('The Kneesovertoesguy', 8),\n ('BBC Earth Science', 8),\n ('OfficialBarstarzz', 8),\n ('fightTIPS', 8),\n ('Numberphile', 8),\n ('THENX', 8),\n ('Peter McKinnon', 7),\n ('ColdFusion', 7),\n ('Fight Commentary Breakdowns', 7),\n ('Jonathan Morrison', 7),\n ('hard2hurt', 7),\n ('Pocketnow', 7),\n ('Frank Medrano', 7),\n ('BroScienceLife', 7),\n ('Mind Pump TV', 7),\n ('Science Friction', 7),\n ('Alex Leonidas', 7),\n ('SaturnoMovement', 7),\n ('functionalpatterns', 7),\n ('Elliott Hulse’s STRENGTH CAMP', 6),\n ('STRENGTH WARS', 6),\n ('Wisecrack', 6),\n ('CT Fletcher Motivation', 6),\n ('Patrick (H) Willems', 6),\n ('Thomas Frank', 6),\n ('Mark Bell - Super Training Gym', 6),\n ('Dominik Sky', 6),\n ('Thew Adams', 6),\n ('Calisthenicmovement', 6),\n ('The Verge', 6),\n ('Android Authority', 6),\n ('teamfarang', 6),\n ('Kinobody', 6),\n ('Polygon', 6),\n ('SoundGuys', 5),\n ('Hodge Twins', 5),\n ('DEATH BATTLE!', 5),\n ('Dictionary of Obscure Sorrows', 5),\n ('Pat Flynn', 5),\n ('Rich Piana', 5),\n ('Tekzilla', 5),\n ('Ido Portal', 5),\n ('Flow', 5),\n ('Gary Explains', 5),\n ('Stronger By Science', 5),\n ('Audio Library — Music for content creators', 5),\n ('Big Think', 5),\n ('Seeker', 5),\n ('Bulletproof', 4),\n ('alpha m.', 4),\n ('MartialClub', 4),\n ('Buff Dudes', 4),\n ('Mashable', 4),\n ('VAHVA Fitness', 4),\n ('captainmidnight', 4),\n ('Kevin Rose', 4),\n ('Charisma on Command', 4),\n ('Brandon Carter', 4),\n ('MoveU', 4),\n ('Adam Savage’s Tested', 4),\n ('Mr Sunday Movies', 4),\n ('Art of Manliness', 4),\n ('Game Maker s Toolkit', 4),\n ('What I ve Learned', 4),\n ('Just Write', 4),\n ('Engadget', 3),\n ('Andrew Huberman', 3),\n ('samy kamkar', 3),\n ('Bad Lip Reading', 3),\n ('Captain Sinbad', 3),\n ('Strength Side', 3),\n ('AnimeAjay', 3),\n ('VitruvianPhysique', 3),\n ('The Rock', 3),\n ('Dom Esposito', 3),\n ('Microsoft Surface', 3),\n ('The Enigma TNG', 3),\n ('Game Informer', 3),\n ('MJ Fitness', 3),\n ('Comics Explained', 3),\n ('JeromeFitness', 3),\n ('Fandom Entertainment', 3),\n ('melodysheep', 3),\n ('Thoughty2', 3),\n ('Bret Contreras Glute Guy', 3),\n ('Joshua Vergara', 3),\n ('pigmie', 3),\n ('Jim Stoppani  PhD', 3),\n ('Music for creators', 3),\n ('Geekdom101', 3),\n ('PhysiquesOfGreatness', 3),\n ('Saiyan Enigma', 3),\n ('Practical Psychology', 3),\n ('XDA', 3),\n ('Real Men Real Style', 3),\n ('Snoman Gaming', 3),\n ('Life Noggin', 3),\n ('Sean Ong', 3),\n ('Like Stories of Old', 3),\n ('Better Ideas', 3),\n ('Arnold Schwarzenegger', 3),\n ('Men s Health', 3),\n ('Animation Domination High Def', 3),\n ('Katie Moore', 3),\n ('How to ADHD', 2),\n ('Clark Elieson', 2),\n ('Channel Pup', 2),\n ('Variant Comics', 2),\n ('Inside Gaming', 2),\n ('Testosterone Nation', 2),\n ('Siim Land', 2),\n ('TechCrunch', 2),\n ('Chris Stuckmann', 2),\n ('NewRetroWave', 2),\n ('ACG', 2),\n ('The Imaginary Axis', 2),\n ('gameranx', 2),\n ('Comic Book Girl 19', 2),\n ('MrMobile [Michael Fisher]', 2),\n ('Game Apologist', 2),\n ('Mark Wildman', 2),\n ('MobileTechReview', 2),\n ('JimmyTheGiant', 2),\n ('Fortress', 2),\n ('GameSpot', 2),\n ('Invincible Worldwide', 2),\n ('Josh Bryant', 2),\n ('VincaniTV', 2),\n ('MovNat', 2),\n ('randomfrankp', 2),\n ('Comicstorian', 2),\n ('Fit Media Channel', 2),\n ('The Escapist', 2),\n ('FightSmartTrav', 2),\n ('Dan Lok', 2),\n ('TeamFourStar', 2),\n ('Boxing Legends TV', 2),\n ('Curious Archive', 2),\n ('Aim To Head Official', 1),\n ('Quinn s Ideas', 1),\n ('Tee Lopes', 1),\n ('MuscleTV', 1),\n ('The  80s Guy', 1),\n ('SwitchForce', 1),\n ('RGT 85', 1),\n ('Original Strength', 1),\n ('Sonic the Hedgehog', 1),\n ('CGRundertow', 1),\n ('Matty Fusaro', 1),\n ('The Closer Look', 1),\n ('Tao Physique', 1),\n ('Pocket Gamer', 1),\n ('khanacademymedicine', 1),\n ('GameTrailers', 1),\n ('Explore Gadgets', 1),\n ('vsauceLEANBACK', 1),\n ('ParryGripp', 1),\n ('Yuriofwind', 1),\n ('The Movement System', 1),\n ('Mastar', 1),\n ('Eric Jacobus', 1),\n ('AppSumo', 1),\n ('World Science Festival', 1),\n ('JimTV', 1),\n ('Dave Bennett', 1),\n ('Krista King', 1),\n ('MegaGWolf', 1),\n ('SPARTAN BODYBUILDING', 1),\n ('The Thought Emporium', 1),\n ('Android Developers', 1),\n ('SearingWolfe', 1),\n ('Skill Up', 1),\n ('Derren Brown', 1),\n ('Gokuflex', 1),\n ('Hybrid Calisthenics', 1),\n ('Implicitly Pretentious', 1),\n ('Sonic Central', 1),\n ('Physionic', 1),\n ('Max Derrat', 1),\n ('Sorelle Amore', 1),\n ('Nintendo Life', 1),\n ('SCHILLER official', 1),\n ('ANLLELA SAGRA', 1),\n ('Mover s Odyssey', 1),\n ('Beerdy - Bruce Lee Central', 1),\n ('Deus Ex', 1),\n ('New Scientist', 1),\n ('Quirkology', 1),\n ('RSA', 1),\n ('Philip Hartshorn', 1),\n ('Prozis', 1),\n ('Greg and Mitch', 1)]"
     },
     "execution_count": 47,
     "metadata": {},
     "output_type": "execute_result"
    }
   ],
   "source": [
    "channel_labels_with_degree"
   ],
   "metadata": {
    "collapsed": false,
    "ExecuteTime": {
     "end_time": "2024-01-15T18:34:36.167725800Z",
     "start_time": "2024-01-15T18:34:36.157449800Z"
    }
   },
   "id": "bf74f99c9f96ae75",
   "execution_count": 47
  },
  {
   "cell_type": "code",
   "outputs": [],
   "source": [
    "# Extracting channel labels along with their in-degree value\n",
    "channel_labels_with_in_degree = [(G.nodes[node]['label'], in_degree) \n",
    "                                 for node, in_degree in G.in_degree()]\n",
    "channel_labels_with_in_degree.sort(key=lambda x: x[1], reverse=True)"
   ],
   "metadata": {
    "collapsed": false,
    "ExecuteTime": {
     "end_time": "2024-01-15T17:52:55.401022600Z",
     "start_time": "2024-01-15T17:52:55.394161700Z"
    }
   },
   "id": "a5410486bcfca5d6",
   "execution_count": 37
  },
  {
   "cell_type": "code",
   "outputs": [
    {
     "data": {
      "text/plain": "[('minutephysics', 10),\n ('FitnessFAQs', 9),\n ('Strength Project', 9),\n ('Jeff Nippard', 9),\n ('Vsauce2', 9),\n ('The Kneesovertoesguy', 8),\n ('Numberphile', 8),\n ('Vsauce3', 8),\n ('Peter McKinnon', 7),\n ('PBS Idea Channel', 7),\n ('ColdFusion', 7),\n ('Jonathan Morrison', 7),\n ('Be Smart', 7),\n ('Nerdwriter1', 7),\n ('BroScienceLife', 7),\n ('OfficialBarstarzz', 7),\n ('fightTIPS', 7),\n ('Elliott Hulse’s STRENGTH CAMP', 6),\n ('Wisecrack', 6),\n ('Patrick (H) Willems', 6),\n ('Calisthenicmovement', 6),\n ('Tim Ferriss', 6),\n ('Hodge Twins', 5),\n ('Bodybuilding.com', 5),\n ('DEATH BATTLE!', 5),\n ('CT Fletcher Motivation', 5),\n ('Dictionary of Obscure Sorrows', 5),\n ('Frank Medrano', 5),\n ('Ido Portal', 5),\n ('Seeker+', 5),\n ('Jacob Geller', 5),\n ('Audio Library — Music for content creators', 5),\n ('SaturnoMovement', 5),\n ('THENX', 5),\n ('Polygon', 5),\n ('Bulletproof', 4),\n ('alpha m.', 4),\n ('PBS Space Time', 4),\n ('Lessons from the Screenplay', 4),\n ('Pat Flynn', 4),\n ('Buff Dudes', 4),\n ('Mark Bell - Super Training Gym', 4),\n ('Dominik Sky', 4),\n ('VAHVA Fitness', 4),\n ('Flow', 4),\n ('Charisma on Command', 4),\n ('The Verge', 4),\n ('BBC Earth Science', 4),\n ('Brandon Carter', 4),\n ('Android Authority', 4),\n ('Mr Sunday Movies', 4),\n ('Jason Silva: Shots of Awe', 4),\n ('Game Maker s Toolkit', 4),\n ('What I ve Learned', 4),\n ('Just Write', 4),\n ('Seeker', 4),\n ('The Bioneer', 3),\n ('Engadget', 3),\n ('Andrew Huberman', 3),\n ('SoundGuys', 3),\n ('Bad Lip Reading', 3),\n ('Captain Sinbad', 3),\n ('Strength Side', 3),\n ('VitruvianPhysique', 3),\n ('Thomas Frank', 3),\n ('Microsoft Surface', 3),\n ('MJ Fitness', 3),\n ('Mashable', 3),\n ('Pocketnow', 3),\n ('Fandom Entertainment', 3),\n ('melodysheep', 3),\n ('Gary Explains', 3),\n ('Thoughty2', 3),\n ('Bret Contreras Glute Guy', 3),\n ('Kevin Rose', 3),\n ('Joshua Vergara', 3),\n ('Tom Merrick', 3),\n ('Geekdom101', 3),\n ('PhysiquesOfGreatness', 3),\n ('Mind Pump TV', 3),\n ('Adam Savage’s Tested', 3),\n ('Practical Psychology', 3),\n ('Cracked', 3),\n ('Art of Manliness', 3),\n ('Real Men Real Style', 3),\n ('Alex Leonidas', 3),\n ('Life Noggin', 3),\n ('Like Stories of Old', 3),\n ('Better Ideas', 3),\n ('Big Think', 3),\n ('Arnold Schwarzenegger', 3),\n ('How to ADHD', 2),\n ('STRENGTH WARS', 2),\n ('Variant Comics', 2),\n ('samy kamkar', 2),\n ('Testosterone Nation', 2),\n ('AnimeAjay', 2),\n ('Siim Land', 2),\n ('Fight Commentary Breakdowns', 2),\n ('The Rock', 2),\n ('Chris Stuckmann', 2),\n ('NewRetroWave', 2),\n ('Dom Esposito', 2),\n ('SixPackAbs.com', 2),\n ('The Enigma TNG', 2),\n ('MartialClub', 2),\n ('Rich Piana', 2),\n ('Game Informer', 2),\n ('ACG', 2),\n ('The Imaginary Axis', 2),\n ('JeromeFitness', 2),\n ('hard2hurt', 2),\n ('gameranx', 2),\n ('Geoffrey Verity Schofield', 2),\n ('Comic Book Girl 19', 2),\n ('Jon Rettinger', 2),\n ('captainmidnight', 2),\n ('MrMobile [Michael Fisher]', 2),\n ('pigmie', 2),\n ('Jim Stoppani  PhD', 2),\n ('Game Apologist', 2),\n ('Mark Wildman', 2),\n ('MobileTechReview', 2),\n ('JimmyTheGiant', 2),\n ('Lebe Stark', 2),\n ('Stronger By Science', 2),\n ('Fortress', 2),\n ('Josh Bryant', 2),\n ('MoveU', 2),\n ('Music for creators', 2),\n ('VincaniTV', 2),\n ('MovNat', 2),\n ('Saiyan Enigma', 2),\n ('teamfarang', 2),\n ('XDA', 2),\n ('Comicstorian', 2),\n ('Snoman Gaming', 2),\n ('Fit Media Channel', 2),\n ('functionalpatterns', 2),\n ('The Escapist', 2),\n ('Funk Roberts', 2),\n ('FightSmartTrav', 2),\n ('Dan Lok', 2),\n ('Kinobody', 2),\n ('Boxing Legends TV', 2),\n ('Men s Health', 2),\n ('Curious Archive', 2),\n ('Animation Domination High Def', 2),\n ('Joe Scott', 1),\n ('Clark Elieson', 1),\n ('Aim To Head Official', 1),\n ('Quinn s Ideas', 1),\n ('Channel Pup', 1),\n ('Tee Lopes', 1),\n ('Inside Gaming', 1),\n ('MuscleTV', 1),\n ('The  80s Guy', 1),\n ('SwitchForce', 1),\n ('RGT 85', 1),\n ('CNET Home', 1),\n ('Original Strength', 1),\n ('Sonic the Hedgehog', 1),\n ('TechCrunch', 1),\n ('JaxBlade', 1),\n ('CGRundertow', 1),\n ('Matty Fusaro', 1),\n ('The Closer Look', 1),\n ('Tao Physique', 1),\n ('Pocket Gamer', 1),\n ('khanacademymedicine', 1),\n ('GameTrailers', 1),\n ('Explore Gadgets', 1),\n ('School of Calisthenics', 1),\n ('vsauceLEANBACK', 1),\n ('Comics Explained', 1),\n ('ParryGripp', 1),\n ('Tekzilla', 1),\n ('Yuriofwind', 1),\n ('The Movement System', 1),\n ('Mastar', 1),\n ('Thew Adams', 1),\n ('Eric Jacobus', 1),\n ('AppSumo', 1),\n ('World Science Festival', 1),\n ('JimTV', 1),\n ('Dave Bennett', 1),\n ('Krista King', 1),\n ('MegaGWolf', 1),\n ('NerdSync', 1),\n ('SPARTAN BODYBUILDING', 1),\n ('The Thought Emporium', 1),\n ('Android Developers', 1),\n ('SearingWolfe', 1),\n ('Skill Up', 1),\n ('Derren Brown', 1),\n ('Gokuflex', 1),\n ('GameSpot', 1),\n ('Invincible Worldwide', 1),\n ('Hybrid Calisthenics', 1),\n ('Implicitly Pretentious', 1),\n ('Sonic Central', 1),\n ('randomfrankp', 1),\n ('Science Friction', 1),\n ('Physionic', 1),\n ('Max Derrat', 1),\n ('Sorelle Amore', 1),\n ('Nintendo Life', 1),\n ('SCHILLER official', 1),\n ('ANLLELA SAGRA', 1),\n ('Sean Ong', 1),\n ('Mover s Odyssey', 1),\n ('Beerdy - Bruce Lee Central', 1),\n ('Deus Ex', 1),\n ('TeamFourStar', 1),\n ('New Scientist', 1),\n ('Quirkology', 1),\n ('RSA', 1),\n ('Philip Hartshorn', 1),\n ('Prozis', 1),\n ('Katie Moore', 1),\n ('Greg and Mitch', 1)]"
     },
     "execution_count": 38,
     "metadata": {},
     "output_type": "execute_result"
    }
   ],
   "source": [
    "channel_labels_with_in_degree"
   ],
   "metadata": {
    "collapsed": false,
    "ExecuteTime": {
     "end_time": "2024-01-15T17:52:55.532358600Z",
     "start_time": "2024-01-15T17:52:55.526556800Z"
    }
   },
   "id": "8e74f1af0e53e9e9",
   "execution_count": 38
  },
  {
   "cell_type": "code",
   "outputs": [],
   "source": [
    "# Extracting channel labels along with their in-degree value\n",
    "channel_labels_with_out_degree = [(G.nodes[node]['label'], out_degree) \n",
    "                                 for node, out_degree in G.out_degree()]\n",
    "channel_labels_with_out_degree.sort(key=lambda x: x[1], reverse=True)"
   ],
   "metadata": {
    "collapsed": false,
    "ExecuteTime": {
     "end_time": "2024-01-15T18:37:13.160150100Z",
     "start_time": "2024-01-15T18:37:13.153987800Z"
    }
   },
   "id": "fae430a64b098bbf",
   "execution_count": 48
  },
  {
   "cell_type": "code",
   "outputs": [
    {
     "data": {
      "text/plain": "[('The Bioneer', 220),\n ('Funk Roberts', 32),\n ('Tom Merrick', 28),\n ('Joe Scott', 20),\n ('Jon Rettinger', 18),\n ('Bodybuilding.com', 15),\n ('School of Calisthenics', 15),\n ('Lebe Stark', 15),\n ('CNET Home', 13),\n ('NerdSync', 11),\n ('Jacob Geller', 9),\n ('JaxBlade', 8),\n ('SixPackAbs.com', 8),\n ('PBS Idea Channel', 7),\n ('Geoffrey Verity Schofield', 7),\n ('Cracked', 7),\n ('Science Friction', 6),\n ('Jason Silva: Shots of Awe', 6),\n ('PBS Space Time', 5),\n ('Fight Commentary Breakdowns', 5),\n ('Lessons from the Screenplay', 5),\n ('hard2hurt', 5),\n ('Thew Adams', 5),\n ('Seeker+', 5),\n ('functionalpatterns', 5),\n ('STRENGTH WARS', 4),\n ('Nerdwriter1', 4),\n ('Tekzilla', 4),\n ('Pocketnow', 4),\n ('BBC Earth Science', 4),\n ('Mind Pump TV', 4),\n ('teamfarang', 4),\n ('Alex Leonidas', 4),\n ('Kinobody', 4),\n ('Thomas Frank', 3),\n ('Be Smart', 3),\n ('Rich Piana', 3),\n ('Stronger By Science', 3),\n ('THENX', 3),\n ('Tim Ferriss', 3),\n ('FitnessFAQs', 2),\n ('SoundGuys', 2),\n ('MartialClub', 2),\n ('Comics Explained', 2),\n ('Mark Bell - Super Training Gym', 2),\n ('Dominik Sky', 2),\n ('Frank Medrano', 2),\n ('captainmidnight', 2),\n ('Gary Explains', 2),\n ('The Verge', 2),\n ('MoveU', 2),\n ('Android Authority', 2),\n ('SaturnoMovement', 2),\n ('Sean Ong', 2),\n ('Big Think', 2),\n ('Katie Moore', 2),\n ('Clark Elieson', 1),\n ('Strength Project', 1),\n ('Channel Pup', 1),\n ('samy kamkar', 1),\n ('Inside Gaming', 1),\n ('AnimeAjay', 1),\n ('CT Fletcher Motivation', 1),\n ('The Rock', 1),\n ('TechCrunch', 1),\n ('Dom Esposito', 1),\n ('Pat Flynn', 1),\n ('The Enigma TNG', 1),\n ('Game Informer', 1),\n ('Mashable', 1),\n ('JeromeFitness', 1),\n ('Flow', 1),\n ('Kevin Rose', 1),\n ('pigmie', 1),\n ('Jim Stoppani  PhD', 1),\n ('minutephysics', 1),\n ('GameSpot', 1),\n ('Invincible Worldwide', 1),\n ('Music for creators', 1),\n ('randomfrankp', 1),\n ('Saiyan Enigma', 1),\n ('Adam Savage’s Tested', 1),\n ('OfficialBarstarzz', 1),\n ('XDA', 1),\n ('Art of Manliness', 1),\n ('fightTIPS', 1),\n ('Snoman Gaming', 1),\n ('Vsauce2', 1),\n ('TeamFourStar', 1),\n ('Polygon', 1),\n ('Men s Health', 1),\n ('Vsauce3', 1),\n ('Animation Domination High Def', 1),\n ('Seeker', 1),\n ('Engadget', 0),\n ('How to ADHD', 0),\n ('Elliott Hulse’s STRENGTH CAMP', 0),\n ('Bulletproof', 0),\n ('Aim To Head Official', 0),\n ('alpha m.', 0),\n ('Quinn s Ideas', 0),\n ('Andrew Huberman', 0),\n ('Peter McKinnon', 0),\n ('Tee Lopes', 0),\n ('Hodge Twins', 0),\n ('ColdFusion', 0),\n ('Variant Comics', 0),\n ('MuscleTV', 0),\n ('Wisecrack', 0),\n ('Bad Lip Reading', 0),\n ('Jeff Nippard', 0),\n ('Testosterone Nation', 0),\n ('The  80s Guy', 0),\n ('Captain Sinbad', 0),\n ('SwitchForce', 0),\n ('Strength Side', 0),\n ('RGT 85', 0),\n ('VitruvianPhysique', 0),\n ('Siim Land', 0),\n ('DEATH BATTLE!', 0),\n ('Original Strength', 0),\n ('Sonic the Hedgehog', 0),\n ('Chris Stuckmann', 0),\n ('NewRetroWave', 0),\n ('Dictionary of Obscure Sorrows', 0),\n ('Jonathan Morrison', 0),\n ('Patrick (H) Willems', 0),\n ('CGRundertow', 0),\n ('Microsoft Surface', 0),\n ('The Kneesovertoesguy', 0),\n ('Matty Fusaro', 0),\n ('The Closer Look', 0),\n ('Tao Physique', 0),\n ('Pocket Gamer', 0),\n ('khanacademymedicine', 0),\n ('GameTrailers', 0),\n ('Explore Gadgets', 0),\n ('ACG', 0),\n ('MJ Fitness', 0),\n ('vsauceLEANBACK', 0),\n ('Buff Dudes', 0),\n ('The Imaginary Axis', 0),\n ('ParryGripp', 0),\n ('Yuriofwind', 0),\n ('The Movement System', 0),\n ('gameranx', 0),\n ('Mastar', 0),\n ('Ido Portal', 0),\n ('Comic Book Girl 19', 0),\n ('VAHVA Fitness', 0),\n ('Eric Jacobus', 0),\n ('Fandom Entertainment', 0),\n ('melodysheep', 0),\n ('Thoughty2', 0),\n ('AppSumo', 0),\n ('Bret Contreras Glute Guy', 0),\n ('MrMobile [Michael Fisher]', 0),\n ('World Science Festival', 0),\n ('Joshua Vergara', 0),\n ('JimTV', 0),\n ('Dave Bennett', 0),\n ('Krista King', 0),\n ('MegaGWolf', 0),\n ('Charisma on Command', 0),\n ('SPARTAN BODYBUILDING', 0),\n ('Game Apologist', 0),\n ('The Thought Emporium', 0),\n ('Android Developers', 0),\n ('Mark Wildman', 0),\n ('MobileTechReview', 0),\n ('JimmyTheGiant', 0),\n ('SearingWolfe', 0),\n ('Skill Up', 0),\n ('Derren Brown', 0),\n ('Calisthenicmovement', 0),\n ('Fortress', 0),\n ('Gokuflex', 0),\n ('Josh Bryant', 0),\n ('BroScienceLife', 0),\n ('Brandon Carter', 0),\n ('Hybrid Calisthenics', 0),\n ('Implicitly Pretentious', 0),\n ('Geekdom101', 0),\n ('PhysiquesOfGreatness', 0),\n ('Sonic Central', 0),\n ('VincaniTV', 0),\n ('MovNat', 0),\n ('Audio Library — Music for content creators', 0),\n ('Practical Psychology', 0),\n ('Physionic', 0),\n ('Max Derrat', 0),\n ('Mr Sunday Movies', 0),\n ('Sorelle Amore', 0),\n ('Nintendo Life', 0),\n ('Comicstorian', 0),\n ('SCHILLER official', 0),\n ('Real Men Real Style', 0),\n ('ANLLELA SAGRA', 0),\n ('Fit Media Channel', 0),\n ('Numberphile', 0),\n ('Life Noggin', 0),\n ('Game Maker s Toolkit', 0),\n ('Mover s Odyssey', 0),\n ('What I ve Learned', 0),\n ('The Escapist', 0),\n ('Beerdy - Bruce Lee Central', 0),\n ('Deus Ex', 0),\n ('Like Stories of Old', 0),\n ('FightSmartTrav', 0),\n ('Dan Lok', 0),\n ('New Scientist', 0),\n ('Better Ideas', 0),\n ('Boxing Legends TV', 0),\n ('Quirkology', 0),\n ('RSA', 0),\n ('Arnold Schwarzenegger', 0),\n ('Curious Archive', 0),\n ('Just Write', 0),\n ('Philip Hartshorn', 0),\n ('Prozis', 0),\n ('Greg and Mitch', 0)]"
     },
     "execution_count": 49,
     "metadata": {},
     "output_type": "execute_result"
    }
   ],
   "source": [
    "channel_labels_with_out_degree"
   ],
   "metadata": {
    "collapsed": false,
    "ExecuteTime": {
     "end_time": "2024-01-15T18:37:13.863269200Z",
     "start_time": "2024-01-15T18:37:13.848419800Z"
    }
   },
   "id": "5badbb6cf84aa6f4",
   "execution_count": 49
  },
  {
   "cell_type": "code",
   "outputs": [],
   "source": [
    "# Calculating betweenness centrality for the directed graph\n",
    "betweenness_centrality = nx.betweenness_centrality(G, normalized=True)\n",
    "\n",
    "# Extracting channel labels along with their betweenness centrality\n",
    "channel_labels_with_betweenness = [(G.nodes[node]['label'], betweenness_centrality[node]) \n",
    "                                   for node in G.nodes()]\n",
    "\n",
    "channel_labels_with_betweenness.sort(key=lambda x: x[1], reverse=True)"
   ],
   "metadata": {
    "collapsed": false,
    "ExecuteTime": {
     "end_time": "2024-01-15T14:10:03.755671800Z",
     "start_time": "2024-01-15T14:10:03.688629300Z"
    }
   },
   "id": "e68556b078fc7ec1",
   "execution_count": 9
  },
  {
   "cell_type": "code",
   "outputs": [
    {
     "data": {
      "text/plain": "[('The Bioneer', 0.05264632627646327),\n ('Fight Commentary Breakdowns', 0.040587380655873806),\n ('hard2hurt', 0.03697592361975924),\n ('Tom Merrick', 0.0352843503528435),\n ('Kinobody', 0.03295973432959735),\n ('SaturnoMovement', 0.027452608274526086),\n ('FitnessFAQs', 0.018776809187768095),\n ('STRENGTH WARS', 0.005126608551266086),\n ('teamfarang', 0.004701120797011208),\n ('Flow', 0.0045765877957658786),\n ('BBC Earth Science', 0.004514321295143213),\n ('Funk Roberts', 0.004223744292237443),\n ('PBS Idea Channel', 0.004137263041372631),\n ('Bodybuilding.com', 0.003947004289470043),\n ('PBS Space Time', 0.003542272035422721),\n ('Jason Silva: Shots of Awe', 0.003313961533139615),\n ('Nerdwriter1', 0.0028988515289885153),\n ('OfficialBarstarzz', 0.0025667635256676354),\n ('Jacob Geller', 0.0021585720215857203),\n ('Tim Ferriss', 0.001971772519717725),\n ('Seeker+', 0.001532447765324478),\n ('Mind Pump TV', 0.0011726857617268577),\n ('Lessons from the Screenplay', 0.0008717310087173101),\n ('functionalpatterns', 0.0007887090078870901),\n ('Jon Rettinger', 0.0005638577556385775),\n ('THENX', 0.0005085097550850976),\n ('Kevin Rose', 0.00043586550435865506),\n ('Cracked', 0.000380517503805175),\n ('Be Smart', 0.0003563027535630275),\n ('MoveU', 0.0003355472533554725),\n ('Pat Flynn', 0.00033208800332088005),\n ('Frank Medrano', 0.0003251695032516951),\n ('Mark Bell - Super Training Gym', 0.000325169503251695),\n ('Big Think', 0.00030095475300954754),\n ('Polygon', 0.00029057700290577006),\n ('Vsauce2', 0.0002836585028365851),\n ('fightTIPS', 0.0002801992528019925),\n ('CT Fletcher Motivation', 0.00022831050228310504),\n ('Lebe Stark', 0.00022831050228310504),\n ('The Verge', 0.00022831050228310504),\n ('Alex Leonidas', 0.00019717725197177253),\n ('Thomas Frank', 0.00018679950186799502),\n ('Art of Manliness', 0.00018679950186799502),\n ('Strength Project', 0.0001625847516258475),\n ('Pocketnow', 0.00014528850145288503),\n ('SixPackAbs.com', 8.302200083022001e-05),\n ('Android Authority', 8.302200083022001e-05),\n ('minutephysics', 7.610350076103501e-05),\n ('Dominik Sky', 4.1511000415110007e-05),\n ('MartialClub', 3.113325031133251e-05),\n ('Mashable', 3.113325031133251e-05),\n ('Geoffrey Verity Schofield', 3.113325031133251e-05),\n ('Vsauce3', 2.7674000276740002e-05),\n ('AnimeAjay', 2.0755500207555003e-05),\n ('The Rock', 2.0755500207555003e-05),\n ('pigmie', 2.0755500207555003e-05),\n ('Stronger By Science', 2.0755500207555003e-05),\n ('Rich Piana', 1.0377750103777502e-05),\n ('Joe Scott', 0.0),\n ('Engadget', 0.0),\n ('How to ADHD', 0.0),\n ('Clark Elieson', 0.0),\n ('Elliott Hulse’s STRENGTH CAMP', 0.0),\n ('Bulletproof', 0.0),\n ('Aim To Head Official', 0.0),\n ('alpha m.', 0.0),\n ('Quinn s Ideas', 0.0),\n ('Andrew Huberman', 0.0),\n ('Peter McKinnon', 0.0),\n ('Channel Pup', 0.0),\n ('Tee Lopes', 0.0),\n ('SoundGuys', 0.0),\n ('Hodge Twins', 0.0),\n ('ColdFusion', 0.0),\n ('Variant Comics', 0.0),\n ('samy kamkar', 0.0),\n ('Inside Gaming', 0.0),\n ('MuscleTV', 0.0),\n ('Wisecrack', 0.0),\n ('Bad Lip Reading', 0.0),\n ('Jeff Nippard', 0.0),\n ('Testosterone Nation', 0.0),\n ('The  80s Guy', 0.0),\n ('Captain Sinbad', 0.0),\n ('SwitchForce', 0.0),\n ('Strength Side', 0.0),\n ('RGT 85', 0.0),\n ('VitruvianPhysique', 0.0),\n ('CNET Home', 0.0),\n ('Siim Land', 0.0),\n ('DEATH BATTLE!', 0.0),\n ('Original Strength', 0.0),\n ('Sonic the Hedgehog', 0.0),\n ('TechCrunch', 0.0),\n ('Chris Stuckmann', 0.0),\n ('NewRetroWave', 0.0),\n ('Dictionary of Obscure Sorrows', 0.0),\n ('Jonathan Morrison', 0.0),\n ('Dom Esposito', 0.0),\n ('Patrick (H) Willems', 0.0),\n ('JaxBlade', 0.0),\n ('CGRundertow', 0.0),\n ('Microsoft Surface', 0.0),\n ('The Kneesovertoesguy', 0.0),\n ('Matty Fusaro', 0.0),\n ('The Enigma TNG', 0.0),\n ('The Closer Look', 0.0),\n ('Tao Physique', 0.0),\n ('Pocket Gamer', 0.0),\n ('khanacademymedicine', 0.0),\n ('GameTrailers', 0.0),\n ('Game Informer', 0.0),\n ('Explore Gadgets', 0.0),\n ('ACG', 0.0),\n ('School of Calisthenics', 0.0),\n ('MJ Fitness', 0.0),\n ('vsauceLEANBACK', 0.0),\n ('Buff Dudes', 0.0),\n ('The Imaginary Axis', 0.0),\n ('Comics Explained', 0.0),\n ('ParryGripp', 0.0),\n ('JeromeFitness', 0.0),\n ('Tekzilla', 0.0),\n ('Yuriofwind', 0.0),\n ('The Movement System', 0.0),\n ('gameranx', 0.0),\n ('Mastar', 0.0),\n ('Thew Adams', 0.0),\n ('Ido Portal', 0.0),\n ('Comic Book Girl 19', 0.0),\n ('VAHVA Fitness', 0.0),\n ('Eric Jacobus', 0.0),\n ('Fandom Entertainment', 0.0),\n ('melodysheep', 0.0),\n ('captainmidnight', 0.0),\n ('Gary Explains', 0.0),\n ('Thoughty2', 0.0),\n ('AppSumo', 0.0),\n ('Bret Contreras Glute Guy', 0.0),\n ('MrMobile [Michael Fisher]', 0.0),\n ('World Science Festival', 0.0),\n ('Joshua Vergara', 0.0),\n ('JimTV', 0.0),\n ('Jim Stoppani  PhD', 0.0),\n ('Dave Bennett', 0.0),\n ('Krista King', 0.0),\n ('MegaGWolf', 0.0),\n ('NerdSync', 0.0),\n ('Charisma on Command', 0.0),\n ('SPARTAN BODYBUILDING', 0.0),\n ('Game Apologist', 0.0),\n ('The Thought Emporium', 0.0),\n ('Android Developers', 0.0),\n ('Mark Wildman', 0.0),\n ('MobileTechReview', 0.0),\n ('JimmyTheGiant', 0.0),\n ('SearingWolfe', 0.0),\n ('Skill Up', 0.0),\n ('Derren Brown', 0.0),\n ('Calisthenicmovement', 0.0),\n ('Fortress', 0.0),\n ('Gokuflex', 0.0),\n ('GameSpot', 0.0),\n ('Invincible Worldwide', 0.0),\n ('Josh Bryant', 0.0),\n ('BroScienceLife', 0.0),\n ('Brandon Carter', 0.0),\n ('Hybrid Calisthenics', 0.0),\n ('Implicitly Pretentious', 0.0),\n ('Music for creators', 0.0),\n ('Geekdom101', 0.0),\n ('PhysiquesOfGreatness', 0.0),\n ('Sonic Central', 0.0),\n ('VincaniTV', 0.0),\n ('MovNat', 0.0),\n ('randomfrankp', 0.0),\n ('Science Friction', 0.0),\n ('Audio Library — Music for content creators', 0.0),\n ('Saiyan Enigma', 0.0),\n ('Adam Savage’s Tested', 0.0),\n ('Practical Psychology', 0.0),\n ('Physionic', 0.0),\n ('Max Derrat', 0.0),\n ('XDA', 0.0),\n ('Mr Sunday Movies', 0.0),\n ('Sorelle Amore', 0.0),\n ('Nintendo Life', 0.0),\n ('Comicstorian', 0.0),\n ('SCHILLER official', 0.0),\n ('Real Men Real Style', 0.0),\n ('Snoman Gaming', 0.0),\n ('ANLLELA SAGRA', 0.0),\n ('Fit Media Channel', 0.0),\n ('Numberphile', 0.0),\n ('Life Noggin', 0.0),\n ('Sean Ong', 0.0),\n ('Game Maker s Toolkit', 0.0),\n ('Mover s Odyssey', 0.0),\n ('What I ve Learned', 0.0),\n ('The Escapist', 0.0),\n ('Beerdy - Bruce Lee Central', 0.0),\n ('Deus Ex', 0.0),\n ('Like Stories of Old', 0.0),\n ('FightSmartTrav', 0.0),\n ('Dan Lok', 0.0),\n ('TeamFourStar', 0.0),\n ('New Scientist', 0.0),\n ('Better Ideas', 0.0),\n ('Boxing Legends TV', 0.0),\n ('Quirkology', 0.0),\n ('RSA', 0.0),\n ('Arnold Schwarzenegger', 0.0),\n ('Men s Health', 0.0),\n ('Curious Archive', 0.0),\n ('Just Write', 0.0),\n ('Philip Hartshorn', 0.0),\n ('Prozis', 0.0),\n ('Animation Domination High Def', 0.0),\n ('Katie Moore', 0.0),\n ('Seeker', 0.0),\n ('Greg and Mitch', 0.0)]"
     },
     "execution_count": 10,
     "metadata": {},
     "output_type": "execute_result"
    }
   ],
   "source": [
    "channel_labels_with_betweenness"
   ],
   "metadata": {
    "collapsed": false,
    "ExecuteTime": {
     "end_time": "2024-01-15T14:10:03.756671900Z",
     "start_time": "2024-01-15T14:10:03.722626800Z"
    }
   },
   "id": "b8ad09b78a42d7c4",
   "execution_count": 10
  },
  {
   "cell_type": "code",
   "outputs": [
    {
     "data": {
      "text/plain": "[('Vsauce2', 0.07565256525652567),\n ('Jeff Nippard', 0.06888971684053652),\n ('Vsauce3', 0.06644268774703557),\n ('Numberphile', 0.05717377860235003),\n ('Jonathan Morrison', 0.05475935828877005),\n ('Wisecrack', 0.05419084461637653),\n ('Hodge Twins', 0.05171065493646138),\n ('ColdFusion', 0.051212121212121216),\n ('Frank Medrano', 0.05097902097902098),\n ('Strength Project', 0.05020661157024794),\n ('minutephysics', 0.04898236092265943),\n ('CT Fletcher Motivation', 0.04872994652406417),\n ('Tim Ferriss', 0.048484848484848485),\n ('The Kneesovertoesguy', 0.047603305785123964),\n ('Dictionary of Obscure Sorrows', 0.047141873278236913),\n ('PBS Idea Channel', 0.04566596194503171),\n ('BroScienceLife', 0.045454545454545456),\n ('OfficialBarstarzz', 0.045454545454545456),\n ('Be Smart', 0.04396200814111262),\n ('PhysiquesOfGreatness', 0.04357707509881423),\n ('FitnessFAQs', 0.04261363636363636),\n ('PBS Space Time', 0.042077922077922075),\n ('Nerdwriter1', 0.041779497098646035),\n ('THENX', 0.0404040404040404),\n ('Life Noggin', 0.040146627565982404),\n ('BBC Earth Science', 0.04007421150278293),\n ('Peter McKinnon', 0.03980716253443526),\n ('samy kamkar', 0.03974167908594138),\n ('melodysheep', 0.03950649350649351),\n ('Flow', 0.039012642986152916),\n ('Bodybuilding.com', 0.03868471953578337),\n ('alpha m.', 0.03854895104895105),\n ('Like Stories of Old', 0.03841189674523008),\n ('Chris Stuckmann', 0.038176240936977135),\n ('Lessons from the Screenplay', 0.0380058651026393),\n ('Game Maker s Toolkit', 0.03794009458749343),\n ('Calisthenicmovement', 0.0375366568914956),\n ('What I ve Learned', 0.03738038277511962),\n ('Arnold Schwarzenegger', 0.03699300699300699),\n ('Just Write', 0.036390217969165334),\n ('Mark Bell - Super Training Gym', 0.036065573770491806),\n ('Thoughty2', 0.036065573770491806),\n ('Buff Dudes', 0.03579545454545455),\n ('Ido Portal', 0.03526170798898071),\n ('Elliott Hulse’s STRENGTH CAMP', 0.03506493506493506),\n ('MJ Fitness', 0.03492063492063492),\n ('teamfarang', 0.03444976076555024),\n ('Jason Silva: Shots of Awe', 0.03444976076555024),\n ('SaturnoMovement', 0.03409090909090909),\n ('Charisma on Command', 0.033149678604224055),\n ('Kevin Rose', 0.0327511961722488),\n ('Audio Library — Music for content creators', 0.03272727272727273),\n ('Josh Bryant', 0.032331378299120236),\n ('MoveU', 0.032331378299120236),\n ('Fit Media Channel', 0.032331378299120236),\n ('Men s Health', 0.032331378299120236),\n ('Patrick (H) Willems', 0.031558441558441556),\n ('Captain Sinbad', 0.03155594405594406),\n ('Better Ideas', 0.03155594405594406),\n ('Bulletproof', 0.03127705627705628),\n ('Polygon', 0.031260720411663806),\n ('Jim Stoppani  PhD', 0.030303030303030304),\n ('The Verge', 0.03012396694214876),\n ('Dominik Sky', 0.03008021390374331),\n ('Andrew Huberman', 0.02972972972972973),\n ('fightTIPS', 0.029454545454545452),\n ('VAHVA Fitness', 0.02909090909090909),\n ('Mind Pump TV', 0.028409090909090908),\n ('Strength Side', 0.028381374722838137),\n ('Art of Manliness', 0.027949709864603482),\n ('Tom Merrick', 0.02764127764127764),\n ('Brandon Carter', 0.027061310782241013),\n ('Real Men Real Style', 0.026776859504132233),\n ('STRENGTH WARS', 0.024944567627494453),\n ('Siim Land', 0.024758220502901353),\n ('JimmyTheGiant', 0.024758220502901353),\n ('MovNat', 0.024758220502901353),\n ('Kinobody', 0.023784355179704016),\n ('Big Think', 0.023376623376623374),\n ('JeromeFitness', 0.023011363636363635),\n ('functionalpatterns', 0.02281639928698752),\n ('Mr Sunday Movies', 0.02132495164410058),\n ('Pat Flynn', 0.02131050767414404),\n ('Fandom Entertainment', 0.02088068181818182),\n ('Adam Savage’s Tested', 0.02088068181818182),\n ('Snoman Gaming', 0.02088068181818182),\n ('DEATH BATTLE!', 0.020742637644046096),\n ('hard2hurt', 0.020053475935828877),\n ('Seeker+', 0.01998001998001998),\n ('Jacob Geller', 0.01998001998001998),\n ('Android Authority', 0.019762845849802372),\n ('Seeker', 0.019762845849802372),\n ('Joshua Vergara', 0.019550342130987292),\n ('SoundGuys', 0.019342359767891684),\n ('Game Informer', 0.019342359767891684),\n ('Gary Explains', 0.019342359767891684),\n ('MrMobile [Michael Fisher]', 0.019138755980861243),\n ('FightSmartTrav', 0.018470418470418467),\n ('Engadget', 0.01803196803196803),\n ('Microsoft Surface', 0.01803196803196803),\n ('Pocketnow', 0.01803196803196803),\n ('Geekdom101', 0.01803196803196803),\n ('Practical Psychology', 0.01803196803196803),\n ('Cracked', 0.01803196803196803),\n ('Bad Lip Reading', 0.01775184275184275),\n ('Mashable', 0.01775184275184275),\n ('Bret Contreras Glute Guy', 0.01775184275184275),\n ('XDA', 0.017644183773216034),\n ('Rich Piana', 0.017284688995215312),\n ('Fight Commentary Breakdowns', 0.016766020864381517),\n ('Thomas Frank', 0.01654749744637385),\n ('Dom Esposito', 0.016363636363636365),\n ('MobileTechReview', 0.016363636363636365),\n ('The Escapist', 0.016363636363636365),\n ('Animation Domination High Def', 0.016363636363636365),\n ('VitruvianPhysique', 0.01616161616161616),\n ('Testosterone Nation', 0.01594022415940224),\n ('NewRetroWave', 0.01594022415940224),\n ('SixPackAbs.com', 0.01594022415940224),\n ('ACG', 0.01594022415940224),\n ('gameranx', 0.01594022415940224),\n ('Mark Wildman', 0.01594022415940224),\n ('Fortress', 0.01594022415940224),\n ('Dan Lok', 0.01594022415940224),\n ('Boxing Legends TV', 0.01594022415940224),\n ('Curious Archive', 0.01594022415940224),\n ('MartialClub', 0.015724815724815724),\n ('VincaniTV', 0.01563852813852814),\n ('How to ADHD', 0.014927685950413222),\n ('AnimeAjay', 0.014927685950413222),\n ('The Rock', 0.014927685950413222),\n ('The Enigma TNG', 0.014927685950413222),\n ('Comic Book Girl 19', 0.014927685950413222),\n ('Jon Rettinger', 0.014927685950413222),\n ('captainmidnight', 0.014927685950413222),\n ('Game Apologist', 0.014927685950413222),\n ('Music for creators', 0.014927685950413222),\n ('Saiyan Enigma', 0.014927685950413222),\n ('Comicstorian', 0.014927685950413222),\n ('The Bioneer', 0.014404609475032009),\n ('Lebe Stark', 0.014404609475032009),\n ('Alex Leonidas', 0.014404609475032009),\n ('Funk Roberts', 0.014404609475032009),\n ('Variant Comics', 0.014365881032547698),\n ('The Imaginary Axis', 0.014365881032547698),\n ('pigmie', 0.014190687361419069),\n ('Stronger By Science', 0.013530655391120507),\n ('Joe Scott', 0.013375130616509925),\n ('Clark Elieson', 0.013375130616509925),\n ('Aim To Head Official', 0.013375130616509925),\n ('Quinn s Ideas', 0.013375130616509925),\n ('Channel Pup', 0.013375130616509925),\n ('Tee Lopes', 0.013375130616509925),\n ('Inside Gaming', 0.013375130616509925),\n ('MuscleTV', 0.013375130616509925),\n ('The  80s Guy', 0.013375130616509925),\n ('SwitchForce', 0.013375130616509925),\n ('RGT 85', 0.013375130616509925),\n ('CNET Home', 0.013375130616509925),\n ('Original Strength', 0.013375130616509925),\n ('Sonic the Hedgehog', 0.013375130616509925),\n ('TechCrunch', 0.013375130616509925),\n ('CGRundertow', 0.013375130616509925),\n ('Matty Fusaro', 0.013375130616509925),\n ('The Closer Look', 0.013375130616509925),\n ('Tao Physique', 0.013375130616509925),\n ('Pocket Gamer', 0.013375130616509925),\n ('khanacademymedicine', 0.013375130616509925),\n ('GameTrailers', 0.013375130616509925),\n ('Explore Gadgets', 0.013375130616509925),\n ('vsauceLEANBACK', 0.013375130616509925),\n ('Comics Explained', 0.013375130616509925),\n ('ParryGripp', 0.013375130616509925),\n ('Tekzilla', 0.013375130616509925),\n ('Yuriofwind', 0.013375130616509925),\n ('The Movement System', 0.013375130616509925),\n ('Mastar', 0.013375130616509925),\n ('Thew Adams', 0.013375130616509925),\n ('Eric Jacobus', 0.013375130616509925),\n ('AppSumo', 0.013375130616509925),\n ('World Science Festival', 0.013375130616509925),\n ('JimTV', 0.013375130616509925),\n ('Dave Bennett', 0.013375130616509925),\n ('Krista King', 0.013375130616509925),\n ('MegaGWolf', 0.013375130616509925),\n ('NerdSync', 0.013375130616509925),\n ('SPARTAN BODYBUILDING', 0.013375130616509925),\n ('The Thought Emporium', 0.013375130616509925),\n ('Android Developers', 0.013375130616509925),\n ('SearingWolfe', 0.013375130616509925),\n ('Skill Up', 0.013375130616509925),\n ('Derren Brown', 0.013375130616509925),\n ('Gokuflex', 0.013375130616509925),\n ('GameSpot', 0.013375130616509925),\n ('Invincible Worldwide', 0.013375130616509925),\n ('Hybrid Calisthenics', 0.013375130616509925),\n ('Implicitly Pretentious', 0.013375130616509925),\n ('Sonic Central', 0.013375130616509925),\n ('randomfrankp', 0.013375130616509925),\n ('Science Friction', 0.013375130616509925),\n ('Physionic', 0.013375130616509925),\n ('Max Derrat', 0.013375130616509925),\n ('Sorelle Amore', 0.013375130616509925),\n ('Nintendo Life', 0.013375130616509925),\n ('SCHILLER official', 0.013375130616509925),\n ('ANLLELA SAGRA', 0.013375130616509925),\n ('Sean Ong', 0.013375130616509925),\n ('Mover s Odyssey', 0.013375130616509925),\n ('Beerdy - Bruce Lee Central', 0.013375130616509925),\n ('Deus Ex', 0.013375130616509925),\n ('TeamFourStar', 0.013375130616509925),\n ('New Scientist', 0.013375130616509925),\n ('Quirkology', 0.013375130616509925),\n ('RSA', 0.013375130616509925),\n ('Philip Hartshorn', 0.013375130616509925),\n ('Prozis', 0.013375130616509925),\n ('Katie Moore', 0.013375130616509925),\n ('Greg and Mitch', 0.013375130616509925),\n ('JaxBlade', 0.012784090909090908),\n ('School of Calisthenics', 0.012626262626262624),\n ('Geoffrey Verity Schofield', 0.012175324675324674)]"
     },
     "execution_count": 11,
     "metadata": {},
     "output_type": "execute_result"
    }
   ],
   "source": [
    "# Calculating closeness centrality for the directed graph\n",
    "closeness_centrality = nx.closeness_centrality(G, wf_improved=True)\n",
    "\n",
    "# Extracting channel labels along with their closeness centrality\n",
    "channel_labels_with_closeness = [(G.nodes[node]['label'], closeness_centrality[node]) \n",
    "                                 for node in G.nodes()]\n",
    "\n",
    "channel_labels_with_closeness.sort(key=lambda x: x[1], reverse=True)\n",
    "channel_labels_with_closeness"
   ],
   "metadata": {
    "collapsed": false,
    "ExecuteTime": {
     "end_time": "2024-01-15T14:10:03.758671200Z",
     "start_time": "2024-01-15T14:10:03.727840200Z"
    }
   },
   "id": "9d25241cc98dfff1",
   "execution_count": 11
  },
  {
   "cell_type": "code",
   "outputs": [
    {
     "data": {
      "text/plain": "[('Vsauce2', 0.3142064765778091),\n ('Vsauce3', 0.28083863317329216),\n ('minutephysics', 0.2754207655568413),\n ('Numberphile', 0.26017056375687775),\n ('Jeff Nippard', 0.1881222956583481),\n ('Be Smart', 0.18771400408837208),\n ('Frank Medrano', 0.17676571737038302),\n ('CT Fletcher Motivation', 0.1640065994682905),\n ('FitnessFAQs', 0.16187136578015626),\n ('Strength Project', 0.15823481600919515),\n ('OfficialBarstarzz', 0.15469386289867096),\n ('PBS Space Time', 0.15171361842182393),\n ('PBS Idea Channel', 0.14570685627850752),\n ('The Kneesovertoesguy', 0.14086437926680465),\n ('Calisthenicmovement', 0.12796627195401178),\n ('Dictionary of Obscure Sorrows', 0.11870264650586548),\n ('Hodge Twins', 0.11852114347134651),\n ('Bodybuilding.com', 0.11778213103808126),\n ('SaturnoMovement', 0.11511780367392331),\n ('THENX', 0.1012897917519109),\n ('Tim Ferriss', 0.09947031279497123),\n ('BBC Earth Science', 0.09880481733462193),\n ('ColdFusion', 0.09668279191172059),\n ('Jonathan Morrison', 0.09655730516162453),\n ('Nerdwriter1', 0.0955330059372589),\n ('Peter McKinnon', 0.09142142499979411),\n ('Wisecrack', 0.08804398804235168),\n ('alpha m.', 0.08569177548449144),\n ('Android Authority', 0.08360537912739573),\n ('BroScienceLife', 0.08237758277356678),\n ('Mark Bell - Super Training Gym', 0.07985413014111235),\n ('fightTIPS', 0.07828720847871987),\n ('SoundGuys', 0.07805074857601935),\n ('Gary Explains', 0.07805074857601935),\n ('Ido Portal', 0.07786204911302719),\n ('Flow', 0.07626199939474282),\n ('Buff Dudes', 0.07545112917792221),\n ('Elliott Hulse’s STRENGTH CAMP', 0.07301291650572439),\n ('Life Noggin', 0.07098520555504431),\n ('Polygon', 0.07057076721520184),\n ('MJ Fitness', 0.06989649862654584),\n ('Arnold Schwarzenegger', 0.06845108024378488),\n ('Game Maker s Toolkit', 0.06669673440180249),\n ('Tom Merrick', 0.06519448668113517),\n ('Audio Library — Music for content creators', 0.06497918034335515),\n ('PhysiquesOfGreatness', 0.06263961997796273),\n ('What I ve Learned', 0.06202798904301033),\n ('Patrick (H) Willems', 0.06196575889363135),\n ('Jim Stoppani  PhD', 0.06069494921081343),\n ('Josh Bryant', 0.06069494921081343),\n ('MoveU', 0.06069494921081343),\n ('Fit Media Channel', 0.06069494921081343),\n ('Men s Health', 0.06069494921081343),\n ('Just Write', 0.059944375821599775),\n ('Thoughty2', 0.05971347739668094),\n ('Like Stories of Old', 0.05963074750858077),\n ('Lessons from the Screenplay', 0.05888434050880361),\n ('Dominik Sky', 0.05866846769314466),\n ('Jason Silva: Shots of Awe', 0.05621008659690953),\n ('The Verge', 0.05529562055669814),\n ('Bulletproof', 0.05460981767425955),\n ('VAHVA Fitness', 0.05460981767425955),\n ('samy kamkar', 0.0534380705622303),\n ('Chris Stuckmann', 0.05187804611819265),\n ('Captain Sinbad', 0.04981126922171728),\n ('Better Ideas', 0.04981126922171728),\n ('Strength Side', 0.04905518712288317),\n ('Mind Pump TV', 0.04905518712288317),\n ('melodysheep', 0.048333379532724326),\n ('Seeker+', 0.04820940050368458),\n ('Andrew Huberman', 0.04727133060851664),\n ('JeromeFitness', 0.04504292178037446),\n ('Brandon Carter', 0.04456643195821644),\n ('teamfarang', 0.04423961855911277),\n ('Seeker', 0.044231395672766474),\n ('Charisma on Command', 0.043476121429755266),\n ('Jacob Geller', 0.04298585591887025),\n ('DEATH BATTLE!', 0.04091606970628127),\n ('Siim Land', 0.039853637707150745),\n ('JimmyTheGiant', 0.039853637707150745),\n ('MovNat', 0.039853637707150745),\n ('Kinobody', 0.039853637707150745),\n ('Mr Sunday Movies', 0.03937426204930107),\n ('Art of Manliness', 0.03901180140684006),\n ('Pat Flynn', 0.038728786614837384),\n ('Real Men Real Style', 0.03867822446510708),\n ('Kevin Rose', 0.03710292716005786),\n ('The Bioneer', 0.035361439154904896),\n ('Alex Leonidas', 0.035361439154904896),\n ('Joshua Vergara', 0.03461957444622196),\n ('VitruvianPhysique', 0.03432578565164721),\n ('STRENGTH WARS', 0.03345717085546368),\n ('Bret Contreras Glute Guy', 0.03241807396462689),\n ('Pocketnow', 0.032418073964626884),\n ('Fandom Entertainment', 0.03161813101632961),\n ('Adam Savage’s Tested', 0.03161813101632961),\n ('Game Informer', 0.031051841426115948),\n ('Snoman Gaming', 0.031051841426115948),\n ('Cracked', 0.03039977385025266),\n ('Big Think', 0.030379690335141776),\n ('hard2hurt', 0.029810251991107636),\n ('Bad Lip Reading', 0.02877115510027084),\n ('Mashable', 0.02877115510027084),\n ('Geoffrey Verity Schofield', 0.02802995026632408),\n ('Engadget', 0.027325736717509874),\n ('Microsoft Surface', 0.027325736717509874),\n ('Geekdom101', 0.027325736717509874),\n ('Practical Psychology', 0.027325736717509874),\n ('functionalpatterns', 0.02727517456777957),\n ('MrMobile [Michael Fisher]', 0.026863443413250514),\n ('XDA', 0.026863443413250514),\n ('Fight Commentary Breakdowns', 0.02582975618501861),\n ('FightSmartTrav', 0.02582975618501861),\n ('Thomas Frank', 0.025124236235914796),\n ('Stronger By Science', 0.025124236235914792),\n ('MartialClub', 0.024252178052152143),\n ('Testosterone Nation', 0.023216524548894463),\n ('NewRetroWave', 0.023216524548894463),\n ('SixPackAbs.com', 0.023216524548894463),\n ('The Enigma TNG', 0.023216524548894463),\n ('Rich Piana', 0.023216524548894463),\n ('ACG', 0.023216524548894463),\n ('gameranx', 0.023216524548894463),\n ('Mark Wildman', 0.023216524548894463),\n ('Lebe Stark', 0.023216524548894463),\n ('Fortress', 0.023216524548894463),\n ('Saiyan Enigma', 0.023216524548894463),\n ('Funk Roberts', 0.023216524548894463),\n ('Dan Lok', 0.023216524548894463),\n ('Boxing Legends TV', 0.023216524548894463),\n ('Curious Archive', 0.023216524548894463),\n ('Dom Esposito', 0.021771106166133498),\n ('MobileTechReview', 0.021771106166133498),\n ('VincaniTV', 0.021771106166133498),\n ('The Escapist', 0.021771106166133498),\n ('Animation Domination High Def', 0.021771106166133498),\n ('How to ADHD', 0.01956960568453842),\n ('Variant Comics', 0.01956960568453842),\n ('AnimeAjay', 0.01956960568453842),\n ('The Rock', 0.01956960568453842),\n ('The Imaginary Axis', 0.01956960568453842),\n ('Comic Book Girl 19', 0.01956960568453842),\n ('Jon Rettinger', 0.01956960568453842),\n ('captainmidnight', 0.01956960568453842),\n ('pigmie', 0.01956960568453842),\n ('Game Apologist', 0.01956960568453842),\n ('Music for creators', 0.01956960568453842),\n ('Comicstorian', 0.01956960568453842),\n ('Joe Scott', 0.014014975133162041),\n ('Clark Elieson', 0.014014975133162041),\n ('Aim To Head Official', 0.014014975133162041),\n ('Quinn s Ideas', 0.014014975133162041),\n ('Channel Pup', 0.014014975133162041),\n ('Tee Lopes', 0.014014975133162041),\n ('Inside Gaming', 0.014014975133162041),\n ('MuscleTV', 0.014014975133162041),\n ('The  80s Guy', 0.014014975133162041),\n ('SwitchForce', 0.014014975133162041),\n ('RGT 85', 0.014014975133162041),\n ('CNET Home', 0.014014975133162041),\n ('Original Strength', 0.014014975133162041),\n ('Sonic the Hedgehog', 0.014014975133162041),\n ('TechCrunch', 0.014014975133162041),\n ('JaxBlade', 0.014014975133162041),\n ('CGRundertow', 0.014014975133162041),\n ('Matty Fusaro', 0.014014975133162041),\n ('The Closer Look', 0.014014975133162041),\n ('Tao Physique', 0.014014975133162041),\n ('Pocket Gamer', 0.014014975133162041),\n ('khanacademymedicine', 0.014014975133162041),\n ('GameTrailers', 0.014014975133162041),\n ('Explore Gadgets', 0.014014975133162041),\n ('School of Calisthenics', 0.014014975133162041),\n ('vsauceLEANBACK', 0.014014975133162041),\n ('Comics Explained', 0.014014975133162041),\n ('ParryGripp', 0.014014975133162041),\n ('Tekzilla', 0.014014975133162041),\n ('Yuriofwind', 0.014014975133162041),\n ('The Movement System', 0.014014975133162041),\n ('Mastar', 0.014014975133162041),\n ('Thew Adams', 0.014014975133162041),\n ('Eric Jacobus', 0.014014975133162041),\n ('AppSumo', 0.014014975133162041),\n ('World Science Festival', 0.014014975133162041),\n ('JimTV', 0.014014975133162041),\n ('Dave Bennett', 0.014014975133162041),\n ('Krista King', 0.014014975133162041),\n ('MegaGWolf', 0.014014975133162041),\n ('NerdSync', 0.014014975133162041),\n ('SPARTAN BODYBUILDING', 0.014014975133162041),\n ('The Thought Emporium', 0.014014975133162041),\n ('Android Developers', 0.014014975133162041),\n ('SearingWolfe', 0.014014975133162041),\n ('Skill Up', 0.014014975133162041),\n ('Derren Brown', 0.014014975133162041),\n ('Gokuflex', 0.014014975133162041),\n ('GameSpot', 0.014014975133162041),\n ('Invincible Worldwide', 0.014014975133162041),\n ('Hybrid Calisthenics', 0.014014975133162041),\n ('Implicitly Pretentious', 0.014014975133162041),\n ('Sonic Central', 0.014014975133162041),\n ('randomfrankp', 0.014014975133162041),\n ('Science Friction', 0.014014975133162041),\n ('Physionic', 0.014014975133162041),\n ('Max Derrat', 0.014014975133162041),\n ('Sorelle Amore', 0.014014975133162041),\n ('Nintendo Life', 0.014014975133162041),\n ('SCHILLER official', 0.014014975133162041),\n ('ANLLELA SAGRA', 0.014014975133162041),\n ('Sean Ong', 0.014014975133162041),\n ('Mover s Odyssey', 0.014014975133162041),\n ('Beerdy - Bruce Lee Central', 0.014014975133162041),\n ('Deus Ex', 0.014014975133162041),\n ('TeamFourStar', 0.014014975133162041),\n ('New Scientist', 0.014014975133162041),\n ('Quirkology', 0.014014975133162041),\n ('RSA', 0.014014975133162041),\n ('Philip Hartshorn', 0.014014975133162041),\n ('Prozis', 0.014014975133162041),\n ('Katie Moore', 0.014014975133162041),\n ('Greg and Mitch', 0.014014975133162041)]"
     },
     "execution_count": 12,
     "metadata": {},
     "output_type": "execute_result"
    }
   ],
   "source": [
    "# Calculating eigenvector centrality for the filtered graph\n",
    "eigenvector_centrality = nx.eigenvector_centrality(G, max_iter=10000)\n",
    "\n",
    "# Extracting channel labels along with their eigenvector centrality\n",
    "channel_labels_with_eigenvector = [(G.nodes[node]['label'], eigenvector_centrality[node]) \n",
    "                                   for node in G.nodes()]\n",
    "\n",
    "# Sorting to find the top eigenvector centrality values\n",
    "sorted_channel_labels_with_eigenvector = sorted(channel_labels_with_eigenvector, \n",
    "                                                key=lambda x: x[1], reverse=True)\n",
    "\n",
    "# Displaying the top few entries to check the data\n",
    "sorted_channel_labels_with_eigenvector"
   ],
   "metadata": {
    "collapsed": false,
    "ExecuteTime": {
     "end_time": "2024-01-15T14:10:03.797596200Z",
     "start_time": "2024-01-15T14:10:03.742669400Z"
    }
   },
   "id": "8ef00f664ee80761",
   "execution_count": 12
  },
  {
   "cell_type": "code",
   "outputs": [
    {
     "data": {
      "text/plain": "{0: 54,\n 0.008101010101010102: 1,\n 0.05178571428571429: 1,\n 0.0603448275862069: 1,\n 0.07105263157894737: 1,\n 0.07777777777777778: 1,\n 0.0851063829787234: 1,\n 0.09047619047619047: 1,\n 0.1111111111111111: 1,\n 0.12777777777777777: 1,\n 0.12857142857142856: 1,\n 0.13333333333333333: 1,\n 0.13736263736263737: 1,\n 0.14166666666666666: 1,\n 0.14285714285714285: 1,\n 0.1590909090909091: 1,\n 0.16363636363636364: 1,\n 0.16666666666666666: 2,\n 0.17857142857142858: 1,\n 0.18181818181818182: 1,\n 0.18518518518518517: 1,\n 0.18888888888888888: 1,\n 0.19047619047619047: 2,\n 0.19318181818181818: 1,\n 0.2: 7,\n 0.21428571428571427: 5,\n 0.21666666666666667: 1,\n 0.2222222222222222: 3,\n 0.23214285714285715: 2,\n 0.23333333333333334: 2,\n 0.25: 12,\n 0.2545454545454545: 1,\n 0.25925925925925924: 1,\n 0.26666666666666666: 1,\n 0.2857142857142857: 3,\n 0.3: 3,\n 0.3157894736842105: 1,\n 0.32142857142857145: 1,\n 0.32954545454545453: 1,\n 0.3333333333333333: 29,\n 0.3382352941176471: 1,\n 0.35: 4,\n 0.36666666666666664: 2,\n 0.36764705882352944: 1,\n 0.3684210526315789: 1,\n 0.4166666666666667: 5,\n 0.4444444444444444: 1,\n 0.5: 51,\n 0.5263157894736842: 1,\n 0.75: 2}"
     },
     "execution_count": 13,
     "metadata": {},
     "output_type": "execute_result"
    }
   ],
   "source": [
    "# Calculating the clustering coefficient for each node in the filtered graph\n",
    "clustering_coefficients = nx.clustering(G)\n",
    "\n",
    "# Calculating the distribution of clustering coefficients\n",
    "clustering_coefficient_distribution = {}\n",
    "for node, coefficient in clustering_coefficients.items():\n",
    "    if coefficient not in clustering_coefficient_distribution:\n",
    "        clustering_coefficient_distribution[coefficient] = 0\n",
    "    clustering_coefficient_distribution[coefficient] += 1\n",
    "\n",
    "# Sorting the distribution for better understanding\n",
    "sorted_clustering_coefficient_distribution = dict(sorted(clustering_coefficient_distribution.items()))\n",
    "\n",
    "sorted_clustering_coefficient_distribution"
   ],
   "metadata": {
    "collapsed": false,
    "ExecuteTime": {
     "end_time": "2024-01-15T14:10:03.819595400Z",
     "start_time": "2024-01-15T14:10:03.768808400Z"
    }
   },
   "id": "336247c35a5f8b22",
   "execution_count": 13
  },
  {
   "cell_type": "code",
   "outputs": [
    {
     "data": {
      "text/plain": "<Figure size 1000x600 with 1 Axes>",
      "image/png": "[encoded data removed]"
     },
     "metadata": {},
     "output_type": "display_data"
    }
   ],
   "source": [
    "import matplotlib.pyplot as plt\n",
    "clustering_coefficients = nx.clustering(G)\n",
    "# Preparing data for visualization\n",
    "clustering_values = list(clustering_coefficients.values())\n",
    "plt.figure(figsize=(10, 6))\n",
    "plt.hist(clustering_values, bins=40, color='blue', alpha=0.7)\n",
    "plt.title('Clustering Coefficient Distribution')\n",
    "plt.xlabel('Clustering Coefficient')\n",
    "plt.ylabel('Frequency')\n",
    "plt.grid(True)\n",
    "# Display the plot\n",
    "plt.show()"
   ],
   "metadata": {
    "collapsed": false,
    "ExecuteTime": {
     "end_time": "2024-01-15T14:10:04.194595700Z",
     "start_time": "2024-01-15T14:10:03.794595600Z"
    }
   },
   "id": "2191ac1e0097eac1",
   "execution_count": 14
  },
  {
   "cell_type": "code",
   "outputs": [
    {
     "data": {
      "text/plain": "{'UCIh_TPYPqjJuS_-nOfAIlfg': 0.008101010101010102,\n 'UC-2YHgc363EdcusLIBbgxzg': 0.09047619047619047,\n 'UC-6OW5aJYBFM33zXQlBKPNA': 0.3333333333333333,\n 'UC-nPM1_kSZf91ZGkcgy_95Q': 0.5,\n 'UC06b5TQFFMFZvMakw1QLpQg': 0.5,\n 'UC0ASolYU_Yh3yShLFQC0stg': 0.26666666666666666,\n 'UC0ahC64OhIAS11TJX9Ig86A': 0.2,\n 'UC1Aq3T1GmKcObLqo1YIU_Ww': 0.25,\n 'UC1CVzH-XVr3E-kTT6D8hhfg': 0.25,\n 'UC1KJEk-EZMmDF9DJKMK5OCQ': 0,\n 'UC1KbedtKa3d5dleFR6OjQMg': 0.3333333333333333,\n 'UC1rFmaGLYr0Ve_Y_soxZNWQ': 0,\n 'UC26wVFmrwOSyMWwHmBbndhg': 0.18181818181818182,\n 'UC2D2CMWXMOVWx7giW1n3LIg': 0.3333333333333333,\n 'UC3DkFux8Iv-aYnTRWzwaiBA': 0.19047619047619047,\n 'UC3Fc8oa1IpkG970GOIHNQvg': 0.5,\n 'UC3LqW4ijMoENQ2Wv17ZrFJA': 0.21666666666666667,\n 'UC3Va-8NnzTuV-Yv-JlyuQsQ': 0,\n 'UC3lJL1pUvQ2Ih2qZ-4ozrLw': 0.75,\n 'UC4FhvdvgZU5CVbXi2uWgiZg': 0.35,\n 'UC4QZ_LsYcvcq7qOsOhpAX4A': 0.16666666666666666,\n 'UC4kjDjhexSVuC8JWk4ZanFw': 0.5,\n 'UC4m2G6T18_JcjwxwtwKJijw': 0.5,\n 'UC4w_tMnHl6sw5VD93tVymGw': 0.5,\n 'UC51T6qSRDmVsENyV57Mjkgg': 0,\n 'UC6-ymYjG0SU0jUWnWh9ZzEQ': 0.2,\n 'UC67f2Qf7FYhtoUIF4Sf29cA': 0.3333333333333333,\n 'UC68TLK0mAEzUyHx5x5k-S1Q': 0.2222222222222222,\n 'UC6TRaqsCQQBI0QF6aSBz4nw': 0.5,\n 'UC6ghlxmJNMd8BE_u1HR-bTg': 0,\n 'UC7_gcs09iThXybpVgjHZ_7g': 0.36764705882352944,\n 'UC8XKyvQ5Ne_bvYbgv8LaIeg': 0.3333333333333333,\n 'UC8wucBti_VxVFhUAzOLyMHw': 0,\n 'UC97k3hlbE-1rVN8y56zyEEA': 0.0851063829787234,\n 'UC9BNGVGr_lvbn3d23ckuVOA': 0.3333333333333333,\n 'UC9fnCGxIi_1P3vUZVZ4SUig': 0.3333333333333333,\n 'UCA5RGaQc-a8tIX_AqTTmWdw': 0,\n 'UCAcQW_4qZ12wNt3T0M9b-Vw': 0.5,\n 'UCAf9vHS_4I9lSu-7gYhkzaw': 0.13736263736263737,\n 'UCAohrrjG-3gEp5QF1WlM9_w': 0.5,\n 'UCAzXqFoW1Y7KDqwZ1x5m9EA': 0.35,\n 'UCB9_VH_CNbbH4GfKu8qh63w': 0.25,\n 'UCBDWo0g9N8pL8c9QhE8Lxxw': 0.32142857142857145,\n 'UCBdw4dLCLLHmTgAOnW4V0hQ': 0.3333333333333333,\n 'UCC6g6yv0bSnA6nO3glRKL_Q': 0,\n 'UCCOSYITWQHRSUxvlQ4_PSCg': 0,\n 'UCCjyq_K1Xwfg8Lndy7lKMpA': 0.5,\n 'UCCqEeDAUf4Mg0GgEN658tkA': 0.5,\n 'UCD-4g5w1h8xQpLaNS_ghU4g': 0.5,\n 'UCDetdM5XDZD1xrQHDPgEg5w': 0.35,\n 'UCDlQwv99CovKafGvxyaiNDA': 0.21428571428571427,\n 'UCDt0iwnK2sPXaOyZhVmXIQw': 0.5,\n 'UCErSSa3CaP_GJxmFpdjG9Jw': 0.2222222222222222,\n 'UCF1fG3gT44nGTPU2sVLoFWg': 0.23333333333333334,\n 'UCFBBFuhQc275ISHIQnkzSZg': 0.1111111111111111,\n 'UCG-KntY7aVnIGXYEBQvmBAQ': 0.2,\n 'UCG11aiovma65vUiQdeZOh6A': 0,\n 'UCGS474QoP8SCnSo6hOCaayA': 0.3333333333333333,\n 'UCGk1LitxAZVnqQn0_nt5qxw': 0.25,\n 'UCGybO-bWZ3W6URh42sdMQiw': 0.21428571428571427,\n 'UCH4BNI0-FOK2dMXoFtViWHw': 0.32954545454545453,\n 'UCH9ciCUcWavMsFcAJtLUSyw': 0.2,\n 'UCHZ8lkKBNf3lKxpSIVUcmsg': 0,\n 'UCHnqvUJVmNu3pjIpBulbIAg': 0.5,\n 'UCI9DUIgtRGHNH_HmSTcfUbA': 0,\n 'UCIJ_l9TjwwVNO-S6QW0OXvg': 0.4166666666666667,\n 'UCITn9pm8w4HqxHfqZJmce4Q': 0,\n 'UCJHroOyfde4rZLTL2Zmk1UQ': 0.3,\n 'UCJKOvdk-nVzDAFR_9MF64sw': 0,\n 'UCJayvjGvKEblkA3KYK1BQQw': 0,\n 'UCJkMlOu7faDgqh4PfzbpLdg': 0.16363636363636364,\n 'UCJx5KP-pCUmL9eZUv-mIcNw': 0,\n 'UCK-65DO2oOxxMwphl2tYtcw': 0.5,\n 'UCK-H1e0S8jg-8qoqQ5N8jvw': 0,\n 'UCK9_x1DImhU-eolIay5rb2Q': 0.5,\n 'UCKIPOflZbfGRM8-IehI775w': 0.14166666666666666,\n 'UCKX7OdeQ16O2KVor5rtEujA': 0.3333333333333333,\n 'UCKXbq6IGFelzryn7fH6A-aw': 0,\n 'UCKf0UqBiCQI4Ol0To9V0pKQ': 0.3333333333333333,\n 'UCKhvrZFbsNN_1tFN-X3iENg': 0.5,\n 'UCKxQmKgrkUv4S7P5w0pLayw': 0.3333333333333333,\n 'UCL8Nxsa1LB9DrMTHtt3IKiw': 0.25,\n 'UCLNfsUeQm6zU2eBlQbEy4tw': 0,\n 'UCLPy6BEgH1fD3DOgwX-x_Hg': 0.23333333333333334,\n 'UCMHRsRcbsKW1Xw9CPANpz2A': 0.5,\n 'UCMkhrrPkmx7xxlolSP9qEsA': 0.3,\n 'UCNKtHIrVMaDE7hovBvodpDw': 0.19047619047619047,\n 'UCNQjYSosLXPZjRyhhnAIriA': 0.36666666666666664,\n 'UCN_wvdNEDPK_wHuhu8Ey_5A': 0,\n 'UCNtTZc6bcWyzkn-eXGqYjlg': 0,\n 'UCNvzD7Z-g64bPXxGzaQaa4g': 0.5,\n 'UCO_vmeInQm5Z6dEZ6R5Kk0A': 0.2,\n 'UCObA5o3mcc1felIMAv6cukw': 0.3382352941176471,\n 'UCObfIFcPxDOsyNXTG3ISyBg': 0,\n 'UCP3AVTw_73U_8jMzLw5TbEg': 0.2,\n 'UCP8wqLAt5qYMmOwMB7-mvTQ': 0.3157894736842105,\n 'UCPCiBMarvDiTx-lknzt934g': 0.35,\n 'UCPOrN8u0yH-gIEb7SkMwkTw': 0.5,\n 'UCPx2nKfFk4p6IkQsMW9O0xQ': 0.3333333333333333,\n 'UCQINCBT70eomwMIPR1BnjLg': 0,\n 'UCQMbqH7xJu5aTAPQ9y_U7WQ': 0.3333333333333333,\n 'UCQRWMCWv0QvFVanS7tkJazQ': 0.2222222222222222,\n 'UCR0AnNR7sViH3TWMJl5jyxw': 0.07105263157894737,\n 'UCR9sFzaG9Ia_kXJhfxtFMBA': 0.3333333333333333,\n 'UCROQqK3_z79JuTetNP3pIXQ': 0.4166666666666667,\n 'UCRjSO-juFtngAeJGJRMdIZw': 0.75,\n 'UCRlICXvO4XR4HMeEB9JjDlA': 0.3333333333333333,\n 'UCRrAZbOmqB3pX7dWHC_-wEQ': 0,\n 'UCRx0HAyAfmcqtrQYK3IITBA': 0.5,\n 'UCSOpcUkE-is7u7c4AkLgqTw': 0.5,\n 'UCSYG0DaTjEpo9LlE-f_1L1g': 0.3333333333333333,\n 'UCShHFwKyhcDo3g7hr4f1R8A': 0,\n 'UCSy9Nf-NSaQbP4PyA5jnd2A': 0.5,\n 'UCT5RMcRGa32Th0AZ0Dxxviw': 0,\n 'UCTBjtACFlDmd-g6Gtva9biQ': 0.3333333333333333,\n 'UCTMLcC81ypVNk293RFS7Zaw': 0.5,\n 'UCThrs0qvb_MrW9UGSes4uIA': 0,\n 'UCU0DZhN-8KFLYO6beSaYljg': 0.0603448275862069,\n 'UCUDlvPp1MlnegYXOXzj7DEQ': 0,\n 'UCUHW94eEFW7hkUMVaZz4eDg': 0.2545454545454545,\n 'UCULXdCe-q6klSFLCGKMdM3w': 0,\n 'UCURz5rKDgt7YibUSageNhEw': 0.1590909090909091,\n 'UCU_W0oE_ock8bWKjALiGs8Q': 0.3333333333333333,\n 'UCUfjQIPW43E5KpAHrfWlDWg': 0,\n 'UCUweLR_ygcqbcxTJGLGhW2A': 0.5,\n 'UCV5vCi3jPJdURZwAOO_FNfQ': 0,\n 'UCVHFbqXqoYvEWM1Ddxl0QDg': 0,\n 'UCVYbUVLrZ6pEBfYV_UyvItA': 0.5,\n 'UCW6J17hZ_Vgr6cQgd_kHt5A': 0.5,\n 'UCWYRT-NhEqkZ_afrqEgxYOQ': 0.5,\n 'UCYNGKZuT3dj0J0bBt4qfqXQ': 0.07777777777777778,\n 'UCZ0YER4Ixnbywy3xeGVAZSg': 0,\n 'UCZ7AeeVbyslLM_8-nVy2B8Q': 0,\n 'UCZFjYOyCdMxbt59vZNuqBpw': 0,\n 'UCZIIRX8rkNjVpP-oLMHpeDw': 0.36666666666666664,\n 'UC_9SjsqyO87d4aZkEqNuHBA': 0.3,\n 'UCajFsJ74oE4zt3sPkOP_81g': 0.5,\n 'UCaxRBnOai9tYxScTf2JjaoA': 0,\n 'UCbu2SsF-Or3Rsn3NxqODImw': 0.5,\n 'UCd_A2F0XknHjbVceIoiPfrA': 0.5,\n 'UCddiUEpeqJcYeBxX1IVBKvQ': 0.21428571428571427,\n 'UCdn4zi8Tta1FSt0w87vCZwA': 0.5,\n 'UCdsOTr6SmDrxuWE7sJFrkhQ': 0.2857142857142857,\n 'UCduKuJToxWPizJ7I2E6n1kA': 0.16666666666666666,\n 'UCe072WU1CTmEZhkPS4bM6cQ': 0.25,\n 'UCe3tPdpxTF7wdBG8uV4hbew': 0.19318181818181818,\n 'UCeJFgNahi--FKs0oJyeRDEw': 0,\n 'UCeTfBygNb1TahcNpZyELO8g': 0.12777777777777777,\n 'UCfNcetb0dXVk53jZ9I0uKnA': 0,\n 'UCfqzZR7tG1GufD-D7EofBaQ': 0.25,\n 'UCfwXVYfPFiMlzadS4ow80GA': 0.5,\n 'UCgIqhB8oD5SZ0yUSp71VCOQ': 0.3333333333333333,\n 'UCgyqtNWZmIxTx3b6OxTSALw': 0.5,\n 'UCh0wrs-8ywjgZO7flfSmlqg': 0.3333333333333333,\n 'UChVak8_IyuqcErdf_jQUOHA': 0.21428571428571427,\n 'UChWTjJDu743PSfbUebQPBeg': 0,\n 'UCh_S_EgAc6bAdu8C9aaqz1w': 0.5,\n 'UChgSKQAuBPZIBAfokctA33g': 0.5,\n 'UChnN9MPURwKV2PbEoT2vhTQ': 0.5,\n 'UChqgQknjcmAsjosqac1uLqA': 0.2857142857142857,\n 'UCht8qITGkBvXKsR1Byln-wA': 0.25,\n 'UCi88E1kes0Y7bq4fv33TIPQ': 0.5,\n 'UCiDJtJKMICpb9B1qf7qjEOA': 0.4166666666666667,\n 'UCir93b_ftqInEaDpsWYbo_g': 0.3333333333333333,\n 'UCj3p_1jOCJXB_L_we-DjLbA': 0,\n 'UCj5xtoMdxx-Z_7L6RN7N1ZQ': 0.17857142857142858,\n 'UCj8orMezFWVcoN-4S545Wtw': 0,\n 'UCjD2KyAEm84yVH8cTilID7Q': 0.13333333333333333,\n 'UCjzSBCC2yv7dZmD5dQxV2ug': 0.25925925925925924,\n 'UCk1SpWNzOs4MYmr0uICEntg': 0.5,\n 'UCkDSAQ_5-yx5hmuvUcsJL7A': 0.3333333333333333,\n 'UCkRMqL3hLrIYhxNCac4vR3w': 0.25,\n 'UCkbTTGoBpjX8ogXHCt-aegw': 0,\n 'UCl7ZXbZUCWI2Hz--OrO4bsA': 0,\n 'UClKgO_YP3pcIVeav2g_k6hw': 0.18518518518518517,\n 'UClYb9NpXnRemxYoWbcYANsA': 0.18888888888888888,\n 'UCmA-0j6DRVQWo4skl8Otkiw': 0.5,\n 'UCmM5xlAZDZ-h3bi6AXzDNKQ': 0,\n 'UCmRfQHc3U4fV1-i8Ry1HmtA': 0.3333333333333333,\n 'UCmY2tPu6TZMqHHNPj2QPwUQ': 0.5,\n 'UCmdlnVFzmf7Zhqm_QE-UlJw': 0.5263157894736842,\n 'UCniHNF3GZEKWr_FRdGmKmdw': 0,\n 'UCoguzybAI8Fgdj4Aze5tE8w': 0.5,\n 'UCoxcjq-8xIDTYp3uz647V5A': 0.23214285714285715,\n 'UCpIoF2UfscJv4cNSyLjuA6w': 0.3684210526315789,\n 'UCpJmBQ8iNHXeQ7jQWDyGe3A': 0.3333333333333333,\n 'UCq9CkTK0Oq_ZZ5U9cbFZVag': 0.14285714285714285,\n 'UCqD1vWlpai9SUvfNfzVvUqA': 0.3333333333333333,\n 'UCqJ-Xo29CKyLTjn6z2XwYAw': 0.4166666666666667,\n 'UCqNzk3-sva7UmoJ_AhijYrw': 0,\n 'UCqYPhGiB9tkShZorfgcL2lA': 0.25,\n 'UCqg5FCR7NrpvlBWMXdt-5Vg': 0.5,\n 'UCqjwF8rxRsotnojGl4gM0Zw': 0.23214285714285715,\n 'UCqmugCqELzhIMNYnsjScXXw': 0.25,\n 'UCrgxUOBnk5vH8hB9c-s-riQ': 0,\n 'UCrzICdOsXhtn4zMlk4bnTIg': 0.05178571428571429,\n 'UCs0ifCMCm1icqRbqhUINa0w': 0,\n 'UCs7nPQIEba0T3tGOWWsZpJQ': 0.5,\n 'UCsUbFOUqtrU4oRSDfjb78ig': 0.5,\n 'UCs_6DXZROU29pLvgQdCx4Ww': 0.5,\n 'UCsvazPPlhZlch0-Z3wPByeg': 0.5,\n 'UCt5OA3LingpZBeEyPYmputQ': 0,\n 'UCtBw4N4-EiaAqK9TvZGlGDw': 0.2,\n 'UCtUId5WFnN82GdDy7DgaQ7w': 0.3333333333333333,\n 'UCuHeVY3bLH1OdhhQ_KyJnUA': 0.5,\n 'UCuVxaQDraOja6xKidcmoufA': 0.21428571428571427,\n 'UCvGMGQC8gNkd4gwxSbABIlw': 0,\n 'UCvQECJukTDE2i6aCoMnS-Vg': 0.25,\n 'UCvhsiQGy_zcNCiSbeXEjhLg': 0,\n 'UCvyyU4AdijSZFEO7qqXP6kQ': 0.3333333333333333,\n 'UCwJfDTNqtM5n-dQBfuuHzYw': 0.5,\n 'UCweDKPSF65wRw5VHFUJYiow': 0.5,\n 'UCwmFOfFuvRPI112vR5DNnrA': 0.2857142857142857,\n 'UCx0L2ZdYfiq-tsAXb8IXpQg': 0.4166666666666667,\n 'UCxvwSBdFZ6xq8hHz_R3Inug': 0,\n 'UCyfuHhhSnKqOBII6YdTEJWQ': 0,\n 'UCyjTUNqX_vasRG4AAaM34jA': 0.5,\n 'UCyqHPsR1eKEPSunlp6E-LSQ': 0.3333333333333333,\n 'UCzWQYUVCpZqtN93H8RR44Qw': 0.4444444444444444,\n 'UCznHh6gk3ewFhaTZtdQFWWw': 0,\n 'UCznv7Vf9nBdJYvBagFdAHWw': 0.12857142857142856}"
     },
     "execution_count": 55,
     "metadata": {},
     "output_type": "execute_result"
    }
   ],
   "source": [
    "clustering_coefficients = nx.clustering(G)\n",
    "clustering_coefficients"
   ],
   "metadata": {
    "collapsed": false,
    "ExecuteTime": {
     "end_time": "2024-01-15T18:55:06.982208100Z",
     "start_time": "2024-01-15T18:55:06.952811300Z"
    }
   },
   "id": "55b3a7b6d4c17592",
   "execution_count": 55
  },
  {
   "cell_type": "code",
   "outputs": [
    {
     "data": {
      "text/plain": "[('SoundGuys', 0.75),\n ('Gary Explains', 0.75),\n ('Alex Leonidas', 0.5263157894736842),\n ('How to ADHD', 0.5),\n ('Clark Elieson', 0.5),\n ('Channel Pup', 0.5),\n ('Variant Comics', 0.5),\n ('samy kamkar', 0.5),\n ('Inside Gaming', 0.5),\n ('Testosterone Nation', 0.5),\n ('VitruvianPhysique', 0.5),\n ('Siim Land', 0.5),\n ('TechCrunch', 0.5),\n ('Chris Stuckmann', 0.5),\n ('NewRetroWave', 0.5),\n ('Dom Esposito', 0.5),\n ('The Enigma TNG', 0.5),\n ('Game Informer', 0.5),\n ('ACG', 0.5),\n ('The Imaginary Axis', 0.5),\n ('JeromeFitness', 0.5),\n ('gameranx', 0.5),\n ('Comic Book Girl 19', 0.5),\n ('Bret Contreras Glute Guy', 0.5),\n ('MrMobile [Michael Fisher]', 0.5),\n ('Joshua Vergara', 0.5),\n ('Jim Stoppani  PhD', 0.5),\n ('Game Apologist', 0.5),\n ('Mark Wildman', 0.5),\n ('MobileTechReview', 0.5),\n ('JimmyTheGiant', 0.5),\n ('Fortress', 0.5),\n ('GameSpot', 0.5),\n ('Invincible Worldwide', 0.5),\n ('Josh Bryant', 0.5),\n ('Music for creators', 0.5),\n ('Android Authority', 0.5),\n ('VincaniTV', 0.5),\n ('MovNat', 0.5),\n ('randomfrankp', 0.5),\n ('Saiyan Enigma', 0.5),\n ('XDA', 0.5),\n ('Comicstorian', 0.5),\n ('Snoman Gaming', 0.5),\n ('Fit Media Channel', 0.5),\n ('The Escapist', 0.5),\n ('Like Stories of Old', 0.5),\n ('FightSmartTrav', 0.5),\n ('Dan Lok', 0.5),\n ('TeamFourStar', 0.5),\n ('Boxing Legends TV', 0.5),\n ('Men s Health', 0.5),\n ('Curious Archive', 0.5),\n ('Animation Domination High Def', 0.5),\n ('Seeker', 0.4444444444444444),\n ('MartialClub', 0.4166666666666667),\n ('captainmidnight', 0.4166666666666667),\n ('Adam Savage’s Tested', 0.4166666666666667),\n ('Game Maker s Toolkit', 0.4166666666666667),\n ('Just Write', 0.4166666666666667),\n ('SaturnoMovement', 0.3684210526315789),\n ('PBS Space Time', 0.36764705882352944),\n ('Dominik Sky', 0.36666666666666664),\n ('Calisthenicmovement', 0.36666666666666664),\n ('Hodge Twins', 0.35),\n ('Fight Commentary Breakdowns', 0.35),\n ('Dictionary of Obscure Sorrows', 0.35),\n ('Ido Portal', 0.35),\n ('Geoffrey Verity Schofield', 0.3382352941176471),\n ('Engadget', 0.3333333333333333),\n ('alpha m.', 0.3333333333333333),\n ('Andrew Huberman', 0.3333333333333333),\n ('Bad Lip Reading', 0.3333333333333333),\n ('Captain Sinbad', 0.3333333333333333),\n ('Strength Side', 0.3333333333333333),\n ('AnimeAjay', 0.3333333333333333),\n ('The Rock', 0.3333333333333333),\n ('Microsoft Surface', 0.3333333333333333),\n ('MJ Fitness', 0.3333333333333333),\n ('Buff Dudes', 0.3333333333333333),\n ('Comics Explained', 0.3333333333333333),\n ('VAHVA Fitness', 0.3333333333333333),\n ('Fandom Entertainment', 0.3333333333333333),\n ('melodysheep', 0.3333333333333333),\n ('Thoughty2', 0.3333333333333333),\n ('Kevin Rose', 0.3333333333333333),\n ('pigmie', 0.3333333333333333),\n ('Charisma on Command', 0.3333333333333333),\n ('Geekdom101', 0.3333333333333333),\n ('PhysiquesOfGreatness', 0.3333333333333333),\n ('Practical Psychology', 0.3333333333333333),\n ('Mr Sunday Movies', 0.3333333333333333),\n ('Real Men Real Style', 0.3333333333333333),\n ('Life Noggin', 0.3333333333333333),\n ('Sean Ong', 0.3333333333333333),\n ('Better Ideas', 0.3333333333333333),\n ('Arnold Schwarzenegger', 0.3333333333333333),\n ('Katie Moore', 0.3333333333333333),\n ('Be Smart', 0.32954545454545453),\n ('CT Fletcher Motivation', 0.32142857142857145),\n ('Frank Medrano', 0.3157894736842105),\n ('Rich Piana', 0.3),\n ('Tekzilla', 0.3),\n ('Stronger By Science', 0.3),\n ('BBC Earth Science', 0.2857142857142857),\n ('Science Friction', 0.2857142857142857),\n ('Vsauce3', 0.2857142857142857),\n ('Elliott Hulse’s STRENGTH CAMP', 0.26666666666666666),\n ('OfficialBarstarzz', 0.25925925925925924),\n ('minutephysics', 0.2545454545454545),\n ('Bulletproof', 0.25),\n ('FitnessFAQs', 0.25),\n ('DEATH BATTLE!', 0.25),\n ('Pat Flynn', 0.25),\n ('Mashable', 0.25),\n ('Brandon Carter', 0.25),\n ('MoveU', 0.25),\n ('Audio Library — Music for content creators', 0.25),\n ('Art of Manliness', 0.25),\n ('What I ve Learned', 0.25),\n ('Vsauce2', 0.25),\n ('Big Think', 0.25),\n ('Patrick (H) Willems', 0.23333333333333334),\n ('Mark Bell - Super Training Gym', 0.23333333333333334),\n ('Numberphile', 0.23214285714285715),\n ('THENX', 0.23214285714285715),\n ('Jeff Nippard', 0.2222222222222222),\n ('Lessons from the Screenplay', 0.2222222222222222),\n ('Flow', 0.2222222222222222),\n ('PBS Idea Channel', 0.21666666666666667),\n ('Jonathan Morrison', 0.21428571428571427),\n ('The Kneesovertoesguy', 0.21428571428571427),\n ('The Verge', 0.21428571428571427),\n ('Mind Pump TV', 0.21428571428571427),\n ('Polygon', 0.21428571428571427),\n ('STRENGTH WARS', 0.2),\n ('Wisecrack', 0.2),\n ('Thomas Frank', 0.2),\n ('SixPackAbs.com', 0.2),\n ('Pocketnow', 0.2),\n ('Thew Adams', 0.2),\n ('Kinobody', 0.2),\n ('Seeker+', 0.19318181818181818),\n ('Peter McKinnon', 0.19047619047619047),\n ('hard2hurt', 0.19047619047619047),\n ('Jason Silva: Shots of Awe', 0.18888888888888888),\n ('fightTIPS', 0.18518518518518517),\n ('Strength Project', 0.18181818181818182),\n ('teamfarang', 0.17857142857142858),\n ('ColdFusion', 0.16666666666666666),\n ('BroScienceLife', 0.16666666666666666),\n ('Nerdwriter1', 0.16363636363636364),\n ('NerdSync', 0.1590909090909091),\n ('functionalpatterns', 0.14285714285714285),\n ('School of Calisthenics', 0.14166666666666666),\n ('CNET Home', 0.13736263736263737),\n ('Cracked', 0.13333333333333333),\n ('Tim Ferriss', 0.12857142857142856),\n ('Jacob Geller', 0.12777777777777777),\n ('JaxBlade', 0.1111111111111111),\n ('Joe Scott', 0.09047619047619047),\n ('Bodybuilding.com', 0.0851063829787234),\n ('Lebe Stark', 0.07777777777777778),\n ('Jon Rettinger', 0.07105263157894737),\n ('Tom Merrick', 0.0603448275862069),\n ('Funk Roberts', 0.05178571428571429),\n ('The Bioneer', 0.008101010101010102),\n ('Aim To Head Official', 0),\n ('Quinn s Ideas', 0),\n ('Tee Lopes', 0),\n ('MuscleTV', 0),\n ('The  80s Guy', 0),\n ('SwitchForce', 0),\n ('RGT 85', 0),\n ('Original Strength', 0),\n ('Sonic the Hedgehog', 0),\n ('CGRundertow', 0),\n ('Matty Fusaro', 0),\n ('The Closer Look', 0),\n ('Tao Physique', 0),\n ('Pocket Gamer', 0),\n ('khanacademymedicine', 0),\n ('GameTrailers', 0),\n ('Explore Gadgets', 0),\n ('vsauceLEANBACK', 0),\n ('ParryGripp', 0),\n ('Yuriofwind', 0),\n ('The Movement System', 0),\n ('Mastar', 0),\n ('Eric Jacobus', 0),\n ('AppSumo', 0),\n ('World Science Festival', 0),\n ('JimTV', 0),\n ('Dave Bennett', 0),\n ('Krista King', 0),\n ('MegaGWolf', 0),\n ('SPARTAN BODYBUILDING', 0),\n ('The Thought Emporium', 0),\n ('Android Developers', 0),\n ('SearingWolfe', 0),\n ('Skill Up', 0),\n ('Derren Brown', 0),\n ('Gokuflex', 0),\n ('Hybrid Calisthenics', 0),\n ('Implicitly Pretentious', 0),\n ('Sonic Central', 0),\n ('Physionic', 0),\n ('Max Derrat', 0),\n ('Sorelle Amore', 0),\n ('Nintendo Life', 0),\n ('SCHILLER official', 0),\n ('ANLLELA SAGRA', 0),\n ('Mover s Odyssey', 0),\n ('Beerdy - Bruce Lee Central', 0),\n ('Deus Ex', 0),\n ('New Scientist', 0),\n ('Quirkology', 0),\n ('RSA', 0),\n ('Philip Hartshorn', 0),\n ('Prozis', 0),\n ('Greg and Mitch', 0)]"
     },
     "execution_count": 56,
     "metadata": {},
     "output_type": "execute_result"
    }
   ],
   "source": [
    "\n",
    "# Extracting channel labels along with their clustering coefficient\n",
    "channel_labels_with_clustering = [(G.nodes[node]['label'], clustering_coefficients[node]) \n",
    "                                  for node in G.nodes()]\n",
    "# Displaying the data\n",
    "channel_labels_with_clustering.sort(key=lambda x: x[1], reverse=True)\n",
    "channel_labels_with_clustering"
   ],
   "metadata": {
    "collapsed": false,
    "ExecuteTime": {
     "end_time": "2024-01-15T18:55:09.952992900Z",
     "start_time": "2024-01-15T18:55:09.941808100Z"
    }
   },
   "id": "cccf68a4a979c5a4",
   "execution_count": 56
  },
  {
   "cell_type": "code",
   "outputs": [
    {
     "data": {
      "text/plain": "491"
     },
     "execution_count": 41,
     "metadata": {},
     "output_type": "execute_result"
    }
   ],
   "source": [
    "triangles = nx.triangles(G.to_undirected())\n",
    "total_triangles = sum(triangles.values()) // 3  # Each triangle is counted three times\n",
    "total_triangles"
   ],
   "metadata": {
    "collapsed": false,
    "ExecuteTime": {
     "end_time": "2024-01-15T18:21:12.557083700Z",
     "start_time": "2024-01-15T18:21:12.547609Z"
    }
   },
   "id": "3d78e4db338679b1",
   "execution_count": 41
  },
  {
   "cell_type": "code",
   "outputs": [
    {
     "data": {
      "text/plain": "                        Node 1                       Node 2          Node 3\n0             Bodybuilding.com            OfficialBarstarzz           THENX\n1            BBC Earth Science                     Be Smart  PBS Space Time\n2            Android Authority                Gary Explains       SoundGuys\n3                Alex Leonidas  Fight Commentary Breakdowns     The Bioneer\n4                     Be Smart             PBS Idea Channel  PBS Space Time\n5  Fight Commentary Breakdowns                  The Bioneer       hard2hurt\n6                  FitnessFAQs              SaturnoMovement     Tom Merrick\n7                Alex Leonidas    Geoffrey Verity Schofield     The Bioneer",
      "text/html": "<div>\n<style scoped>\n    .dataframe tbody tr th:only-of-type {\n        vertical-align: middle;\n    }\n\n    .dataframe tbody tr th {\n        vertical-align: top;\n    }\n\n    .dataframe thead th {\n        text-align: right;\n    }\n</style>\n<table border=\"1\" class=\"dataframe\">\n  <thead>\n    <tr style=\"text-align: right;\">\n      <th></th>\n      <th>Node 1</th>\n      <th>Node 2</th>\n      <th>Node 3</th>\n    </tr>\n  </thead>\n  <tbody>\n    <tr>\n      <th>0</th>\n      <td>Bodybuilding.com</td>\n      <td>OfficialBarstarzz</td>\n      <td>THENX</td>\n    </tr>\n    <tr>\n      <th>1</th>\n      <td>BBC Earth Science</td>\n      <td>Be Smart</td>\n      <td>PBS Space Time</td>\n    </tr>\n    <tr>\n      <th>2</th>\n      <td>Android Authority</td>\n      <td>Gary Explains</td>\n      <td>SoundGuys</td>\n    </tr>\n    <tr>\n      <th>3</th>\n      <td>Alex Leonidas</td>\n      <td>Fight Commentary Breakdowns</td>\n      <td>The Bioneer</td>\n    </tr>\n    <tr>\n      <th>4</th>\n      <td>Be Smart</td>\n      <td>PBS Idea Channel</td>\n      <td>PBS Space Time</td>\n    </tr>\n    <tr>\n      <th>5</th>\n      <td>Fight Commentary Breakdowns</td>\n      <td>The Bioneer</td>\n      <td>hard2hurt</td>\n    </tr>\n    <tr>\n      <th>6</th>\n      <td>FitnessFAQs</td>\n      <td>SaturnoMovement</td>\n      <td>Tom Merrick</td>\n    </tr>\n    <tr>\n      <th>7</th>\n      <td>Alex Leonidas</td>\n      <td>Geoffrey Verity Schofield</td>\n      <td>The Bioneer</td>\n    </tr>\n  </tbody>\n</table>\n</div>"
     },
     "execution_count": 32,
     "metadata": {},
     "output_type": "execute_result"
    }
   ],
   "source": [
    "import pandas as pd\n",
    "# Finding triangles and sorting nodes within each cycle\n",
    "triangles = list(nx.simple_cycles(G.to_directed(), length_bound=3))\n",
    "triangles = [sorted(cycle, key=lambda x: G.nodes[x]['label']) for cycle in triangles if len(cycle) == 3]\n",
    "\n",
    "# Remove duplicate triangles\n",
    "triangles = list(set(tuple(cycle) for cycle in triangles))\n",
    "\n",
    "# Create a dataframe to display the triangles with node labels\n",
    "triangles_df = pd.DataFrame([tuple(G.nodes[node]['label'] for node in triangle) for triangle in triangles], columns=['Node 1', 'Node 2', 'Node 3'])\n",
    "triangles_df"
   ],
   "metadata": {
    "collapsed": false,
    "ExecuteTime": {
     "end_time": "2024-01-15T16:30:51.874040800Z",
     "start_time": "2024-01-15T16:30:51.861641600Z"
    }
   },
   "id": "d0d734feb3b06784",
   "execution_count": 32
  },
  {
   "cell_type": "code",
   "outputs": [
    {
     "data": {
      "text/plain": "[('The Bioneer', 359),\n ('Joe Scott', 36),\n ('Engadget', 2),\n ('How to ADHD', 1),\n ('Clark Elieson', 1),\n ('Elliott Hulse’s STRENGTH CAMP', 8),\n ('STRENGTH WARS', 6),\n ('Bulletproof', 3),\n ('FitnessFAQs', 19),\n ('alpha m.', 4),\n ('Strength Project', 13),\n ('Andrew Huberman', 2),\n ('Peter McKinnon', 8),\n ('Channel Pup', 1),\n ('PBS Idea Channel', 32),\n ('SoundGuys', 3),\n ('Hodge Twins', 7),\n ('ColdFusion', 7),\n ('Variant Comics', 1),\n ('samy kamkar', 1),\n ('Inside Gaming', 1),\n ('Wisecrack', 6),\n ('Bad Lip Reading', 2),\n ('Jeff Nippard', 13),\n ('Testosterone Nation', 1),\n ('PBS Space Time', 15),\n ('Captain Sinbad', 2),\n ('Bodybuilding.com', 28),\n ('Strength Side', 2),\n ('AnimeAjay', 2),\n ('VitruvianPhysique', 2),\n ('CNET Home', 24),\n ('Siim Land', 1),\n ('Fight Commentary Breakdowns', 7),\n ('DEATH BATTLE!', 4),\n ('CT Fletcher Motivation', 7),\n ('The Rock', 2),\n ('TechCrunch', 1),\n ('Chris Stuckmann', 1),\n ('NewRetroWave', 1),\n ('Dictionary of Obscure Sorrows', 7),\n ('Jonathan Morrison', 9),\n ('Dom Esposito', 3),\n ('Lessons from the Screenplay', 16),\n ('Patrick (H) Willems', 7),\n ('JaxBlade', 8),\n ('Thomas Frank', 6),\n ('Microsoft Surface', 2),\n ('Pat Flynn', 5),\n ('The Kneesovertoesguy', 10),\n ('Be Smart', 22),\n ('SixPackAbs.com', 18),\n ('The Enigma TNG', 1),\n ('MartialClub', 4),\n ('Rich Piana', 6),\n ('Nerdwriter1', 18),\n ('Game Informer', 1),\n ('ACG', 1),\n ('School of Calisthenics', 32),\n ('MJ Fitness', 2),\n ('Buff Dudes', 4),\n ('The Imaginary Axis', 1),\n ('Comics Explained', 2),\n ('Mashable', 3),\n ('Mark Bell - Super Training Gym', 7),\n ('JeromeFitness', 1),\n ('Tekzilla', 5),\n ('hard2hurt', 7),\n ('Dominik Sky', 11),\n ('gameranx', 1),\n ('Pocketnow', 7),\n ('Geoffrey Verity Schofield', 9),\n ('Thew Adams', 6),\n ('Frank Medrano', 7),\n ('Ido Portal', 7),\n ('Comic Book Girl 19', 1),\n ('VAHVA Fitness', 4),\n ('Fandom Entertainment', 2),\n ('Flow', 3),\n ('Jon Rettinger', 26),\n ('melodysheep', 2),\n ('captainmidnight', 5),\n ('Gary Explains', 3),\n ('Thoughty2', 2),\n ('Bret Contreras Glute Guy', 3),\n ('MrMobile [Michael Fisher]', 1),\n ('Kevin Rose', 4),\n ('Joshua Vergara', 3),\n ('pigmie', 2),\n ('Jim Stoppani  PhD', 1),\n ('Tom Merrick', 50),\n ('minutephysics', 26),\n ('NerdSync', 21),\n ('Charisma on Command', 4),\n ('Game Apologist', 1),\n ('Mark Wildman', 1),\n ('MobileTechReview', 1),\n ('JimmyTheGiant', 1),\n ('Lebe Stark', 18),\n ('Calisthenicmovement', 10),\n ('Stronger By Science', 5),\n ('Fortress', 1),\n ('GameSpot', 1),\n ('Invincible Worldwide', 1),\n ('The Verge', 5),\n ('Josh Bryant', 1),\n ('BBC Earth Science', 15),\n ('BroScienceLife', 7),\n ('Brandon Carter', 3),\n ('Seeker+', 14),\n ('Jacob Geller', 22),\n ('MoveU', 3),\n ('Music for creators', 3),\n ('Geekdom101', 2),\n ('Android Authority', 4),\n ('PhysiquesOfGreatness', 2),\n ('Mind Pump TV', 9),\n ('VincaniTV', 1),\n ('MovNat', 1),\n ('randomfrankp', 1),\n ('Science Friction', 11),\n ('Audio Library — Music for content creators', 5),\n ('Saiyan Enigma', 1),\n ('Adam Savage’s Tested', 5),\n ('Practical Psychology', 2),\n ('teamfarang', 4),\n ('Cracked', 12),\n ('OfficialBarstarzz', 11),\n ('XDA', 1),\n ('Mr Sunday Movies', 4),\n ('Art of Manliness', 3),\n ('fightTIPS', 8),\n ('Jason Silva: Shots of Awe', 17),\n ('Comicstorian', 1),\n ('Real Men Real Style', 2),\n ('Snoman Gaming', 3),\n ('Alex Leonidas', 6),\n ('Fit Media Channel', 1),\n ('Numberphile', 13),\n ('SaturnoMovement', 7),\n ('Life Noggin', 2),\n ('functionalpatterns', 6),\n ('Sean Ong', 2),\n ('Game Maker s Toolkit', 5),\n ('What I ve Learned', 3),\n ('The Escapist', 1),\n ('THENX', 12),\n ('Vsauce2', 17),\n ('Funk Roberts', 52),\n ('Like Stories of Old', 3),\n ('FightSmartTrav', 1),\n ('Dan Lok', 1),\n ('TeamFourStar', 1),\n ('Kinobody', 6),\n ('Better Ideas', 2),\n ('Boxing Legends TV', 1),\n ('Polygon', 5),\n ('Big Think', 5),\n ('Arnold Schwarzenegger', 2),\n ('Men s Health', 3),\n ('Curious Archive', 1),\n ('Vsauce3', 14),\n ('Just Write', 5),\n ('Animation Domination High Def', 3),\n ('Katie Moore', 2),\n ('Seeker', 5),\n ('Tim Ferriss', 8)]"
     },
     "execution_count": 20,
     "metadata": {},
     "output_type": "execute_result"
    }
   ],
   "source": [
    "undirected_graph = G.to_undirected()\n",
    "\n",
    "# Finding triangles in the undirected graph\n",
    "triangles = nx.triangles(undirected_graph)\n",
    "# Identifying channels that form triangles (i.e., have a triangle count > 0)\n",
    "channels_in_triangles = [(G.nodes[node]['label'], count) \n",
    "                         for node, count in triangles.items() if count > 0]\n",
    "# Displaying a sample of the data\n",
    "channels_in_triangles"
   ],
   "metadata": {
    "collapsed": false,
    "ExecuteTime": {
     "end_time": "2024-01-15T14:10:04.640646600Z",
     "start_time": "2024-01-15T14:10:04.615624100Z"
    }
   },
   "id": "d9c8586cefd13431",
   "execution_count": 20
  },
  {
   "cell_type": "code",
   "outputs": [
    {
     "data": {
      "text/plain": "0.01069047436585179"
     },
     "execution_count": 54,
     "metadata": {},
     "output_type": "execute_result"
    }
   ],
   "source": [
    "triangle_closure = nx.transitivity(G)\n",
    "triangle_closure"
   ],
   "metadata": {
    "collapsed": false,
    "ExecuteTime": {
     "end_time": "2024-01-15T18:49:10.084762100Z",
     "start_time": "2024-01-15T18:49:10.078178200Z"
    }
   },
   "id": "4bd91aa1984814ae",
   "execution_count": 54
  },
  {
   "cell_type": "code",
   "outputs": [
    {
     "data": {
      "text/plain": "[('Frank Medrano', 0.045258356465040436),\n ('Vsauce2', 0.03748209530616128),\n ('Vsauce3', 0.036542945435832766),\n ('Strength Project', 0.025898808400505596),\n ('CT Fletcher Motivation', 0.024422233386452476),\n ('fightTIPS', 0.023787608814255942),\n ('JeromeFitness', 0.02248731474949649),\n ('Android Authority', 0.015468302100481224),\n ('SoundGuys', 0.015377179193839408),\n ('Gary Explains', 0.015377179193839408),\n ('The Enigma TNG', 0.015118997627382409),\n ('Saiyan Enigma', 0.015118997627382409),\n ('Numberphile', 0.013622887331601694),\n ('Jonathan Morrison', 0.011526497692095464),\n ('Tim Ferriss', 0.01115213901714623),\n ('The Verge', 0.00914692783212465),\n ('Bodybuilding.com', 0.008853655102330535),\n ('FitnessFAQs', 0.008228514729942838),\n ('Polygon', 0.007765818292306591),\n ('Jacob Geller', 0.007267380617484524),\n ('ColdFusion', 0.006956785954213922),\n ('minutephysics', 0.00688078427491186),\n ('Geekdom101', 0.006797879354810396),\n ('Jeff Nippard', 0.006453732681810418),\n ('Seeker+', 0.006328068294081263),\n ('SaturnoMovement', 0.006288316112790859),\n ('Calisthenicmovement', 0.006243230326200184),\n ('Hodge Twins', 0.006240811193351051),\n ('The Kneesovertoesguy', 0.006184364886780762),\n ('teamfarang', 0.006179039821235505),\n ('Game Maker s Toolkit', 0.006098365559019215),\n ('PhysiquesOfGreatness', 0.005675354771803722),\n ('Charisma on Command', 0.005622044559255109),\n ('Nerdwriter1', 0.005570573939815),\n ('PBS Idea Channel', 0.005540374095787977),\n ('BroScienceLife', 0.005514420298717669),\n ('samy kamkar', 0.005427622382463748),\n ('DEATH BATTLE!', 0.0053843466757628996),\n ('Pocketnow', 0.00527886744484615),\n ('Audio Library — Music for content creators', 0.005096740962337115),\n ('Tom Merrick', 0.005068895489087609),\n ('Be Smart', 0.0050101211145123165),\n ('Patrick (H) Willems', 0.004802780406899197),\n ('Real Men Real Style', 0.004790136365795809),\n ('Dictionary of Obscure Sorrows', 0.004786113461649107),\n ('Wisecrack', 0.0047746788123055744),\n ('Jason Silva: Shots of Awe', 0.004753050842687489),\n ('Fandom Entertainment', 0.004734148003564697),\n ('Peter McKinnon', 0.0046473813751923545),\n ('OfficialBarstarzz', 0.004612000574016936),\n ('Flow', 0.0046014001884479485),\n ('Life Noggin', 0.004527368232179496),\n ('PBS Space Time', 0.004456527297844645),\n ('Cracked', 0.004435744632125035),\n ('What I ve Learned', 0.00437077394325119),\n ('Engadget', 0.00432537201137125),\n ('VincaniTV', 0.004304756628055754),\n ('melodysheep', 0.004248357762537109),\n ('BBC Earth Science', 0.004197614520901026),\n ('AnimeAjay', 0.004195521869385213),\n ('Game Apologist', 0.004195521869385213),\n ('Ido Portal', 0.003950353865896183),\n ('Seeker', 0.003921922932500984),\n ('Just Write', 0.003762527109563853),\n ('The Bioneer', 0.003730856393050982),\n ('Lessons from the Screenplay', 0.0037239458643552516),\n ('Kevin Rose', 0.0036772792320578142),\n ('Mark Bell - Super Training Gym', 0.003576471174405033),\n ('Elliott Hulse’s STRENGTH CAMP', 0.003574468259332543),\n ('Like Stories of Old', 0.00357426932574635),\n ('Joshua Vergara', 0.0035194591333209384),\n ('Andrew Huberman', 0.0035086605901339042),\n ('MJ Fitness', 0.0034823050286932984),\n ('Chris Stuckmann', 0.0034515966215498193),\n ('Bulletproof', 0.003449312247379355),\n ('MrMobile [Michael Fisher]', 0.003389608991334901),\n ('XDA', 0.003389608991334901),\n ('Microsoft Surface', 0.0033615359060041763),\n ('alpha m.', 0.0033479230346344655),\n ('Thoughty2', 0.003266386262856246),\n ('Comicstorian', 0.0032316857640181385),\n ('THENX', 0.00318406938771699),\n ('Pat Flynn', 0.0031475008242352934),\n ('Dominik Sky', 0.0031443911588011327),\n ('Captain Sinbad', 0.0031412450995202553),\n ('Better Ideas', 0.0031412450995202553),\n ('Mr Sunday Movies', 0.0031115688630651444),\n ('Alex Leonidas', 0.003088883352709228),\n ('Brandon Carter', 0.0030871749381986796),\n ('Big Think', 0.003075668784571269),\n ('Buff Dudes', 0.003074265106540161),\n ('Adam Savage’s Tested', 0.002954758270579328),\n ('Game Informer', 0.002954213384019276),\n ('Snoman Gaming', 0.002954213384019276),\n ('Geoffrey Verity Schofield', 0.0029242373714279827),\n ('Arnold Schwarzenegger', 0.002899406923414656),\n ('Art of Manliness', 0.002892396949620253),\n ('functionalpatterns', 0.00286200249349408),\n ('STRENGTH WARS', 0.0027960133390835455),\n ('Bad Lip Reading', 0.002785508041779213),\n ('hard2hurt', 0.0027824666130871365),\n ('Jim Stoppani  PhD', 0.0027695567814286183),\n ('Josh Bryant', 0.0027695567814286183),\n ('MoveU', 0.0027695567814286183),\n ('Fit Media Channel', 0.0027695567814286183),\n ('Men s Health', 0.0027695567814286183),\n ('Jon Rettinger', 0.002749767711334601),\n ('Fight Commentary Breakdowns', 0.0027408689831044265),\n ('FightSmartTrav', 0.0027408689831044265),\n ('MartialClub', 0.0027337973860034432),\n ('VitruvianPhysique', 0.0026866849241266224),\n ('How to ADHD', 0.002653384100797894),\n ('Stronger By Science', 0.0026229356253568486),\n ('VAHVA Fitness', 0.00261398762272789),\n ('Comic Book Girl 19', 0.0025891283604400884),\n ('Bret Contreras Glute Guy', 0.0025793313467608104),\n ('Strength Side', 0.0025538507842238255),\n ('Thomas Frank', 0.0025394761974363305),\n ('Rich Piana', 0.002515582047991037),\n ('Variant Comics', 0.0025088086849928324),\n ('The Imaginary Axis', 0.0025088086849928324),\n ('Practical Psychology', 0.0024940834111738088),\n ('Mind Pump TV', 0.00248547614201228),\n ('Mashable', 0.002479881435169618),\n ('captainmidnight', 0.0024430925868996227),\n ('Siim Land', 0.002421726843242506),\n ('JimmyTheGiant', 0.002421726843242506),\n ('MovNat', 0.002421726843242506),\n ('Kinobody', 0.002421726843242506),\n ('The Rock', 0.002416132136399844),\n ('Music for creators', 0.002416132136399844),\n ('NewRetroWave', 0.0023999735996323825),\n ('ACG', 0.0023999735996323825),\n ('gameranx', 0.0023999735996323825),\n ('Funk Roberts', 0.0023999735996323825),\n ('Dan Lok', 0.0023999735996323825),\n ('Boxing Legends TV', 0.0023999735996323825),\n ('Curious Archive', 0.0023999735996323825),\n ('Dom Esposito', 0.0023976998006371014),\n ('MobileTechReview', 0.0023976998006371014),\n ('The Escapist', 0.0023976998006371014),\n ('Animation Domination High Def', 0.0023976998006371014),\n ('pigmie', 0.0023963611393666736),\n ('Testosterone Nation', 0.0023315989574208373),\n ('SixPackAbs.com', 0.0023315989574208373),\n ('Mark Wildman', 0.0023315989574208373),\n ('Lebe Stark', 0.0023315989574208373),\n ('Fortress', 0.0023315989574208373),\n ('Joe Scott', 0.002267849658651064),\n ('Clark Elieson', 0.002267849658651064),\n ('Aim To Head Official', 0.002267849658651064),\n ('Quinn s Ideas', 0.002267849658651064),\n ('Channel Pup', 0.002267849658651064),\n ('Tee Lopes', 0.002267849658651064),\n ('Inside Gaming', 0.002267849658651064),\n ('MuscleTV', 0.002267849658651064),\n ('The  80s Guy', 0.002267849658651064),\n ('SwitchForce', 0.002267849658651064),\n ('RGT 85', 0.002267849658651064),\n ('CNET Home', 0.002267849658651064),\n ('Original Strength', 0.002267849658651064),\n ('Sonic the Hedgehog', 0.002267849658651064),\n ('TechCrunch', 0.002267849658651064),\n ('JaxBlade', 0.002267849658651064),\n ('CGRundertow', 0.002267849658651064),\n ('Matty Fusaro', 0.002267849658651064),\n ('The Closer Look', 0.002267849658651064),\n ('Tao Physique', 0.002267849658651064),\n ('Pocket Gamer', 0.002267849658651064),\n ('khanacademymedicine', 0.002267849658651064),\n ('GameTrailers', 0.002267849658651064),\n ('Explore Gadgets', 0.002267849658651064),\n ('School of Calisthenics', 0.002267849658651064),\n ('vsauceLEANBACK', 0.002267849658651064),\n ('Comics Explained', 0.002267849658651064),\n ('ParryGripp', 0.002267849658651064),\n ('Tekzilla', 0.002267849658651064),\n ('Yuriofwind', 0.002267849658651064),\n ('The Movement System', 0.002267849658651064),\n ('Mastar', 0.002267849658651064),\n ('Thew Adams', 0.002267849658651064),\n ('Eric Jacobus', 0.002267849658651064),\n ('AppSumo', 0.002267849658651064),\n ('World Science Festival', 0.002267849658651064),\n ('JimTV', 0.002267849658651064),\n ('Dave Bennett', 0.002267849658651064),\n ('Krista King', 0.002267849658651064),\n ('MegaGWolf', 0.002267849658651064),\n ('NerdSync', 0.002267849658651064),\n ('SPARTAN BODYBUILDING', 0.002267849658651064),\n ('The Thought Emporium', 0.002267849658651064),\n ('Android Developers', 0.002267849658651064),\n ('SearingWolfe', 0.002267849658651064),\n ('Skill Up', 0.002267849658651064),\n ('Derren Brown', 0.002267849658651064),\n ('Gokuflex', 0.002267849658651064),\n ('GameSpot', 0.002267849658651064),\n ('Invincible Worldwide', 0.002267849658651064),\n ('Hybrid Calisthenics', 0.002267849658651064),\n ('Implicitly Pretentious', 0.002267849658651064),\n ('Sonic Central', 0.002267849658651064),\n ('randomfrankp', 0.002267849658651064),\n ('Science Friction', 0.002267849658651064),\n ('Physionic', 0.002267849658651064),\n ('Max Derrat', 0.002267849658651064),\n ('Sorelle Amore', 0.002267849658651064),\n ('Nintendo Life', 0.002267849658651064),\n ('SCHILLER official', 0.002267849658651064),\n ('ANLLELA SAGRA', 0.002267849658651064),\n ('Sean Ong', 0.002267849658651064),\n ('Mover s Odyssey', 0.002267849658651064),\n ('Beerdy - Bruce Lee Central', 0.002267849658651064),\n ('Deus Ex', 0.002267849658651064),\n ('TeamFourStar', 0.002267849658651064),\n ('New Scientist', 0.002267849658651064),\n ('Quirkology', 0.002267849658651064),\n ('RSA', 0.002267849658651064),\n ('Philip Hartshorn', 0.002267849658651064),\n ('Prozis', 0.002267849658651064),\n ('Katie Moore', 0.002267849658651064),\n ('Greg and Mitch', 0.002267849658651064)]"
     },
     "execution_count": 53,
     "metadata": {},
     "output_type": "execute_result"
    }
   ],
   "source": [
    "# Calculate PageRank\n",
    "pagerank = nx.pagerank(G, max_iter=100_000, alpha=0.85, tol=1e-10)\n",
    "# Extracting channel labels along with their PageRank\n",
    "channel_labels_with_pagerank = [(G.nodes[node]['label'], pagerank[node]) for node in G.nodes()]\n",
    "\n",
    "# Sort the channels by their PageRank for better understanding\n",
    "sorted_channel_labels_with_pagerank = sorted(channel_labels_with_pagerank, key=lambda x: x[1], reverse=True)\n",
    "sorted_channel_labels_with_pagerank"
   ],
   "metadata": {
    "collapsed": false,
    "ExecuteTime": {
     "end_time": "2024-01-15T18:49:03.902737800Z",
     "start_time": "2024-01-15T18:49:03.892887300Z"
    }
   },
   "id": "4e76e54546bbbd29",
   "execution_count": 53
  },
  {
   "cell_type": "code",
   "outputs": [],
   "source": [],
   "metadata": {
    "collapsed": false
   },
   "id": "6aedf2e536ed17b0"
  }
 ],
 "metadata": {
  "kernelspec": {
   "display_name": "Python 3 (ipykernel)",
   "language": "python",
   "name": "python3"
  },
  "language_info": {
   "codemirror_mode": {
    "name": "ipython",
    "version": 3
   },
   "file_extension": ".py",
   "mimetype": "text/x-python",
   "name": "python",
   "nbconvert_exporter": "python",
   "pygments_lexer": "ipython3",
   "version": "3.11.5"
  }
 },
 "nbformat": 4,
 "nbformat_minor": 5
}
