{
 "cells": [
  {
   "cell_type": "code",
   "execution_count": 57,
   "id": "d64cf4aeaf4b24ae",
   "metadata": {
    "collapsed": false,
    "ExecuteTime": {
     "end_time": "2024-01-02T23:43:14.668764800Z",
     "start_time": "2024-01-02T23:43:14.568210900Z"
    }
   },
   "outputs": [
    {
     "name": "stdout",
     "output_type": "stream",
     "text": [
      "Number of connected components: 1\n",
      "Size of giant component: 222\n",
      "Size distribution of components: [222]\n"
     ]
    }
   ],
   "source": [
    "import networkx as nx\n",
    "\n",
    "# Load the graphml file again\n",
    "file_path = 'bioneer.graphml'\n",
    "G = nx.read_graphml(file_path)\n",
    "\n",
    "# Filter the graph to only include channels with subscriberCount between 50000 and 8318210\n",
    "G = G.subgraph([node for node in G.nodes() if 50000 <= G.nodes[node]['subscribercount'] <= 8318210])\n",
    "\n",
    "# Calculate component measures\n",
    "# Get the number of connected components\n",
    "num_connected_components = nx.number_connected_components(G.to_undirected())\n",
    "\n",
    "# Identify the giant component\n",
    "giant_component = max(nx.connected_components(G.to_undirected()), key=len)\n",
    "giant_component_size = len(giant_component)\n",
    "\n",
    "# Get the size distribution of the components\n",
    "component_sizes = [len(c) for c in sorted(nx.connected_components(G.to_undirected()), key=len, reverse=True)]\n",
    "\n",
    "print(\"Number of connected components:\", num_connected_components)\n",
    "print(\"Size of giant component:\", giant_component_size)\n",
    "print(\"Size distribution of components:\", component_sizes)\n"
   ]
  },
  {
   "cell_type": "code",
   "execution_count": 58,
   "id": "8a404d204cd887e8",
   "metadata": {
    "collapsed": false,
    "ExecuteTime": {
     "end_time": "2024-01-02T23:43:16.728593900Z",
     "start_time": "2024-01-02T23:43:16.722500800Z"
    }
   },
   "outputs": [
    {
     "data": {
      "text/plain": "({1: 54,\n  2: 33,\n  3: 40,\n  4: 17,\n  5: 15,\n  6: 15,\n  7: 13,\n  8: 6,\n  9: 6,\n  10: 8,\n  11: 3,\n  13: 1,\n  14: 3,\n  16: 1,\n  18: 1,\n  20: 2,\n  21: 1,\n  31: 1,\n  34: 1,\n  224: 1},\n 224,\n 1)"
     },
     "execution_count": 58,
     "metadata": {},
     "output_type": "execute_result"
    }
   ],
   "source": [
    "# Correcting the attribute name based on the node attributes\n",
    "\n",
    "# Calculate degree distribution for the filtered graph\n",
    "filtered_degrees = [degree for node, degree in G.degree()]\n",
    "filtered_degree_distribution = {degree: filtered_degrees.count(degree) for degree in set(filtered_degrees)}\n",
    "\n",
    "# Calculate maximum and minimum degree for the filtered graph\n",
    "filtered_max_degree = max(filtered_degrees)\n",
    "filtered_min_degree = min(filtered_degrees)\n",
    "\n",
    "filtered_degree_distribution, filtered_max_degree, filtered_min_degree\n"
   ]
  },
  {
   "cell_type": "code",
   "execution_count": 59,
   "id": "ff34b4e2888b9767",
   "metadata": {
    "collapsed": false,
    "ExecuteTime": {
     "end_time": "2024-01-02T23:43:16.868503200Z",
     "start_time": "2024-01-02T23:43:16.863290900Z"
    }
   },
   "outputs": [],
   "source": [
    "# Extracting channel labels along with their degree value\n",
    "channel_labels_with_degree = [(G.nodes[node]['label'], degree) for node, degree in G.degree()]\n",
    "\n",
    "# Displaying the entries to check the data\n",
    "channel_labels_with_degree.sort(key=lambda x: x[1], reverse=True)"
   ]
  },
  {
   "cell_type": "code",
   "outputs": [
    {
     "data": {
      "text/plain": "[('The Bioneer', 224),\n ('Funk Roberts', 34),\n ('Tom Merrick', 31),\n ('Joe Scott', 21),\n ('Bodybuilding.com', 20),\n ('Jon Rettinger', 20),\n ('Lebe Stark', 18),\n ('School of Calisthenics', 16),\n ('PBS Idea Channel', 14),\n ('CNET Home', 14),\n ('Jacob Geller', 14),\n ('NerdSync', 13),\n ('FitnessFAQs', 11),\n ('Nerdwriter1', 11),\n ('minutephysics', 11),\n ('Strength Project', 10),\n ('Be Smart', 10),\n ('SixPackAbs.com', 10),\n ('Geoffrey Verity Schofield', 10),\n ('Seeker+', 10),\n ('Cracked', 10),\n ('Jason Silva: Shots of Awe', 10),\n ('Vsauce2', 10),\n ('Jeff Nippard', 9),\n ('PBS Space Time', 9),\n ('Lessons from the Screenplay', 9),\n ('JaxBlade', 9),\n ('Vsauce3', 9),\n ('Tim Ferriss', 9),\n ('The Kneesovertoesguy', 8),\n ('BBC Earth Science', 8),\n ('OfficialBarstarzz', 8),\n ('fightTIPS', 8),\n ('Numberphile', 8),\n ('THENX', 8),\n ('Peter McKinnon', 7),\n ('ColdFusion', 7),\n ('Fight Commentary Breakdowns', 7),\n ('Jonathan Morrison', 7),\n ('hard2hurt', 7),\n ('Pocketnow', 7),\n ('Frank Medrano', 7),\n ('BroScienceLife', 7),\n ('Mind Pump TV', 7),\n ('Science Friction', 7),\n ('Alex Leonidas', 7),\n ('SaturnoMovement', 7),\n ('functionalpatterns', 7),\n ('Elliott Hulse’s STRENGTH CAMP', 6),\n ('STRENGTH WARS', 6),\n ('Wisecrack', 6),\n ('CT Fletcher Motivation', 6),\n ('Patrick (H) Willems', 6),\n ('Thomas Frank', 6),\n ('Mark Bell - Super Training Gym', 6),\n ('Dominik Sky', 6),\n ('Thew Adams', 6),\n ('Calisthenicmovement', 6),\n ('The Verge', 6),\n ('Android Authority', 6),\n ('teamfarang', 6),\n ('Kinobody', 6),\n ('Polygon', 6),\n ('SoundGuys', 5),\n ('Hodge Twins', 5),\n ('DEATH BATTLE!', 5),\n ('Dictionary of Obscure Sorrows', 5),\n ('Coffeezilla', 5),\n ('Pat Flynn', 5),\n ('Rich Piana', 5),\n ('Tekzilla', 5),\n ('Ido Portal', 5),\n ('Flow', 5),\n ('Gary Explains', 5),\n ('Stronger By Science', 5),\n ('Audio Library — Music for content creators', 5),\n ('Big Think', 5),\n ('Seeker', 5),\n ('Bulletproof', 4),\n ('alpha m.', 4),\n ('MartialClub', 4),\n ('Buff Dudes', 4),\n ('Mashable', 4),\n ('VAHVA Fitness', 4),\n ('captainmidnight', 4),\n ('Kevin Rose', 4),\n ('Charisma on Command', 4),\n ('Brandon Carter', 4),\n ('MoveU', 4),\n ('Adam Savage’s Tested', 4),\n ('Mr Sunday Movies', 4),\n ('Art of Manliness', 4),\n ('Game Maker s Toolkit', 4),\n ('What I ve Learned', 4),\n ('Just Write', 4),\n ('Engadget', 3),\n ('Andrew Huberman', 3),\n ('samy kamkar', 3),\n ('Bad Lip Reading', 3),\n ('Captain Sinbad', 3),\n ('Strength Side', 3),\n ('AnimeAjay', 3),\n ('VitruvianPhysique', 3),\n ('The Rock', 3),\n ('Dom Esposito', 3),\n ('Microsoft Surface', 3),\n ('The Enigma TNG', 3),\n ('Game Informer', 3),\n ('MJ Fitness', 3),\n ('Comics Explained', 3),\n ('JeromeFitness', 3),\n ('Fandom Entertainment', 3),\n ('melodysheep', 3),\n ('Thoughty2', 3),\n ('Bret Contreras Glute Guy', 3),\n ('Joshua Vergara', 3),\n ('pigmie', 3),\n ('Jim Stoppani  PhD', 3),\n ('Music for creators', 3),\n ('Geekdom101', 3),\n ('PhysiquesOfGreatness', 3),\n ('Saiyan Enigma', 3),\n ('Practical Psychology', 3),\n ('XDA', 3),\n ('Real Men Real Style', 3),\n ('Snoman Gaming', 3),\n ('Life Noggin', 3),\n ('Sean Ong', 3),\n ('Like Stories of Old', 3),\n ('FightSmartTrav', 3),\n ('Better Ideas', 3),\n ('Arnold Schwarzenegger', 3),\n ('Men s Health', 3),\n ('Animation Domination High Def', 3),\n ('Katie Moore', 3),\n ('How to ADHD', 2),\n ('Clark Elieson', 2),\n ('Channel Pup', 2),\n ('Variant Comics', 2),\n ('Inside Gaming', 2),\n ('Testosterone Nation', 2),\n ('Siim Land', 2),\n ('TechCrunch', 2),\n ('Chris Stuckmann', 2),\n ('NewRetroWave', 2),\n ('ACG', 2),\n ('The Imaginary Axis', 2),\n ('gameranx', 2),\n ('Comic Book Girl 19', 2),\n ('MrMobile [Michael Fisher]', 2),\n ('Game Apologist', 2),\n ('Mark Wildman', 2),\n ('MobileTechReview', 2),\n ('JimmyTheGiant', 2),\n ('Fortress', 2),\n ('GameSpot', 2),\n ('Invincible Worldwide', 2),\n ('Josh Bryant', 2),\n ('VincaniTV', 2),\n ('MovNat', 2),\n ('randomfrankp', 2),\n ('Comicstorian', 2),\n ('Fit Media Channel', 2),\n ('The Escapist', 2),\n ('Dan Lok', 2),\n ('TeamFourStar', 2),\n ('Boxing Legends TV', 2),\n ('Curious Archive', 2),\n ('Aim To Head Official', 1),\n ('Quinn s Ideas', 1),\n ('Tee Lopes', 1),\n ('MuscleTV', 1),\n ('The  80s Guy', 1),\n ('SwitchForce', 1),\n ('RGT 85', 1),\n ('Original Strength', 1),\n ('Sonic the Hedgehog', 1),\n ('CGRundertow', 1),\n ('Matty Fusaro', 1),\n ('The Closer Look', 1),\n ('Tao Physique', 1),\n ('Pocket Gamer', 1),\n ('khanacademymedicine', 1),\n ('GameTrailers', 1),\n ('Explore Gadgets', 1),\n ('vsauceLEANBACK', 1),\n ('ParryGripp', 1),\n ('Yuriofwind', 1),\n ('The Movement System', 1),\n ('Mastar', 1),\n ('Eric Jacobus', 1),\n ('AppSumo', 1),\n ('World Science Festival', 1),\n ('JimTV', 1),\n ('Dave Bennett', 1),\n ('Krista King', 1),\n ('MegaGWolf', 1),\n ('SPARTAN BODYBUILDING', 1),\n ('The Thought Emporium', 1),\n ('Android Developers', 1),\n ('SearingWolfe', 1),\n ('Skill Up', 1),\n ('Derren Brown', 1),\n ('Gokuflex', 1),\n ('Hybrid Calisthenics', 1),\n ('Implicitly Pretentious', 1),\n ('Sonic Central', 1),\n ('Physionic', 1),\n ('Max Derrat', 1),\n ('Sorelle Amore', 1),\n ('Nintendo Life', 1),\n ('SCHILLER official', 1),\n ('ANLLELA SAGRA', 1),\n ('Mover s Odyssey', 1),\n ('Beerdy - Bruce Lee Central', 1),\n ('Deus Ex', 1),\n ('New Scientist', 1),\n ('Quirkology', 1),\n ('RSA', 1),\n ('Philip Hartshorn', 1),\n ('Prozis', 1),\n ('Greg and Mitch', 1)]"
     },
     "execution_count": 60,
     "metadata": {},
     "output_type": "execute_result"
    }
   ],
   "source": [
    "channel_labels_with_degree"
   ],
   "metadata": {
    "collapsed": false,
    "ExecuteTime": {
     "end_time": "2024-01-02T23:43:17.033471600Z",
     "start_time": "2024-01-02T23:43:17.026528500Z"
    }
   },
   "id": "bf74f99c9f96ae75",
   "execution_count": 60
  },
  {
   "cell_type": "code",
   "outputs": [],
   "source": [
    "# Extracting channel labels along with their in-degree value\n",
    "channel_labels_with_in_degree = [(G.nodes[node]['label'], in_degree) \n",
    "                                 for node, in_degree in G.in_degree()]\n",
    "channel_labels_with_in_degree.sort(key=lambda x: x[1], reverse=True)"
   ],
   "metadata": {
    "collapsed": false,
    "ExecuteTime": {
     "end_time": "2024-01-02T23:43:17.193509600Z",
     "start_time": "2024-01-02T23:43:17.190556100Z"
    }
   },
   "id": "a5410486bcfca5d6",
   "execution_count": 61
  },
  {
   "cell_type": "code",
   "outputs": [
    {
     "data": {
      "text/plain": "[('minutephysics', 10),\n ('FitnessFAQs', 9),\n ('Strength Project', 9),\n ('Jeff Nippard', 9),\n ('Vsauce2', 9),\n ('The Kneesovertoesguy', 8),\n ('Numberphile', 8),\n ('Vsauce3', 8),\n ('Peter McKinnon', 7),\n ('PBS Idea Channel', 7),\n ('ColdFusion', 7),\n ('Jonathan Morrison', 7),\n ('Be Smart', 7),\n ('Nerdwriter1', 7),\n ('BroScienceLife', 7),\n ('OfficialBarstarzz', 7),\n ('fightTIPS', 7),\n ('Elliott Hulse’s STRENGTH CAMP', 6),\n ('Wisecrack', 6),\n ('Patrick (H) Willems', 6),\n ('Calisthenicmovement', 6),\n ('Tim Ferriss', 6),\n ('Hodge Twins', 5),\n ('Bodybuilding.com', 5),\n ('DEATH BATTLE!', 5),\n ('CT Fletcher Motivation', 5),\n ('Dictionary of Obscure Sorrows', 5),\n ('Coffeezilla', 5),\n ('Frank Medrano', 5),\n ('Ido Portal', 5),\n ('Seeker+', 5),\n ('Jacob Geller', 5),\n ('Audio Library — Music for content creators', 5),\n ('SaturnoMovement', 5),\n ('THENX', 5),\n ('Polygon', 5),\n ('Bulletproof', 4),\n ('alpha m.', 4),\n ('PBS Space Time', 4),\n ('Lessons from the Screenplay', 4),\n ('Pat Flynn', 4),\n ('Buff Dudes', 4),\n ('Mark Bell - Super Training Gym', 4),\n ('Dominik Sky', 4),\n ('VAHVA Fitness', 4),\n ('Flow', 4),\n ('Charisma on Command', 4),\n ('The Verge', 4),\n ('BBC Earth Science', 4),\n ('Brandon Carter', 4),\n ('Android Authority', 4),\n ('Mr Sunday Movies', 4),\n ('Jason Silva: Shots of Awe', 4),\n ('Game Maker s Toolkit', 4),\n ('What I ve Learned', 4),\n ('Just Write', 4),\n ('Seeker', 4),\n ('The Bioneer', 3),\n ('Engadget', 3),\n ('Andrew Huberman', 3),\n ('SoundGuys', 3),\n ('Bad Lip Reading', 3),\n ('Captain Sinbad', 3),\n ('Strength Side', 3),\n ('VitruvianPhysique', 3),\n ('Thomas Frank', 3),\n ('Microsoft Surface', 3),\n ('MJ Fitness', 3),\n ('Mashable', 3),\n ('Pocketnow', 3),\n ('Fandom Entertainment', 3),\n ('melodysheep', 3),\n ('Gary Explains', 3),\n ('Thoughty2', 3),\n ('Bret Contreras Glute Guy', 3),\n ('Kevin Rose', 3),\n ('Joshua Vergara', 3),\n ('Tom Merrick', 3),\n ('Geekdom101', 3),\n ('PhysiquesOfGreatness', 3),\n ('Mind Pump TV', 3),\n ('Adam Savage’s Tested', 3),\n ('Practical Psychology', 3),\n ('Cracked', 3),\n ('Art of Manliness', 3),\n ('Real Men Real Style', 3),\n ('Alex Leonidas', 3),\n ('Life Noggin', 3),\n ('Like Stories of Old', 3),\n ('Better Ideas', 3),\n ('Big Think', 3),\n ('Arnold Schwarzenegger', 3),\n ('How to ADHD', 2),\n ('STRENGTH WARS', 2),\n ('Variant Comics', 2),\n ('samy kamkar', 2),\n ('Testosterone Nation', 2),\n ('AnimeAjay', 2),\n ('Siim Land', 2),\n ('Fight Commentary Breakdowns', 2),\n ('The Rock', 2),\n ('Chris Stuckmann', 2),\n ('NewRetroWave', 2),\n ('Dom Esposito', 2),\n ('SixPackAbs.com', 2),\n ('The Enigma TNG', 2),\n ('MartialClub', 2),\n ('Rich Piana', 2),\n ('Game Informer', 2),\n ('ACG', 2),\n ('The Imaginary Axis', 2),\n ('JeromeFitness', 2),\n ('hard2hurt', 2),\n ('gameranx', 2),\n ('Geoffrey Verity Schofield', 2),\n ('Comic Book Girl 19', 2),\n ('Jon Rettinger', 2),\n ('captainmidnight', 2),\n ('MrMobile [Michael Fisher]', 2),\n ('pigmie', 2),\n ('Jim Stoppani  PhD', 2),\n ('Game Apologist', 2),\n ('Mark Wildman', 2),\n ('MobileTechReview', 2),\n ('JimmyTheGiant', 2),\n ('Lebe Stark', 2),\n ('Stronger By Science', 2),\n ('Fortress', 2),\n ('Josh Bryant', 2),\n ('MoveU', 2),\n ('Music for creators', 2),\n ('VincaniTV', 2),\n ('MovNat', 2),\n ('Saiyan Enigma', 2),\n ('teamfarang', 2),\n ('XDA', 2),\n ('Comicstorian', 2),\n ('Snoman Gaming', 2),\n ('Fit Media Channel', 2),\n ('functionalpatterns', 2),\n ('The Escapist', 2),\n ('Funk Roberts', 2),\n ('FightSmartTrav', 2),\n ('Dan Lok', 2),\n ('Kinobody', 2),\n ('Boxing Legends TV', 2),\n ('Men s Health', 2),\n ('Curious Archive', 2),\n ('Animation Domination High Def', 2),\n ('Joe Scott', 1),\n ('Clark Elieson', 1),\n ('Aim To Head Official', 1),\n ('Quinn s Ideas', 1),\n ('Channel Pup', 1),\n ('Tee Lopes', 1),\n ('Inside Gaming', 1),\n ('MuscleTV', 1),\n ('The  80s Guy', 1),\n ('SwitchForce', 1),\n ('RGT 85', 1),\n ('CNET Home', 1),\n ('Original Strength', 1),\n ('Sonic the Hedgehog', 1),\n ('TechCrunch', 1),\n ('JaxBlade', 1),\n ('CGRundertow', 1),\n ('Matty Fusaro', 1),\n ('The Closer Look', 1),\n ('Tao Physique', 1),\n ('Pocket Gamer', 1),\n ('khanacademymedicine', 1),\n ('GameTrailers', 1),\n ('Explore Gadgets', 1),\n ('School of Calisthenics', 1),\n ('vsauceLEANBACK', 1),\n ('Comics Explained', 1),\n ('ParryGripp', 1),\n ('Tekzilla', 1),\n ('Yuriofwind', 1),\n ('The Movement System', 1),\n ('Mastar', 1),\n ('Thew Adams', 1),\n ('Eric Jacobus', 1),\n ('AppSumo', 1),\n ('World Science Festival', 1),\n ('JimTV', 1),\n ('Dave Bennett', 1),\n ('Krista King', 1),\n ('MegaGWolf', 1),\n ('NerdSync', 1),\n ('SPARTAN BODYBUILDING', 1),\n ('The Thought Emporium', 1),\n ('Android Developers', 1),\n ('SearingWolfe', 1),\n ('Skill Up', 1),\n ('Derren Brown', 1),\n ('Gokuflex', 1),\n ('GameSpot', 1),\n ('Invincible Worldwide', 1),\n ('Hybrid Calisthenics', 1),\n ('Implicitly Pretentious', 1),\n ('Sonic Central', 1),\n ('randomfrankp', 1),\n ('Science Friction', 1),\n ('Physionic', 1),\n ('Max Derrat', 1),\n ('Sorelle Amore', 1),\n ('Nintendo Life', 1),\n ('SCHILLER official', 1),\n ('ANLLELA SAGRA', 1),\n ('Sean Ong', 1),\n ('Mover s Odyssey', 1),\n ('Beerdy - Bruce Lee Central', 1),\n ('Deus Ex', 1),\n ('TeamFourStar', 1),\n ('New Scientist', 1),\n ('Quirkology', 1),\n ('RSA', 1),\n ('Philip Hartshorn', 1),\n ('Prozis', 1),\n ('Katie Moore', 1),\n ('Greg and Mitch', 1)]"
     },
     "execution_count": 62,
     "metadata": {},
     "output_type": "execute_result"
    }
   ],
   "source": [
    "channel_labels_with_in_degree"
   ],
   "metadata": {
    "collapsed": false,
    "ExecuteTime": {
     "end_time": "2024-01-02T23:43:17.367128900Z",
     "start_time": "2024-01-02T23:43:17.356403400Z"
    }
   },
   "id": "8e74f1af0e53e9e9",
   "execution_count": 62
  },
  {
   "cell_type": "code",
   "outputs": [],
   "source": [
    "# Extracting channel labels along with their in-degree value\n",
    "channel_labels_with_out_degree = [(G.nodes[node]['label'], out_degree) \n",
    "                                 for node, out_degree in G.out_degree()]\n",
    "channel_labels_with_out_degree.sort(key=lambda x: x[1], reverse=True)"
   ],
   "metadata": {
    "collapsed": false,
    "ExecuteTime": {
     "end_time": "2024-01-02T23:43:17.524869800Z",
     "start_time": "2024-01-02T23:43:17.522022900Z"
    }
   },
   "id": "fae430a64b098bbf",
   "execution_count": 63
  },
  {
   "cell_type": "code",
   "outputs": [
    {
     "data": {
      "text/plain": "[('The Bioneer', 221),\n ('Funk Roberts', 32),\n ('Tom Merrick', 28),\n ('Joe Scott', 20),\n ('Jon Rettinger', 18),\n ('Lebe Stark', 16),\n ('Bodybuilding.com', 15),\n ('School of Calisthenics', 15),\n ('CNET Home', 13),\n ('NerdSync', 12),\n ('Jacob Geller', 9),\n ('JaxBlade', 8),\n ('SixPackAbs.com', 8),\n ('Geoffrey Verity Schofield', 8),\n ('PBS Idea Channel', 7),\n ('Cracked', 7),\n ('Science Friction', 6),\n ('Jason Silva: Shots of Awe', 6),\n ('PBS Space Time', 5),\n ('Fight Commentary Breakdowns', 5),\n ('Lessons from the Screenplay', 5),\n ('hard2hurt', 5),\n ('Thew Adams', 5),\n ('Seeker+', 5),\n ('functionalpatterns', 5),\n ('STRENGTH WARS', 4),\n ('Nerdwriter1', 4),\n ('Tekzilla', 4),\n ('Pocketnow', 4),\n ('BBC Earth Science', 4),\n ('Mind Pump TV', 4),\n ('teamfarang', 4),\n ('Alex Leonidas', 4),\n ('Kinobody', 4),\n ('Thomas Frank', 3),\n ('Be Smart', 3),\n ('Rich Piana', 3),\n ('Stronger By Science', 3),\n ('THENX', 3),\n ('Tim Ferriss', 3),\n ('FitnessFAQs', 2),\n ('SoundGuys', 2),\n ('MartialClub', 2),\n ('Comics Explained', 2),\n ('Mark Bell - Super Training Gym', 2),\n ('Dominik Sky', 2),\n ('Frank Medrano', 2),\n ('captainmidnight', 2),\n ('Gary Explains', 2),\n ('The Verge', 2),\n ('MoveU', 2),\n ('Android Authority', 2),\n ('SaturnoMovement', 2),\n ('Sean Ong', 2),\n ('Big Think', 2),\n ('Katie Moore', 2),\n ('Clark Elieson', 1),\n ('Strength Project', 1),\n ('Channel Pup', 1),\n ('samy kamkar', 1),\n ('Inside Gaming', 1),\n ('AnimeAjay', 1),\n ('CT Fletcher Motivation', 1),\n ('The Rock', 1),\n ('TechCrunch', 1),\n ('Dom Esposito', 1),\n ('Pat Flynn', 1),\n ('The Enigma TNG', 1),\n ('Game Informer', 1),\n ('Mashable', 1),\n ('JeromeFitness', 1),\n ('Flow', 1),\n ('Kevin Rose', 1),\n ('pigmie', 1),\n ('Jim Stoppani  PhD', 1),\n ('minutephysics', 1),\n ('GameSpot', 1),\n ('Invincible Worldwide', 1),\n ('Music for creators', 1),\n ('randomfrankp', 1),\n ('Saiyan Enigma', 1),\n ('Adam Savage’s Tested', 1),\n ('OfficialBarstarzz', 1),\n ('XDA', 1),\n ('Art of Manliness', 1),\n ('fightTIPS', 1),\n ('Snoman Gaming', 1),\n ('Vsauce2', 1),\n ('FightSmartTrav', 1),\n ('TeamFourStar', 1),\n ('Polygon', 1),\n ('Men s Health', 1),\n ('Vsauce3', 1),\n ('Animation Domination High Def', 1),\n ('Seeker', 1),\n ('Engadget', 0),\n ('How to ADHD', 0),\n ('Elliott Hulse’s STRENGTH CAMP', 0),\n ('Bulletproof', 0),\n ('Aim To Head Official', 0),\n ('alpha m.', 0),\n ('Quinn s Ideas', 0),\n ('Andrew Huberman', 0),\n ('Peter McKinnon', 0),\n ('Tee Lopes', 0),\n ('Hodge Twins', 0),\n ('ColdFusion', 0),\n ('Variant Comics', 0),\n ('MuscleTV', 0),\n ('Wisecrack', 0),\n ('Bad Lip Reading', 0),\n ('Jeff Nippard', 0),\n ('Testosterone Nation', 0),\n ('The  80s Guy', 0),\n ('Captain Sinbad', 0),\n ('SwitchForce', 0),\n ('Strength Side', 0),\n ('RGT 85', 0),\n ('VitruvianPhysique', 0),\n ('Siim Land', 0),\n ('DEATH BATTLE!', 0),\n ('Original Strength', 0),\n ('Sonic the Hedgehog', 0),\n ('Chris Stuckmann', 0),\n ('NewRetroWave', 0),\n ('Dictionary of Obscure Sorrows', 0),\n ('Jonathan Morrison', 0),\n ('Patrick (H) Willems', 0),\n ('Coffeezilla', 0),\n ('CGRundertow', 0),\n ('Microsoft Surface', 0),\n ('The Kneesovertoesguy', 0),\n ('Matty Fusaro', 0),\n ('The Closer Look', 0),\n ('Tao Physique', 0),\n ('Pocket Gamer', 0),\n ('khanacademymedicine', 0),\n ('GameTrailers', 0),\n ('Explore Gadgets', 0),\n ('ACG', 0),\n ('MJ Fitness', 0),\n ('vsauceLEANBACK', 0),\n ('Buff Dudes', 0),\n ('The Imaginary Axis', 0),\n ('ParryGripp', 0),\n ('Yuriofwind', 0),\n ('The Movement System', 0),\n ('gameranx', 0),\n ('Mastar', 0),\n ('Ido Portal', 0),\n ('Comic Book Girl 19', 0),\n ('VAHVA Fitness', 0),\n ('Eric Jacobus', 0),\n ('Fandom Entertainment', 0),\n ('melodysheep', 0),\n ('Thoughty2', 0),\n ('AppSumo', 0),\n ('Bret Contreras Glute Guy', 0),\n ('MrMobile [Michael Fisher]', 0),\n ('World Science Festival', 0),\n ('Joshua Vergara', 0),\n ('JimTV', 0),\n ('Dave Bennett', 0),\n ('Krista King', 0),\n ('MegaGWolf', 0),\n ('Charisma on Command', 0),\n ('SPARTAN BODYBUILDING', 0),\n ('Game Apologist', 0),\n ('The Thought Emporium', 0),\n ('Android Developers', 0),\n ('Mark Wildman', 0),\n ('MobileTechReview', 0),\n ('JimmyTheGiant', 0),\n ('SearingWolfe', 0),\n ('Skill Up', 0),\n ('Derren Brown', 0),\n ('Calisthenicmovement', 0),\n ('Fortress', 0),\n ('Gokuflex', 0),\n ('Josh Bryant', 0),\n ('BroScienceLife', 0),\n ('Brandon Carter', 0),\n ('Hybrid Calisthenics', 0),\n ('Implicitly Pretentious', 0),\n ('Geekdom101', 0),\n ('PhysiquesOfGreatness', 0),\n ('Sonic Central', 0),\n ('VincaniTV', 0),\n ('MovNat', 0),\n ('Audio Library — Music for content creators', 0),\n ('Practical Psychology', 0),\n ('Physionic', 0),\n ('Max Derrat', 0),\n ('Mr Sunday Movies', 0),\n ('Sorelle Amore', 0),\n ('Nintendo Life', 0),\n ('Comicstorian', 0),\n ('SCHILLER official', 0),\n ('Real Men Real Style', 0),\n ('ANLLELA SAGRA', 0),\n ('Fit Media Channel', 0),\n ('Numberphile', 0),\n ('Life Noggin', 0),\n ('Game Maker s Toolkit', 0),\n ('Mover s Odyssey', 0),\n ('What I ve Learned', 0),\n ('The Escapist', 0),\n ('Beerdy - Bruce Lee Central', 0),\n ('Deus Ex', 0),\n ('Like Stories of Old', 0),\n ('Dan Lok', 0),\n ('New Scientist', 0),\n ('Better Ideas', 0),\n ('Boxing Legends TV', 0),\n ('Quirkology', 0),\n ('RSA', 0),\n ('Arnold Schwarzenegger', 0),\n ('Curious Archive', 0),\n ('Just Write', 0),\n ('Philip Hartshorn', 0),\n ('Prozis', 0),\n ('Greg and Mitch', 0)]"
     },
     "execution_count": 64,
     "metadata": {},
     "output_type": "execute_result"
    }
   ],
   "source": [
    "channel_labels_with_out_degree"
   ],
   "metadata": {
    "collapsed": false,
    "ExecuteTime": {
     "end_time": "2024-01-02T23:43:17.695277300Z",
     "start_time": "2024-01-02T23:43:17.688195300Z"
    }
   },
   "id": "5badbb6cf84aa6f4",
   "execution_count": 64
  }
 ],
 "metadata": {
  "kernelspec": {
   "display_name": "Python 3 (ipykernel)",
   "language": "python",
   "name": "python3"
  },
  "language_info": {
   "codemirror_mode": {
    "name": "ipython",
    "version": 3
   },
   "file_extension": ".py",
   "mimetype": "text/x-python",
   "name": "python",
   "nbconvert_exporter": "python",
   "pygments_lexer": "ipython3",
   "version": "3.11.5"
  }
 },
 "nbformat": 4,
 "nbformat_minor": 5
}
