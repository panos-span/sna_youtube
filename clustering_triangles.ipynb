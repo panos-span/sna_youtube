{
 "cells": [
  {
   "cell_type": "markdown",
   "source": [
    "## Read the graphml file and filter it accordingly"
   ],
   "metadata": {
    "collapsed": false
   },
   "id": "69d29c732a11bcd4"
  },
  {
   "cell_type": "code",
   "outputs": [],
   "source": [
    "import networkx as nx\n",
    "\n",
    "# Load the graphml file again\n",
    "file_path = 'bioneer2.graphml'\n",
    "G = nx.read_graphml(file_path)\n",
    "\n",
    "# Filter the graph to only include channels with subscriberCount between 50000 and 8318210\n",
    "G = G.subgraph([node for node in G.nodes() if 50000 <= G.nodes[node]['subscribercount'] <= 8318210])"
   ],
   "metadata": {
    "collapsed": false,
    "ExecuteTime": {
     "end_time": "2024-01-24T11:43:24.124919Z",
     "start_time": "2024-01-24T11:43:23.737901900Z"
    }
   },
   "id": "17ff4de8d8ed1e2c",
   "execution_count": 1
  },
  {
   "cell_type": "code",
   "outputs": [],
   "source": [
    "# Get average clustering coefficient\n",
    "avg_clustering_coefficient = nx.average_clustering(G.to_directed())\n",
    "avg_clustering_coefficient"
   ],
   "metadata": {
    "collapsed": false
   },
   "id": "89628ffce2829c2a"
  },
  {
   "cell_type": "code",
   "outputs": [],
   "source": [
    "# Calculating the clustering coefficient for each node in the filtered graph\n",
    "clustering_coefficients = nx.clustering(G)\n",
    "\n",
    "# Calculating the distribution of clustering coefficients\n",
    "clustering_coefficient_distribution = {}\n",
    "for node, coefficient in clustering_coefficients.items():\n",
    "    if coefficient not in clustering_coefficient_distribution:\n",
    "        clustering_coefficient_distribution[coefficient] = 0\n",
    "    clustering_coefficient_distribution[coefficient] += 1\n",
    "\n",
    "# Sorting the distribution for better understanding\n",
    "sorted_clustering_coefficient_distribution = dict(sorted(clustering_coefficient_distribution.items()))\n",
    "\n",
    "sorted_clustering_coefficient_distribution"
   ],
   "metadata": {
    "collapsed": false
   },
   "id": "1d34acc9d8bd9f5a"
  },
  {
   "cell_type": "code",
   "outputs": [],
   "source": [
    "import matplotlib.pyplot as plt\n",
    "\n",
    "clustering_coefficients = nx.clustering(G)\n",
    "# Preparing data for visualization\n",
    "clustering_values = list(clustering_coefficients.values())\n",
    "\n",
    "# Create the plot\n",
    "plt.figure(figsize=(10, 6))\n",
    "plt.hist(clustering_values, bins=40, color='blue', alpha=0.7)\n",
    "plt.title('Clustering Coefficient Distribution')\n",
    "plt.xlabel('Clustering Coefficient')\n",
    "plt.ylabel('Frequency')\n",
    "plt.grid(True)\n",
    "# Display the plot\n",
    "plt.show()"
   ],
   "metadata": {
    "collapsed": false
   },
   "id": "7c0ec5c724763158"
  },
  {
   "cell_type": "code",
   "outputs": [],
   "source": [
    "clustering_coefficients = nx.clustering(G)\n",
    "clustering_coefficients"
   ],
   "metadata": {
    "collapsed": false
   },
   "id": "bc8577457371cebf"
  },
  {
   "cell_type": "code",
   "outputs": [],
   "source": [
    "# Extracting channel labels along with their clustering coefficient\n",
    "channel_labels_with_clustering = [(G.nodes[node]['label'], clustering_coefficients[node])\n",
    "                                  for node in G.nodes()]\n",
    "# Displaying the data\n",
    "channel_labels_with_clustering.sort(key=lambda x: x[1], reverse=True)\n",
    "channel_labels_with_clustering"
   ],
   "metadata": {
    "collapsed": false
   },
   "id": "d1a182d3fb10d69d"
  },
  {
   "cell_type": "code",
   "outputs": [],
   "source": [
    "import pandas as pd\n",
    "\n",
    "# Finding triangles and sorting nodes within each cycle\n",
    "triangles = list(nx.simple_cycles(G.to_directed(), length_bound=3))\n",
    "triangles = [sorted(cycle, key=lambda x: G.nodes[x]['label']) for cycle in triangles if len(cycle) == 3]\n",
    "\n",
    "# Remove duplicate triangles\n",
    "triangles = list(set(tuple(cycle) for cycle in triangles))\n",
    "\n",
    "# Create a dataframe to display the triangles with node labels\n",
    "triangles_df = pd.DataFrame([tuple(G.nodes[node]['label'] for node in triangle) for triangle in triangles],\n",
    "                            columns=['Node 1', 'Node 2', 'Node 3'])\n",
    "triangles_df"
   ],
   "metadata": {
    "collapsed": false
   },
   "id": "9d4b0748ef9bc73c"
  },
  {
   "cell_type": "markdown",
   "source": [
    "### Get triadic closure"
   ],
   "metadata": {
    "collapsed": false
   },
   "id": "c570faff357653f2"
  },
  {
   "cell_type": "code",
   "outputs": [],
   "source": [
    "triangle_closure = nx.transitivity(G)\n",
    "triangle_closure"
   ],
   "metadata": {
    "collapsed": false
   },
   "id": "4adf18e891a15c31"
  }
 ],
 "metadata": {
  "kernelspec": {
   "display_name": "Python 3",
   "language": "python",
   "name": "python3"
  },
  "language_info": {
   "codemirror_mode": {
    "name": "ipython",
    "version": 2
   },
   "file_extension": ".py",
   "mimetype": "text/x-python",
   "name": "python",
   "nbconvert_exporter": "python",
   "pygments_lexer": "ipython2",
   "version": "2.7.6"
  }
 },
 "nbformat": 4,
 "nbformat_minor": 5
}
